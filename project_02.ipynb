{
 "cells": [
  {
   "cell_type": "code",
   "execution_count": 1,
   "id": "eba42352",
   "metadata": {},
   "outputs": [],
   "source": [
    "import pandas as pd\n",
    "import numpy as np\n",
    "import matplotlib.pyplot as plt\n",
    "from datetime import datetime, timedelta, date"
   ]
  },
  {
   "cell_type": "code",
   "execution_count": 2,
   "id": "98cbac80",
   "metadata": {},
   "outputs": [],
   "source": [
    "# глобальные переменные\n",
    "\n",
    "file_path_data = r'C:\\Users\\kakorin_is\\Desktop\\JupiterNotebook_files\\Дела ЮФО на 28.02.xlsx'\n",
    "file_path_activities = r'C:\\Users\\kakorin_is\\Desktop\\JupiterNotebook_files\\активности нст на 15 февр.xlsx'\n",
    "\n",
    "dollar_exchange_rate = 70\n",
    "euro_exchange_rate = 70\n",
    "\n",
    "                 # ГГ,  ММ, ДД\n",
    "date_of_end = date(2023, 3, 31)"
   ]
  },
  {
   "cell_type": "code",
   "execution_count": 3,
   "id": "1ac296cb",
   "metadata": {},
   "outputs": [
    {
     "data": {
      "text/plain": [
       "(5555, 60)"
      ]
     },
     "execution_count": 3,
     "metadata": {},
     "output_type": "execute_result"
    }
   ],
   "source": [
    "data = pd.read_excel(file_path_data, index_col=None)\n",
    "activities = pd.read_excel(file_path_activities, index_col=None)\n",
    "\n",
    "data.shape"
   ]
  },
  {
   "cell_type": "code",
   "execution_count": 4,
   "id": "99c6f8c8",
   "metadata": {},
   "outputs": [
    {
     "data": {
      "text/plain": [
       "(852, 60)"
      ]
     },
     "execution_count": 4,
     "metadata": {},
     "output_type": "execute_result"
    }
   ],
   "source": [
    "data = data.loc[(data['Статус'] != 'Завершено') & (data['Статус'] != 'Отменено')]\n",
    "data.shape"
   ]
  },
  {
   "cell_type": "code",
   "execution_count": 5,
   "id": "ae34300a",
   "metadata": {},
   "outputs": [
    {
     "data": {
      "text/plain": [
       "В работе             843\n",
       "Приостановлено         5\n",
       "Частично передано      4\n",
       "Name: Статус, dtype: int64"
      ]
     },
     "execution_count": 5,
     "metadata": {},
     "output_type": "execute_result"
    }
   ],
   "source": [
    "data['Статус'].value_counts()"
   ]
  },
  {
   "cell_type": "code",
   "execution_count": 6,
   "id": "d2f4e682",
   "metadata": {},
   "outputs": [
    {
     "data": {
      "text/html": [
       "<div>\n",
       "<style scoped>\n",
       "    .dataframe tbody tr th:only-of-type {\n",
       "        vertical-align: middle;\n",
       "    }\n",
       "\n",
       "    .dataframe tbody tr th {\n",
       "        vertical-align: top;\n",
       "    }\n",
       "\n",
       "    .dataframe thead tr th {\n",
       "        text-align: left;\n",
       "    }\n",
       "\n",
       "    .dataframe thead tr:last-of-type th {\n",
       "        text-align: right;\n",
       "    }\n",
       "</style>\n",
       "<table border=\"1\" class=\"dataframe\">\n",
       "  <thead>\n",
       "    <tr>\n",
       "      <th></th>\n",
       "      <th></th>\n",
       "      <th>Номер по SIEBEL</th>\n",
       "    </tr>\n",
       "    <tr>\n",
       "      <th></th>\n",
       "      <th></th>\n",
       "      <th>count</th>\n",
       "    </tr>\n",
       "    <tr>\n",
       "      <th>Тип сокр</th>\n",
       "      <th>Тип</th>\n",
       "      <th></th>\n",
       "    </tr>\n",
       "  </thead>\n",
       "  <tbody>\n",
       "    <tr>\n",
       "      <th rowspan=\"2\" valign=\"top\">Банкротство МБ</th>\n",
       "      <th>Банкротство ФЛ МБ</th>\n",
       "      <td>4</td>\n",
       "    </tr>\n",
       "    <tr>\n",
       "      <th>Банкротство ЮЛ МБ</th>\n",
       "      <td>11</td>\n",
       "    </tr>\n",
       "    <tr>\n",
       "      <th>Банкротство РБ</th>\n",
       "      <th>Банкротство ФЛ РБ</th>\n",
       "      <td>525</td>\n",
       "    </tr>\n",
       "    <tr>\n",
       "      <th>Взыскание МБ</th>\n",
       "      <th>Взыскание задолженности ПА МБ</th>\n",
       "      <td>32</td>\n",
       "    </tr>\n",
       "    <tr>\n",
       "      <th>Взыскание РБ</th>\n",
       "      <th>Взыскание задолженности ПА РБ</th>\n",
       "      <td>280</td>\n",
       "    </tr>\n",
       "  </tbody>\n",
       "</table>\n",
       "</div>"
      ],
      "text/plain": [
       "                                             Номер по SIEBEL\n",
       "                                                       count\n",
       "Тип сокр       Тип                                          \n",
       "Банкротство МБ Банкротство ФЛ МБ                           4\n",
       "               Банкротство ЮЛ МБ                          11\n",
       "Банкротство РБ Банкротство ФЛ РБ                         525\n",
       "Взыскание МБ   Взыскание задолженности ПА МБ              32\n",
       "Взыскание РБ   Взыскание задолженности ПА РБ             280"
      ]
     },
     "execution_count": 6,
     "metadata": {},
     "output_type": "execute_result"
    }
   ],
   "source": [
    "data['Тип сокр'] = data['Тип']\n",
    "data['Тип сокр'] = data['Тип сокр'].convert_dtypes()\n",
    "\n",
    "data['Тип сокр'] = np.where((data['Тип сокр'] == 'Банкротство ФЛ РБ'), 'Банкротство РБ', data['Тип сокр'])\n",
    "data['Тип сокр'] = np.where((data['Тип сокр'] == 'Банкротство ЮЛ МБ'), 'Банкротство МБ', data['Тип сокр'])    \n",
    "data['Тип сокр'] = np.where((data['Тип сокр'] == 'Банкротство ФЛ МБ'), 'Банкротство МБ', data['Тип сокр'])    \n",
    "data['Тип сокр'] = np.where((data['Тип сокр'] == 'Взыскание задолженности ПА РБ'), 'Взыскание РБ', data['Тип сокр'])\n",
    "data['Тип сокр'] = np.where((data['Тип сокр'] == 'Взыскание задолженности ПА МБ'), 'Взыскание МБ', data['Тип сокр'])\n",
    "\n",
    "# проверяем все ли корректно:\n",
    "data.groupby(['Тип сокр','Тип']).agg({'Номер по SIEBEL': ['count']})"
   ]
  },
  {
   "cell_type": "markdown",
   "id": "813509ea",
   "metadata": {},
   "source": [
    "__Теперь по каждому делу нужно:__ \n",
    "\n",
    "- расставить признак СТ/НСТ, <br>\n",
    "- посчитать кол-во дней на конец квартала,<br>\n",
    "- расставить коэф., используя коэф. закрытых дел, <br>\n",
    "- посчитать по каждому Типу дел суммы, сидящие в соотв. коэффициентном периоде (нормативном периоде) - по банкротам это Сумма заявл. треб, а по остальным ОД и %, а там, где 0 - сумма по ОД и %.\n",
    "\n",
    "Ранее учтенные буду учитывать, т.к. в данном случае мы смотрим какие суммы зависли на суд. этапе.<br>\n",
    "Обращение взыскания на залог после ИНН также буду считать, т.к. залог это покрытие неисполненного долга.\n",
    "\n",
    "Сначала преобразую колонки дат и сумм, а потом двинемся по порядку."
   ]
  },
  {
   "cell_type": "code",
   "execution_count": 7,
   "id": "4d4425d2",
   "metadata": {},
   "outputs": [
    {
     "data": {
      "text/plain": [
       "СТ     799\n",
       "НСТ     74\n",
       "Name: СТ/НСТ, dtype: int64"
      ]
     },
     "execution_count": 7,
     "metadata": {},
     "output_type": "execute_result"
    }
   ],
   "source": [
    "# Функция преобразования даты\n",
    "def fix_date(some_date):\n",
    "    some_date = some_date.date()\n",
    "    \n",
    "    return some_date\n",
    "\n",
    "# Специально делаю отдельный столбец к корректной формой даты, чтобы можно было потом сравнить\n",
    "data['Дата создания'] = data['Дата создания дела'].apply(lambda x: fix_date(x))\n",
    "\n",
    "# подтягиваю НСТ\n",
    "activities = activities.loc[:, ['Судебное дело', 'Статус']]\n",
    "activities.rename(columns={'Судебное дело' : 'Номер по SIEBEL', 'Статус': 'Статус активности нст'}, inplace=True)\n",
    "activities['Статус активности нст'].replace(\"Запланировано\", \"Завершено\", inplace=True)\n",
    "activities = activities.loc[activities['Статус активности нст'] == 'Завершено']\n",
    "data = pd.merge(data, activities,  on ='Номер по SIEBEL', how ='left')\n",
    "\n",
    "# исходя из наличия корректных активностей, заполняем поле СТ/НСТ\n",
    "data['СТ/НСТ'] = np.where(data['Статус активности нст'] == 'Завершено' , 'НСТ', 'СТ')\n",
    "data['СТ/НСТ'].value_counts()"
   ]
  },
  {
   "cell_type": "code",
   "execution_count": 8,
   "id": "69e37640",
   "metadata": {},
   "outputs": [],
   "source": [
    "# корректирую суммы заявл.требований\n",
    "def replace_and_fix_values(x):\n",
    "    if type(x) == str: # обхожу ошибку типа данных, когда встречается ноль\n",
    "        \n",
    "        # обрабатываем Руб.\n",
    "        x_fixed = x.replace(\"Руб.\", \"\")\n",
    "        \n",
    "        # приводим в корректный вид для преобразования в числовой формат\n",
    "        x_fixed = x_fixed.replace(\" \", \"\")    # пробелы между цифрами нужно также убрать\n",
    "        x_fixed = x_fixed.replace(\",\", \".\")   # в питоне у флоата точка вместо запятой\n",
    "        \n",
    "        # сразу убираю символ доллара и перевожу доллары в рубли\n",
    "        if '$' in x_fixed:\n",
    "            x_fixed = x_fixed.replace(\"$\", \"\")\n",
    "            x_fixed = str(float(x_fixed) * dollar_exchange_rate)  # 70 берем за текущий курс доллара\n",
    "        \n",
    "        # аналогичное для евро\n",
    "        if '€' in x_fixed:\n",
    "            x_fixed = x_fixed.replace(\"€\", \"\")\n",
    "            x_fixed = str(float(x_fixed) * euro_exchange_rate)  # на начало 2023 г. курсы валют примерно одинаковые\n",
    "        \n",
    "        return x_fixed\n",
    "    return x\n",
    "\n",
    "\n",
    "data['Сумма заявленных требований'] = data['Сумма заявленных требований'].apply(lambda x: replace_and_fix_values(x))\n",
    "\n",
    "# переписываю тип данных\n",
    "data = data.astype({'Сумма заявленных требований': np.float64})"
   ]
  },
  {
   "cell_type": "code",
   "execution_count": 9,
   "id": "e7f96985",
   "metadata": {},
   "outputs": [],
   "source": [
    "# перевожу валюту в колонках ОД и %\n",
    "data.loc[data['Валюта заявленных требований']=='USD', 'Общая сумма ПЗ по ОД'] *= dollar_exchange_rate\n",
    "data.loc[data['Валюта заявленных требований']=='USD', 'Сумма просроченных процентов'] *= dollar_exchange_rate\n",
    "\n",
    "data.loc[data['Валюта заявленных требований']=='EUR', 'Общая сумма ПЗ по ОД'] *= euro_exchange_rate\n",
    "data.loc[data['Валюта заявленных требований']=='EUR', 'Сумма просроченных процентов'] *= euro_exchange_rate"
   ]
  },
  {
   "cell_type": "code",
   "execution_count": 10,
   "id": "3fed914a",
   "metadata": {},
   "outputs": [
    {
     "data": {
      "text/html": [
       "<div>\n",
       "<style scoped>\n",
       "    .dataframe tbody tr th:only-of-type {\n",
       "        vertical-align: middle;\n",
       "    }\n",
       "\n",
       "    .dataframe tbody tr th {\n",
       "        vertical-align: top;\n",
       "    }\n",
       "\n",
       "    .dataframe thead th {\n",
       "        text-align: right;\n",
       "    }\n",
       "</style>\n",
       "<table border=\"1\" class=\"dataframe\">\n",
       "  <thead>\n",
       "    <tr style=\"text-align: right;\">\n",
       "      <th></th>\n",
       "      <th>Общая сумма ПЗ по ОД</th>\n",
       "      <th>Сумма просроченных процентов</th>\n",
       "    </tr>\n",
       "  </thead>\n",
       "  <tbody>\n",
       "    <tr>\n",
       "      <th>0</th>\n",
       "      <td>59281.32</td>\n",
       "      <td>7139.14</td>\n",
       "    </tr>\n",
       "    <tr>\n",
       "      <th>1</th>\n",
       "      <td>175467.50</td>\n",
       "      <td>46695.65</td>\n",
       "    </tr>\n",
       "    <tr>\n",
       "      <th>2</th>\n",
       "      <td>315937.21</td>\n",
       "      <td>47946.16</td>\n",
       "    </tr>\n",
       "    <tr>\n",
       "      <th>3</th>\n",
       "      <td>304797.90</td>\n",
       "      <td>17640.59</td>\n",
       "    </tr>\n",
       "    <tr>\n",
       "      <th>4</th>\n",
       "      <td>96591.70</td>\n",
       "      <td>12935.15</td>\n",
       "    </tr>\n",
       "    <tr>\n",
       "      <th>...</th>\n",
       "      <td>...</td>\n",
       "      <td>...</td>\n",
       "    </tr>\n",
       "    <tr>\n",
       "      <th>868</th>\n",
       "      <td>260353.52</td>\n",
       "      <td>20571.22</td>\n",
       "    </tr>\n",
       "    <tr>\n",
       "      <th>869</th>\n",
       "      <td>NaN</td>\n",
       "      <td>NaN</td>\n",
       "    </tr>\n",
       "    <tr>\n",
       "      <th>870</th>\n",
       "      <td>NaN</td>\n",
       "      <td>NaN</td>\n",
       "    </tr>\n",
       "    <tr>\n",
       "      <th>871</th>\n",
       "      <td>NaN</td>\n",
       "      <td>NaN</td>\n",
       "    </tr>\n",
       "    <tr>\n",
       "      <th>872</th>\n",
       "      <td>0.00</td>\n",
       "      <td>0.00</td>\n",
       "    </tr>\n",
       "  </tbody>\n",
       "</table>\n",
       "<p>873 rows × 2 columns</p>\n",
       "</div>"
      ],
      "text/plain": [
       "     Общая сумма ПЗ по ОД  Сумма просроченных процентов\n",
       "0                59281.32                       7139.14\n",
       "1               175467.50                      46695.65\n",
       "2               315937.21                      47946.16\n",
       "3               304797.90                      17640.59\n",
       "4                96591.70                      12935.15\n",
       "..                    ...                           ...\n",
       "868             260353.52                      20571.22\n",
       "869                   NaN                           NaN\n",
       "870                   NaN                           NaN\n",
       "871                   NaN                           NaN\n",
       "872                  0.00                          0.00\n",
       "\n",
       "[873 rows x 2 columns]"
      ]
     },
     "execution_count": 10,
     "metadata": {},
     "output_type": "execute_result"
    }
   ],
   "source": [
    "data.loc[:,['Общая сумма ПЗ по ОД','Сумма просроченных процентов']]"
   ]
  },
  {
   "cell_type": "code",
   "execution_count": 11,
   "id": "05c390cd",
   "metadata": {},
   "outputs": [
    {
     "data": {
      "text/plain": [
       "Банкротство РБ    525\n",
       "Банкротство МБ     16\n",
       "Name: Тип сокр, dtype: int64"
      ]
     },
     "execution_count": 11,
     "metadata": {},
     "output_type": "execute_result"
    }
   ],
   "source": [
    "#видим что наны присутствуют только в банкротных делах, потому по ним будем тянуть сумму заявл. требований\n",
    "data[pd.isnull(data['Общая сумма ПЗ по ОД'])]['Тип сокр'].value_counts()"
   ]
  },
  {
   "cell_type": "code",
   "execution_count": 12,
   "id": "3aa3d385",
   "metadata": {},
   "outputs": [],
   "source": [
    "# заменю наны на нули\n",
    "data['Общая сумма ПЗ по ОД'].fillna(0, inplace=True)\n",
    "data['Сумма просроченных процентов'].fillna(0, inplace=True) "
   ]
  },
  {
   "cell_type": "code",
   "execution_count": 13,
   "id": "505b9a2d",
   "metadata": {},
   "outputs": [
    {
     "name": "stdout",
     "output_type": "stream",
     "text": [
      "<class 'pandas.core.frame.DataFrame'>\n",
      "Int64Index: 873 entries, 0 to 872\n",
      "Data columns (total 2 columns):\n",
      " #   Column                        Non-Null Count  Dtype  \n",
      "---  ------                        --------------  -----  \n",
      " 0   Общая сумма ПЗ по ОД          873 non-null    float64\n",
      " 1   Сумма просроченных процентов  873 non-null    float64\n",
      "dtypes: float64(2)\n",
      "memory usage: 20.5 KB\n"
     ]
    }
   ],
   "source": [
    "data.loc[:,['Общая сумма ПЗ по ОД','Сумма просроченных процентов']].info()"
   ]
  },
  {
   "cell_type": "markdown",
   "id": "b1869afd",
   "metadata": {},
   "source": [
    "Обе колонки яв-ся числовыми данными, с ними можно проводить мат. операции.\n",
    "\n",
    "Считаю кол-во дней:"
   ]
  },
  {
   "cell_type": "code",
   "execution_count": 14,
   "id": "3c753069",
   "metadata": {},
   "outputs": [],
   "source": [
    "data['Дата конца'] = date_of_end #datetime(2023, 3, 31, 23, 59, 0, 1).date()\n",
    "\n",
    "\n",
    "def count_num_days(row):\n",
    "    if (row['Дата создания'] >= datetime(2022, 12, 15, 0, 0, 0, 1).date()) and \\\n",
    "    (row['Дата создания'] <= datetime(2023, 1, 19, 0, 0, 0, 1).date()):\n",
    "        date_x = row['Дата конца'] - row['Дата создания'] - timedelta(days=35)\n",
    "        return date_x.days\n",
    "\n",
    "    # для всех остальных случаев\n",
    "    date_x = row['Дата конца'] - row['Дата создания']\n",
    "    return date_x.days\n",
    "\n",
    "data['Кол-во дней'] = data.apply(count_num_days, axis=1)"
   ]
  },
  {
   "cell_type": "code",
   "execution_count": 15,
   "id": "903f6108",
   "metadata": {},
   "outputs": [
    {
     "data": {
      "text/html": [
       "<div>\n",
       "<style scoped>\n",
       "    .dataframe tbody tr th:only-of-type {\n",
       "        vertical-align: middle;\n",
       "    }\n",
       "\n",
       "    .dataframe tbody tr th {\n",
       "        vertical-align: top;\n",
       "    }\n",
       "\n",
       "    .dataframe thead th {\n",
       "        text-align: right;\n",
       "    }\n",
       "</style>\n",
       "<table border=\"1\" class=\"dataframe\">\n",
       "  <thead>\n",
       "    <tr style=\"text-align: right;\">\n",
       "      <th></th>\n",
       "      <th>Номер по SIEBEL</th>\n",
       "      <th>Статус</th>\n",
       "      <th>Сумма заявленных требований</th>\n",
       "      <th>Дата создания</th>\n",
       "      <th>Дата конца</th>\n",
       "      <th>Дата закрытия</th>\n",
       "      <th>Кол-во дней</th>\n",
       "      <th>СТ/НСТ</th>\n",
       "      <th>Статус активности нст</th>\n",
       "      <th>Тип сокр</th>\n",
       "      <th>Общая сумма ПЗ по ОД</th>\n",
       "      <th>Сумма просроченных процентов</th>\n",
       "    </tr>\n",
       "  </thead>\n",
       "  <tbody>\n",
       "    <tr>\n",
       "      <th>0</th>\n",
       "      <td>1-2922685695</td>\n",
       "      <td>В работе</td>\n",
       "      <td>120106.50</td>\n",
       "      <td>2022-10-11</td>\n",
       "      <td>2023-03-31</td>\n",
       "      <td>NaT</td>\n",
       "      <td>171</td>\n",
       "      <td>СТ</td>\n",
       "      <td>NaN</td>\n",
       "      <td>Взыскание РБ</td>\n",
       "      <td>59281.32</td>\n",
       "      <td>7139.14</td>\n",
       "    </tr>\n",
       "    <tr>\n",
       "      <th>1</th>\n",
       "      <td>1-2566500297</td>\n",
       "      <td>В работе</td>\n",
       "      <td>222163.15</td>\n",
       "      <td>2022-06-06</td>\n",
       "      <td>2023-03-31</td>\n",
       "      <td>NaT</td>\n",
       "      <td>298</td>\n",
       "      <td>СТ</td>\n",
       "      <td>NaN</td>\n",
       "      <td>Взыскание РБ</td>\n",
       "      <td>175467.50</td>\n",
       "      <td>46695.65</td>\n",
       "    </tr>\n",
       "    <tr>\n",
       "      <th>2</th>\n",
       "      <td>1-2566858573</td>\n",
       "      <td>В работе</td>\n",
       "      <td>384892.89</td>\n",
       "      <td>2022-06-06</td>\n",
       "      <td>2023-03-31</td>\n",
       "      <td>NaT</td>\n",
       "      <td>298</td>\n",
       "      <td>СТ</td>\n",
       "      <td>NaN</td>\n",
       "      <td>Взыскание РБ</td>\n",
       "      <td>315937.21</td>\n",
       "      <td>47946.16</td>\n",
       "    </tr>\n",
       "  </tbody>\n",
       "</table>\n",
       "</div>"
      ],
      "text/plain": [
       "  Номер по SIEBEL    Статус  Сумма заявленных требований Дата создания  \\\n",
       "0    1-2922685695  В работе                    120106.50    2022-10-11   \n",
       "1    1-2566500297  В работе                    222163.15    2022-06-06   \n",
       "2    1-2566858573  В работе                    384892.89    2022-06-06   \n",
       "\n",
       "   Дата конца Дата закрытия  Кол-во дней СТ/НСТ Статус активности нст  \\\n",
       "0  2023-03-31           NaT          171     СТ                   NaN   \n",
       "1  2023-03-31           NaT          298     СТ                   NaN   \n",
       "2  2023-03-31           NaT          298     СТ                   NaN   \n",
       "\n",
       "       Тип сокр  Общая сумма ПЗ по ОД  Сумма просроченных процентов  \n",
       "0  Взыскание РБ              59281.32                       7139.14  \n",
       "1  Взыскание РБ             175467.50                      46695.65  \n",
       "2  Взыскание РБ             315937.21                      47946.16  "
      ]
     },
     "execution_count": 15,
     "metadata": {},
     "output_type": "execute_result"
    }
   ],
   "source": [
    "cols_list = ['Номер по SIEBEL',  'Статус', 'Сумма заявленных требований','Дата создания', 'Дата конца',\\\n",
    "             'Дата закрытия','Кол-во дней', 'СТ/НСТ', 'Статус активности нст','Тип сокр',\\\n",
    "             'Общая сумма ПЗ по ОД', 'Сумма просроченных процентов']\n",
    "\n",
    "# пока выключаю\n",
    "# add_to_cols_list = ['Ответственный','Комментарии']\n",
    "# cols_list += add_to_cols_list\n",
    "\n",
    "data_cuted = data.loc[:, cols_list]\n",
    "data_cuted.head(3)"
   ]
  },
  {
   "cell_type": "code",
   "execution_count": 16,
   "id": "40533a6e",
   "metadata": {},
   "outputs": [],
   "source": [
    "def get_coef(row):\n",
    "    if row['СТ/НСТ'] == 'СТ':                     \n",
    "        if row['Тип сокр'] == 'Банкротство РБ':\n",
    "            if row['Кол-во дней'] <= 60:\n",
    "                return 'предцелевой'\n",
    "            if (row['Кол-во дней'] > 60) and (row['Кол-во дней'] <= 100):\n",
    "                return 'целевой'\n",
    "            if (row['Кол-во дней'] > 100) and (row['Кол-во дней'] <= 220):\n",
    "                return 'допустимый'\n",
    "            if row['Кол-во дней'] > 220:\n",
    "                return 'штрафной'\n",
    "\n",
    "        if row['Тип сокр'] == 'Банкротство МБ':\n",
    "            if row['Кол-во дней'] <= 80:\n",
    "                return 'предцелевой'\n",
    "            if (row['Кол-во дней'] > 80) and (row['Кол-во дней'] <= 170):\n",
    "                return 'целевой'\n",
    "            if (row['Кол-во дней'] > 170) and (row['Кол-во дней'] <= 290):\n",
    "                return 'допустимый'\n",
    "            if row['Кол-во дней'] > 290:\n",
    "                return 'штрафной'\n",
    "\n",
    "        if row['Тип сокр'] == 'Взыскание МБ':\n",
    "            if row['Кол-во дней'] <= 160:\n",
    "                return 'предцелевой'\n",
    "            if (row['Кол-во дней'] > 160) and (row['Кол-во дней'] <= 180):\n",
    "                return 'целевой'\n",
    "            if (row['Кол-во дней'] > 180) and (row['Кол-во дней'] <= 300):\n",
    "                return 'допустимый'\n",
    "            if row['Кол-во дней'] > 300:\n",
    "                return 'штрафной'\n",
    "\n",
    "        if row['Тип сокр'] == 'Взыскание РБ':\n",
    "            if row['Кол-во дней'] <= 160:\n",
    "                return 'предцелевой'\n",
    "            if (row['Кол-во дней'] > 160) and (row['Кол-во дней'] <= 170):\n",
    "                return 'целевой'\n",
    "            if (row['Кол-во дней'] > 170) and (row['Кол-во дней'] <= 290):\n",
    "                return 'допустимый'\n",
    "            if row['Кол-во дней'] > 290:\n",
    "                return 'штрафной'\n",
    "\n",
    "    # Блок НСТ\n",
    "    if row['Тип сокр'] == 'Банкротство РБ':\n",
    "            if row['Кол-во дней'] <= 60:\n",
    "                return 'предцелевой'\n",
    "            if (row['Кол-во дней'] > 60) and (row['Кол-во дней'] <= 250):\n",
    "                return 'целевой'\n",
    "            if (row['Кол-во дней'] > 250) and (row['Кол-во дней'] <= 370):\n",
    "                return 'допустимый'\n",
    "            if row['Кол-во дней'] > 370:\n",
    "                return 'штрафной'\n",
    "\n",
    "    if row['Тип сокр'] == 'Банкротство МБ':\n",
    "        if row['Кол-во дней'] <= 80:\n",
    "            return 'предцелевой'\n",
    "        if (row['Кол-во дней'] > 80) and (row['Кол-во дней'] <= 390):\n",
    "            return 'целевой'\n",
    "        if (row['Кол-во дней'] > 390) and (row['Кол-во дней'] <= 510):\n",
    "            return 'допустимый'\n",
    "        if row['Кол-во дней'] > 510:\n",
    "            return 'штрафной'\n",
    "\n",
    "    if row['Тип сокр'] == 'Взыскание МБ':\n",
    "        if row['Кол-во дней'] <= 180:\n",
    "            return 'предцелевой'\n",
    "        if (row['Кол-во дней'] > 180) and (row['Кол-во дней'] <= 300):\n",
    "            return 'целевой'\n",
    "        if (row['Кол-во дней'] > 300) and (row['Кол-во дней'] <= 420):\n",
    "            return 'допустимый'\n",
    "        if row['Кол-во дней'] > 420:\n",
    "            return 'штрафной'\n",
    "\n",
    "    if row['Тип сокр'] == 'Взыскание РБ':\n",
    "        if row['Кол-во дней'] <= 160:\n",
    "            return 'предцелевой'\n",
    "        if (row['Кол-во дней'] > 160) and (row['Кол-во дней'] <= 270):\n",
    "            return 'целевой'\n",
    "        if (row['Кол-во дней'] > 270) and (row['Кол-во дней'] <= 390):\n",
    "            return 'допустимый'\n",
    "        if row['Кол-во дней'] > 390:\n",
    "            return 'штрафной'\n",
    "\n",
    "                \n",
    "   \n",
    "            \n",
    "data_cuted['Коэф'] = data_cuted.apply(get_coef, axis=1)"
   ]
  },
  {
   "cell_type": "code",
   "execution_count": 17,
   "id": "1a5d0836",
   "metadata": {},
   "outputs": [
    {
     "data": {
      "text/plain": [
       "предцелевой    494\n",
       "допустимый     176\n",
       "целевой        161\n",
       "штрафной        42\n",
       "Name: Коэф, dtype: int64"
      ]
     },
     "execution_count": 17,
     "metadata": {},
     "output_type": "execute_result"
    }
   ],
   "source": [
    "data_cuted['Коэф'].value_counts()"
   ]
  },
  {
   "cell_type": "code",
   "execution_count": 18,
   "id": "798922ae",
   "metadata": {},
   "outputs": [],
   "source": [
    "def compute_summ(row):\n",
    "    # по банкротам сразу заявл. требования будем тянуть\n",
    "    if (row['Тип сокр'] == 'Банкротство РБ') or (row['Тип сокр'] == 'Банкротство МБ'):\n",
    "        return row['Сумма заявленных требований']\n",
    "\n",
    "    # по не банкротам суммируем ОД и %\n",
    "    result = row['Общая сумма ПЗ по ОД'] + row['Сумма просроченных процентов']\n",
    "    if result == 0:\n",
    "        result = row['Сумма заявленных требований']\n",
    "\n",
    "    return result\n",
    "\n",
    "data_cuted['Сумма задолженности скорр.'] = data_cuted.apply(compute_summ, axis=1)"
   ]
  },
  {
   "cell_type": "code",
   "execution_count": 19,
   "id": "f21e42a7",
   "metadata": {},
   "outputs": [
    {
     "data": {
      "text/html": [
       "<div>\n",
       "<style scoped>\n",
       "    .dataframe tbody tr th:only-of-type {\n",
       "        vertical-align: middle;\n",
       "    }\n",
       "\n",
       "    .dataframe tbody tr th {\n",
       "        vertical-align: top;\n",
       "    }\n",
       "\n",
       "    .dataframe thead th {\n",
       "        text-align: right;\n",
       "    }\n",
       "</style>\n",
       "<table border=\"1\" class=\"dataframe\">\n",
       "  <thead>\n",
       "    <tr style=\"text-align: right;\">\n",
       "      <th>Тип сокр</th>\n",
       "      <th>Банкротство МБ</th>\n",
       "      <th>Банкротство РБ</th>\n",
       "      <th>Взыскание МБ</th>\n",
       "      <th>Взыскание РБ</th>\n",
       "    </tr>\n",
       "    <tr>\n",
       "      <th>Коэф</th>\n",
       "      <th></th>\n",
       "      <th></th>\n",
       "      <th></th>\n",
       "      <th></th>\n",
       "    </tr>\n",
       "  </thead>\n",
       "  <tbody>\n",
       "    <tr>\n",
       "      <th>допустимый</th>\n",
       "      <td>1.718594e+08</td>\n",
       "      <td>8.464713e+07</td>\n",
       "      <td>2.293814e+07</td>\n",
       "      <td>56850182.15</td>\n",
       "    </tr>\n",
       "    <tr>\n",
       "      <th>предцелевой</th>\n",
       "      <td>9.086271e+07</td>\n",
       "      <td>2.023712e+08</td>\n",
       "      <td>1.927352e+08</td>\n",
       "      <td>82328265.85</td>\n",
       "    </tr>\n",
       "    <tr>\n",
       "      <th>целевой</th>\n",
       "      <td>4.259282e+07</td>\n",
       "      <td>9.745258e+07</td>\n",
       "      <td>5.734272e+07</td>\n",
       "      <td>34428530.50</td>\n",
       "    </tr>\n",
       "    <tr>\n",
       "      <th>штрафной</th>\n",
       "      <td>1.890182e+06</td>\n",
       "      <td>5.472865e+06</td>\n",
       "      <td>9.360876e+07</td>\n",
       "      <td>9312747.66</td>\n",
       "    </tr>\n",
       "  </tbody>\n",
       "</table>\n",
       "</div>"
      ],
      "text/plain": [
       "Тип сокр     Банкротство МБ  Банкротство РБ  Взыскание МБ  Взыскание РБ\n",
       "Коэф                                                                   \n",
       "допустимый     1.718594e+08    8.464713e+07  2.293814e+07   56850182.15\n",
       "предцелевой    9.086271e+07    2.023712e+08  1.927352e+08   82328265.85\n",
       "целевой        4.259282e+07    9.745258e+07  5.734272e+07   34428530.50\n",
       "штрафной       1.890182e+06    5.472865e+06  9.360876e+07    9312747.66"
      ]
     },
     "execution_count": 19,
     "metadata": {},
     "output_type": "execute_result"
    }
   ],
   "source": [
    "table_0 = pd.pivot_table(data_cuted, values='Сумма задолженности скорр.', index=['Коэф'], columns=['Тип сокр'], aggfunc=np.sum)\n",
    "table_0"
   ]
  },
  {
   "cell_type": "markdown",
   "id": "4b1a3d54",
   "metadata": {},
   "source": [
    "В условиях демонстрации материала, выключаю реальные суммы.\n",
    "\n",
    "__ВЫКЛЮЧИТЬ БЛОК ПРИ РЕАЛЬНОЙ РАБОТЕ!__\n",
    "\n",
    "\n",
    "####################################################"
   ]
  },
  {
   "cell_type": "code",
   "execution_count": 21,
   "id": "b6cd9858",
   "metadata": {},
   "outputs": [
    {
     "data": {
      "text/plain": [
       "(873, 14)"
      ]
     },
     "execution_count": 21,
     "metadata": {},
     "output_type": "execute_result"
    }
   ],
   "source": [
    "#еще раз смотрим кол-во строк\n",
    "data_cuted.shape"
   ]
  },
  {
   "cell_type": "code",
   "execution_count": 25,
   "id": "6e6a611b",
   "metadata": {},
   "outputs": [
    {
     "data": {
      "text/plain": [
       "873"
      ]
     },
     "execution_count": 25,
     "metadata": {},
     "output_type": "execute_result"
    }
   ],
   "source": [
    "# генерирую рандомные значения сумм в диапазоне от 100 тыс. до 70 млн\n",
    "import random\n",
    "\n",
    "to_replace_summ = [random.uniform(100000.00, 70000000.99) for i in range(data_cuted.shape[0])]\n",
    "len(to_replace_summ)"
   ]
  },
  {
   "cell_type": "code",
   "execution_count": 26,
   "id": "c82e432f",
   "metadata": {},
   "outputs": [
    {
     "data": {
      "text/plain": [
       "0    5.147539e+07\n",
       "1    8.392322e+06\n",
       "2    4.291503e+07\n",
       "3    3.603558e+07\n",
       "4    4.614829e+07\n",
       "Name: Сумма задолженности скорр., dtype: float64"
      ]
     },
     "execution_count": 26,
     "metadata": {},
     "output_type": "execute_result"
    }
   ],
   "source": [
    "# переписываю столбец\n",
    "data_cuted['Сумма задолженности скорр.'] = to_replace_summ\n",
    "\n",
    "data_cuted['Сумма задолженности скорр.'][:5]"
   ]
  },
  {
   "cell_type": "code",
   "execution_count": 27,
   "id": "2e96f64c",
   "metadata": {},
   "outputs": [
    {
     "data": {
      "text/plain": [
       "[51475387.07098438,\n",
       " 8392322.328601189,\n",
       " 42915028.293123014,\n",
       " 36035579.506932944,\n",
       " 46148294.52172305]"
      ]
     },
     "execution_count": 27,
     "metadata": {},
     "output_type": "execute_result"
    }
   ],
   "source": [
    "# перезапись прошла успешно\n",
    "to_replace_summ[:5]"
   ]
  },
  {
   "cell_type": "markdown",
   "id": "01cbfdb2",
   "metadata": {},
   "source": [
    "конец блока для выключения.<br>\n",
    "##############################################################"
   ]
  },
  {
   "cell_type": "code",
   "execution_count": 28,
   "id": "2ae0c278",
   "metadata": {},
   "outputs": [
    {
     "data": {
      "text/html": [
       "<div>\n",
       "<style scoped>\n",
       "    .dataframe tbody tr th:only-of-type {\n",
       "        vertical-align: middle;\n",
       "    }\n",
       "\n",
       "    .dataframe tbody tr th {\n",
       "        vertical-align: top;\n",
       "    }\n",
       "\n",
       "    .dataframe thead th {\n",
       "        text-align: right;\n",
       "    }\n",
       "</style>\n",
       "<table border=\"1\" class=\"dataframe\">\n",
       "  <thead>\n",
       "    <tr style=\"text-align: right;\">\n",
       "      <th>Тип сокр</th>\n",
       "      <th>Банкротство МБ</th>\n",
       "      <th>Банкротство РБ</th>\n",
       "      <th>Взыскание МБ</th>\n",
       "      <th>Взыскание РБ</th>\n",
       "    </tr>\n",
       "    <tr>\n",
       "      <th>Коэф</th>\n",
       "      <th></th>\n",
       "      <th></th>\n",
       "      <th></th>\n",
       "      <th></th>\n",
       "    </tr>\n",
       "  </thead>\n",
       "  <tbody>\n",
       "    <tr>\n",
       "      <th>допустимый</th>\n",
       "      <td>1.209459e+08</td>\n",
       "      <td>3.979363e+09</td>\n",
       "      <td>1.782464e+08</td>\n",
       "      <td>2.276017e+09</td>\n",
       "    </tr>\n",
       "    <tr>\n",
       "      <th>предцелевой</th>\n",
       "      <td>1.993846e+08</td>\n",
       "      <td>9.983403e+09</td>\n",
       "      <td>4.805262e+08</td>\n",
       "      <td>5.830686e+09</td>\n",
       "    </tr>\n",
       "    <tr>\n",
       "      <th>целевой</th>\n",
       "      <td>1.678284e+08</td>\n",
       "      <td>4.144692e+09</td>\n",
       "      <td>2.789525e+08</td>\n",
       "      <td>1.272445e+09</td>\n",
       "    </tr>\n",
       "    <tr>\n",
       "      <th>штрафной</th>\n",
       "      <td>3.976788e+07</td>\n",
       "      <td>1.911837e+08</td>\n",
       "      <td>4.548948e+08</td>\n",
       "      <td>7.317816e+08</td>\n",
       "    </tr>\n",
       "  </tbody>\n",
       "</table>\n",
       "</div>"
      ],
      "text/plain": [
       "Тип сокр     Банкротство МБ  Банкротство РБ  Взыскание МБ  Взыскание РБ\n",
       "Коэф                                                                   \n",
       "допустимый     1.209459e+08    3.979363e+09  1.782464e+08  2.276017e+09\n",
       "предцелевой    1.993846e+08    9.983403e+09  4.805262e+08  5.830686e+09\n",
       "целевой        1.678284e+08    4.144692e+09  2.789525e+08  1.272445e+09\n",
       "штрафной       3.976788e+07    1.911837e+08  4.548948e+08  7.317816e+08"
      ]
     },
     "execution_count": 28,
     "metadata": {},
     "output_type": "execute_result"
    }
   ],
   "source": [
    "# делаем заново сводную таблицу\n",
    "table = pd.pivot_table(data_cuted, values='Сумма задолженности скорр.', index=['Коэф'], columns=['Тип сокр'], aggfunc=np.sum)\n",
    "table"
   ]
  },
  {
   "cell_type": "markdown",
   "id": "993f9e18",
   "metadata": {},
   "source": [
    "__Здесь практикуюсь выводить пироговую таблицу:__\n",
    "\n",
    "Финальная таблица будет ниже"
   ]
  },
  {
   "cell_type": "code",
   "execution_count": 35,
   "id": "b31936b0",
   "metadata": {},
   "outputs": [
    {
     "data": {
      "image/png": "[encoded data removed]",
      "text/plain": [
       "<Figure size 1296x1296 with 5 Axes>"
      ]
     },
     "metadata": {},
     "output_type": "display_data"
    }
   ],
   "source": [
    "import decimal\n",
    "def make_money_view(some_float):\n",
    "    n = decimal.Decimal(f'{some_float: .2f}')\n",
    "    return '{0:,}'.format(n).replace(',', ' ')\n",
    "\n",
    "def make_plot(data):\n",
    "    type_bussines =  sorted(list(data['Тип сокр'].unique()))\n",
    "    \n",
    "    plt.figure(figsize=(30, 30))\n",
    "    \n",
    "    axes_el = 1\n",
    "    for i  in type_bussines:\n",
    "        type_bussines_table = data.loc[data['Тип сокр'] == i]\n",
    "        sum_yellow = type_bussines_table.loc[type_bussines_table['Коэф'] == 'допустимый']['Сумма задолженности скорр.'].values.sum()\n",
    "        sum_yellow = make_money_view(sum_yellow)\n",
    "\n",
    "        sum_limegreen = type_bussines_table.loc[type_bussines_table['Коэф'] == 'предцелевой']['Сумма задолженности скорр.'].values.sum()\n",
    "        sum_limegreen = make_money_view(sum_limegreen)\n",
    "\n",
    "        sum_yellowgreen = type_bussines_table.loc[type_bussines_table['Коэф'] == 'целевой']['Сумма задолженности скорр.'].values.sum()\n",
    "        sum_yellowgreen = make_money_view(sum_yellowgreen)\n",
    "\n",
    "        sum_red = type_bussines_table.loc[type_bussines_table['Коэф'] == 'штрафной']['Сумма задолженности скорр.'].values.sum()\n",
    "        sum_red = make_money_view(sum_red)\n",
    "        \n",
    "        if axes_el == 1:\n",
    "            plt.subplot(3, 3, axes_el)\n",
    "        if axes_el == 2:\n",
    "            plt.subplot(3, 3, axes_el+1)\n",
    "        if axes_el == 3:\n",
    "            plt.subplot(3, 3, axes_el+4)\n",
    "        if axes_el == 4:\n",
    "            plt.subplot(3, 3, axes_el+5)\n",
    "            \n",
    "        type_bussines_table.groupby(['Коэф'])['Сумма задолженности скорр.'].sum().plot(\n",
    "            kind='pie',\n",
    "            figsize=(15,15),\n",
    "            colors=[ 'yellow', 'limegreen','yellowgreen','red'], \n",
    "        )\n",
    "        plt.title(i)\n",
    "        plt.ylabel('')\n",
    "        plt.legend((sum_yellow, sum_limegreen,sum_yellowgreen, sum_red ),  bbox_to_anchor=(0.3 , 1.3), loc='upper left', borderaxespad= 0)\n",
    "        axes_el +=1\n",
    "        \n",
    "    plt.subplot(3, 3, 5)\n",
    "    plt.title('Общее')\n",
    "    data.groupby(['Коэф'])['Сумма задолженности скорр.'].sum().plot(\n",
    "        kind='pie',\n",
    "        figsize=(18,18),\n",
    "        colors=[ 'yellow', 'limegreen','yellowgreen','red'], \n",
    "\n",
    "    )\n",
    "    plt.ylabel('')\n",
    "    plt.legend(bbox_to_anchor=( 0.35 , 1.3 ), loc='upper left', borderaxespad= 0)\n",
    "    \n",
    "make_plot(data_cuted)#, make_plot(\"Банкротство MБ\"), make_plot(\"Взыскание РБ\"),make_plot(\"Взыскание МБ\")"
   ]
  },
  {
   "cell_type": "markdown",
   "id": "8088d93a",
   "metadata": {
    "scrolled": true
   },
   "source": [
    "На будущее  - добавить в центральный пирог суммы.\n",
    "\n",
    "\n",
    "Далее тестовая часть в поиске оптимальной формы (нет нормирования), сохраняю себе на память."
   ]
  },
  {
   "cell_type": "code",
   "execution_count": 36,
   "id": "c3616eec",
   "metadata": {},
   "outputs": [
    {
     "data": {
      "text/plain": [
       "Тип сокр        Коэф       \n",
       "Банкротство МБ  допустимый     1.209459e+08\n",
       "                предцелевой    1.993846e+08\n",
       "                целевой        1.678284e+08\n",
       "                штрафной       3.976788e+07\n",
       "Банкротство РБ  допустимый     3.979363e+09\n",
       "                предцелевой    9.983403e+09\n",
       "                целевой        4.144692e+09\n",
       "                штрафной       1.911837e+08\n",
       "Взыскание МБ    допустимый     1.782464e+08\n",
       "                предцелевой    4.805262e+08\n",
       "                целевой        2.789525e+08\n",
       "                штрафной       4.548948e+08\n",
       "Взыскание РБ    допустимый     2.276017e+09\n",
       "                предцелевой    5.830686e+09\n",
       "                целевой        1.272445e+09\n",
       "                штрафной       7.317816e+08\n",
       "Name: Сумма задолженности скорр., dtype: float64"
      ]
     },
     "execution_count": 36,
     "metadata": {},
     "output_type": "execute_result"
    }
   ],
   "source": [
    "table1 = data_cuted.groupby(['Тип сокр', 'Коэф'])['Сумма задолженности скорр.'].sum()\n",
    "#data1 = pd.DataFrame(table1)\n",
    "table1"
   ]
  },
  {
   "cell_type": "code",
   "execution_count": 37,
   "id": "82404cfc",
   "metadata": {},
   "outputs": [
    {
     "data": {
      "text/plain": [
       "(array([1.20945910e+08, 1.99384605e+08, 1.67828427e+08, 3.97678789e+07,\n",
       "        3.97936261e+09, 9.98340269e+09, 4.14469228e+09, 1.91183685e+08,\n",
       "        1.78246403e+08, 4.80526166e+08, 2.78952533e+08, 4.54894766e+08,\n",
       "        2.27601721e+09, 5.83068585e+09, 1.27244511e+09, 7.31781645e+08]),\n",
       " 16)"
      ]
     },
     "execution_count": 37,
     "metadata": {},
     "output_type": "execute_result"
    }
   ],
   "source": [
    "table1.values, len(table1.values)"
   ]
  },
  {
   "cell_type": "code",
   "execution_count": 38,
   "id": "cff35152",
   "metadata": {},
   "outputs": [
    {
     "data": {
      "text/plain": [
       "array([3.97678789e+07, 1.91183685e+08, 4.54894766e+08, 7.31781645e+08])"
      ]
     },
     "execution_count": 38,
     "metadata": {},
     "output_type": "execute_result"
    }
   ],
   "source": [
    "# Взять из списка элементы со 4-го по 16-ой с шагом 4\n",
    "table1.values[3:16:4]"
   ]
  },
  {
   "cell_type": "markdown",
   "id": "35c6f5a7",
   "metadata": {},
   "source": [
    "##### Из table1 буду делать 4 списка по каждому коэффициентному периоду чтобы потом все это подать в .plot.barh"
   ]
  },
  {
   "cell_type": "code",
   "execution_count": 39,
   "id": "ad295947",
   "metadata": {},
   "outputs": [
    {
     "data": {
      "image/png": "[encoded data removed]",
      "text/plain": [
       "<Figure size 432x288 with 1 Axes>"
      ]
     },
     "metadata": {
      "needs_background": "light"
     },
     "output_type": "display_data"
    }
   ],
   "source": [
    "#data_cuted.groupby(['Тип сокр'])['Сумма задолженности скорр.'].sum().plot.barh(stacked=True)\n",
    "index = ['Банкротство МБ', 'Банкротство РБ', 'Взыскание МБ',\n",
    "         'Взыскание РБ']\n",
    "\n",
    "\n",
    "yellow = table1.values[0:16:4]\n",
    "red = table1.values[3:16:4]\n",
    "green = table1.values[1:16:4]\n",
    "yellowgreen = table1.values[2:16:4]\n",
    "\n",
    "\n",
    "df = pd.DataFrame({'green': green,\n",
    "                   'yellowgreen': yellowgreen,\n",
    "                   'yellow': yellow,\n",
    "                   'red': red}, index=index)\n",
    "\n",
    "ax = df.plot.barh(stacked=True, color={\"green\": 'limegreen', \"yellowgreen\": 'yellowgreen', \"yellow\": 'yellow',  \"red\": 'red'})\n",
    "\n"
   ]
  },
  {
   "cell_type": "markdown",
   "id": "0a014d5b",
   "metadata": {},
   "source": [
    "Получилось не совсем то, что хотел.\n",
    "\n",
    "Идем дальше. Сначала переименую названия коэффициентных периодов, т.к. хочу чтобы нормативные периоды располагались в определенной последовательность - салатовый д.б. перед ярко зеленым."
   ]
  },
  {
   "cell_type": "code",
   "execution_count": 40,
   "id": "0120b699",
   "metadata": {},
   "outputs": [],
   "source": [
    "data_cuted['Коэф'] = np.where((data_cuted['Коэф'] == 'предцелевой'), '1.предцелевой', data_cuted['Коэф'])\n",
    "data_cuted['Коэф'] = np.where((data_cuted['Коэф'] == 'целевой'), '2.целевой', data_cuted['Коэф'])\n",
    "data_cuted['Коэф'] = np.where((data_cuted['Коэф'] == 'допустимый'), '3.допустимый', data_cuted['Коэф'])\n",
    "data_cuted['Коэф'] = np.where((data_cuted['Коэф'] == 'штрафной'), '4.штрафной', data_cuted['Коэф'])"
   ]
  },
  {
   "cell_type": "code",
   "execution_count": 41,
   "id": "4b9b0cca",
   "metadata": {},
   "outputs": [
    {
     "data": {
      "text/plain": [
       "Тип сокр        Коэф         \n",
       "Банкротство МБ  1.предцелевой    1.993846e+08\n",
       "                2.целевой        1.678284e+08\n",
       "                3.допустимый     1.209459e+08\n",
       "                4.штрафной       3.976788e+07\n",
       "Банкротство РБ  1.предцелевой    9.983403e+09\n",
       "                2.целевой        4.144692e+09\n",
       "                3.допустимый     3.979363e+09\n",
       "                4.штрафной       1.911837e+08\n",
       "Взыскание МБ    1.предцелевой    4.805262e+08\n",
       "                2.целевой        2.789525e+08\n",
       "                3.допустимый     1.782464e+08\n",
       "                4.штрафной       4.548948e+08\n",
       "Взыскание РБ    1.предцелевой    5.830686e+09\n",
       "                2.целевой        1.272445e+09\n",
       "                3.допустимый     2.276017e+09\n",
       "                4.штрафной       7.317816e+08\n",
       "Name: Сумма задолженности скорр., dtype: float64"
      ]
     },
     "execution_count": 41,
     "metadata": {},
     "output_type": "execute_result"
    }
   ],
   "source": [
    "table1 = data_cuted.groupby(['Тип сокр', 'Коэф'])['Сумма задолженности скорр.'].sum()\n",
    "table1"
   ]
  },
  {
   "cell_type": "markdown",
   "id": "3192b1c2",
   "metadata": {},
   "source": [
    "__Финальная часть написания графика.__\n",
    "\n",
    "Поскольку хочу чтобы на график выводились суммы по каждому периоду и кол-во дел, то пишу ф-цию compute_dict:"
   ]
  },
  {
   "cell_type": "code",
   "execution_count": 43,
   "id": "3a998962",
   "metadata": {},
   "outputs": [],
   "source": [
    "import decimal\n",
    "def make_money_view(some_float):\n",
    "    n = decimal.Decimal(f'{some_float: .2f}')\n",
    "    return '{0:,}'.format(n).replace(',', ' ')\n",
    "\n",
    "\n",
    "def compute_dict(data):\n",
    "    result = {}\n",
    "    type_bussines =  sorted(list(data['Тип сокр'].unique()))\n",
    "    for i  in type_bussines:\n",
    "        hidden_dict = {}\n",
    "        \n",
    "        # беру тип, например Банкротство РБ\n",
    "        type_bussines_table = data.loc[data['Тип сокр'] == i]\n",
    "        \n",
    "        sum_yellow = type_bussines_table.loc[type_bussines_table['Коэф'] == '3.допустимый']['Сумма задолженности скорр.'].values.sum()\n",
    "        yellow_len = type_bussines_table.loc[type_bussines_table['Коэф'] == '3.допустимый']['Сумма задолженности скорр.'].shape[0]\n",
    "        hidden_dict['допустимый'] = [make_money_view(sum_yellow), yellow_len]\n",
    "\n",
    "\n",
    "        sum_limegreen = type_bussines_table.loc[type_bussines_table['Коэф'] == '1.предцелевой']['Сумма задолженности скорр.'].values.sum()\n",
    "        limegreen_len = type_bussines_table.loc[type_bussines_table['Коэф'] == '1.предцелевой']['Сумма задолженности скорр.'].shape[0]\n",
    "        hidden_dict['предцелевой'] = [make_money_view(sum_limegreen), limegreen_len]\n",
    "        \n",
    "        sum_yellowgreen = type_bussines_table.loc[type_bussines_table['Коэф'] == '2.целевой']['Сумма задолженности скорр.'].values.sum()\n",
    "        yellowgreen_len = type_bussines_table.loc[type_bussines_table['Коэф'] == '2.целевой']['Сумма задолженности скорр.'].shape[0]\n",
    "        hidden_dict['целевой'] = [make_money_view(sum_yellowgreen), yellowgreen_len]\n",
    "        \n",
    "        sum_red = type_bussines_table.loc[type_bussines_table['Коэф'] == '4.штрафной']['Сумма задолженности скорр.'].values.sum()\n",
    "        red_len = type_bussines_table.loc[type_bussines_table['Коэф'] == '4.штрафной']['Сумма задолженности скорр.'].shape[0]\n",
    "        hidden_dict['штрафной'] = [make_money_view(sum_red),red_len]\n",
    "        \n",
    "        result[i] = hidden_dict\n",
    "    return result"
   ]
  },
  {
   "cell_type": "code",
   "execution_count": 44,
   "id": "b85d5e86",
   "metadata": {},
   "outputs": [
    {
     "data": {
      "text/plain": [
       "{'Банкротство МБ': {'допустимый': ['120 945 909.85', 3],\n",
       "  'предцелевой': ['199 384 604.82', 7],\n",
       "  'целевой': ['167 828 427.48', 5],\n",
       "  'штрафной': ['39 767 878.89', 1]},\n",
       " 'Банкротство РБ': {'допустимый': ['3 979 362 609.67', 107],\n",
       "  'предцелевой': ['9 983 402 691.67', 299],\n",
       "  'целевой': ['4 144 692 281.03', 114],\n",
       "  'штрафной': ['191 183 684.55', 5]},\n",
       " 'Взыскание МБ': {'допустимый': ['178 246 403.44', 5],\n",
       "  'предцелевой': ['480 526 165.54', 15],\n",
       "  'целевой': ['278 952 533.28', 7],\n",
       "  'штрафной': ['454 894 766.35', 12]},\n",
       " 'Взыскание РБ': {'допустимый': ['2 276 017 207.67', 61],\n",
       "  'предцелевой': ['5 830 685 849.04', 173],\n",
       "  'целевой': ['1 272 445 105.45', 35],\n",
       "  'штрафной': ['731 781 645.37', 24]}}"
      ]
     },
     "execution_count": 44,
     "metadata": {},
     "output_type": "execute_result"
    }
   ],
   "source": [
    "result = compute_dict(data_cuted)\n",
    "result"
   ]
  },
  {
   "cell_type": "markdown",
   "id": "bde48ca2",
   "metadata": {},
   "source": [
    "__Вывожу график.__\n",
    "\n",
    "Примечание - в последующих выводах придется вручную по горизонтали располагать цифры - тут подогнал."
   ]
  },
  {
   "cell_type": "code",
   "execution_count": 70,
   "id": "0404d77f",
   "metadata": {},
   "outputs": [
    {
     "data": {
      "text/plain": [
       "Text(95, 0.0, '1')"
      ]
     },
     "execution_count": 70,
     "metadata": {},
     "output_type": "execute_result"
    },
    {
     "data": {
      "image/png": "[encoded data removed]",
      "text/plain": [
       "<Figure size 1656x648 with 1 Axes>"
      ]
     },
     "metadata": {
      "needs_background": "light"
     },
     "output_type": "display_data"
    }
   ],
   "source": [
    "%matplotlib inline\n",
    "\n",
    "\n",
    "\n",
    "# Set general font size\n",
    "plt.rcParams['font.size'] = '16'\n",
    "\n",
    "# # Set tick font size\n",
    "# for label in (ax.get_xticklabels() + ax.get_yticklabels()):\n",
    "#     label.set_fontsize(16)\n",
    "\n",
    "table1.div(table1.sum(level='Тип сокр')).mul(100).unstack('Коэф').plot.barh(stacked=True,\\\n",
    "    color={\"2.целевой\": 'limegreen', \"1.предцелевой\": 'yellowgreen', \"3.допустимый\": 'yellow',  \"4.штрафной\": 'red'},\\\n",
    "    figsize=(23, 9), width = 0.5, alpha=0.8)\n",
    "                                                                           \n",
    "\n",
    "plt.ylabel('', fontsize=17)\n",
    "plt.legend(bbox_to_anchor=( 1 , 1 ), loc='upper left', borderaxespad= 0, fontsize=15)      \n",
    "\n",
    "# отображение по салатовым [0] -сумма, [1] - кол-во дел\n",
    "plt.text(14.5, 3.3, result['Взыскание РБ']['предцелевой'][0], fontsize=14)\n",
    "plt.text(18.5, 2.3, result['Взыскание МБ']['предцелевой'][0], fontsize=14)\n",
    "plt.text(14.5, 1.3, result['Банкротство РБ']['предцелевой'][0], fontsize=14)\n",
    "plt.text(17.5, 0.3, result['Банкротство МБ']['предцелевой'][0], fontsize=14)\n",
    "#------------\n",
    "plt.text(18.5, 3.0, result['Взыскание РБ']['предцелевой'][1], fontsize=14)\n",
    "plt.text(21.5, 2.0, result['Взыскание МБ']['предцелевой'][1], fontsize=14)\n",
    "plt.text(20.5, 1.0, result['Банкротство РБ']['предцелевой'][1], fontsize=14)\n",
    "plt.text(20.5, 0.0, result['Банкротство МБ']['предцелевой'][1], fontsize=14)\n",
    "\n",
    "# отображение по ярко зеленым\n",
    "plt.text(59.5, 3.3, result['Взыскание РБ']['целевой'][0], fontsize=14)\n",
    "plt.text(40.5, 2.3, result['Взыскание МБ']['целевой'][0], fontsize=14)\n",
    "plt.text(60.5, 1.3, result['Банкротство РБ']['целевой'][0], fontsize=14)\n",
    "plt.text(50.5, 0.3, result['Банкротство МБ']['целевой'][0], fontsize=14)\n",
    "#------------\n",
    "plt.text(63.5, 3.0, result['Взыскание РБ']['целевой'][1], fontsize=14)\n",
    "plt.text(43.5, 2.0, result['Взыскание МБ']['целевой'][1], fontsize=14)\n",
    "plt.text(64.5, 1.0, result['Банкротство РБ']['целевой'][1], fontsize=14)\n",
    "plt.text(54.5, 0.0, result['Банкротство МБ']['целевой'][1], fontsize=14)\n",
    "\n",
    "# отображение по желтым\n",
    "plt.text(74.5, 3.3, result['Взыскание РБ']['допустимый'][0], fontsize=14)\n",
    "plt.text(57.5, 2.3, result['Взыскание МБ']['допустимый'][0], fontsize=14)\n",
    "plt.text(80.5, 1.3, result['Банкротство РБ']['допустимый'][0], fontsize=14)\n",
    "plt.text(74.5, 0.3, result['Банкротство МБ']['допустимый'][0], fontsize=14)\n",
    "#------------\n",
    "plt.text(78.5, 3.0, result['Взыскание РБ']['допустимый'][1], fontsize=14)\n",
    "plt.text(60.5, 2.0, result['Взыскание МБ']['допустимый'][1], fontsize=14)\n",
    "plt.text(82, 1.0, result['Банкротство РБ']['допустимый'][1], fontsize=14)\n",
    "plt.text(79.5, 0.0, result['Банкротство МБ']['допустимый'][1], fontsize=14)\n",
    "\n",
    "# отображение по красным\n",
    "plt.text(92.5, 3.3, result['Взыскание РБ']['штрафной'][0], fontsize=14)\n",
    "plt.text(82.5, 2.3, result['Взыскание МБ']['штрафной'][0], fontsize=14)\n",
    "plt.text(94.5, 1.3, result['Банкротство РБ']['штрафной'][0], fontsize=14)\n",
    "plt.text(92.5, 0.3, result['Банкротство МБ']['штрафной'][0], fontsize=14)\n",
    "#------------\n",
    "plt.text(96.5, 3.0, result['Взыскание РБ']['штрафной'][1], fontsize=14)\n",
    "plt.text(86.5, 2.0, result['Взыскание МБ']['штрафной'][1], fontsize=14)\n",
    "plt.text(99, 1.0, result['Банкротство РБ']['штрафной'][1], fontsize=14)\n",
    "plt.text(95, 0.0, result['Банкротство МБ']['штрафной'][1], fontsize=14)\n",
    "\n",
    "#fig.tight_layout() #  если несколько графиков в осях (тут такого нет),должен нормальные расстояния выбирать\n",
    "\n",
    "\n",
    "# сохраняю график в картинку чтобы использовать в презентациях\n",
    "plt.savefig('saved_figure.png')"
   ]
  },
  {
   "cell_type": "markdown",
   "id": "581ba860",
   "metadata": {},
   "source": [
    "Полезные ссылки: <br>\n",
    "https://matplotlib.org/stable/tutorials/colors/colormaps.html <br>\n",
    "https://www.codecamp.ru/blog/matplotlib-stacked-bar-chart/"
   ]
  },
  {
   "cell_type": "code",
   "execution_count": null,
   "id": "a19b3edf",
   "metadata": {},
   "outputs": [],
   "source": [
    "# Черновик\n",
    "\n",
    "(df['count'].div(df.['count'].sum(level='player'))\n",
    "            .mul(100)\n",
    "            .unstack('action')\n",
    "            .plot.barh(stacked=True)\n",
    ")\n",
    "\n",
    "этот попробовать потом\n",
    "(df.groupby('players')['action']\n",
    "   .value_counts(normalize=True)\n",
    "   .unstack('action')\n",
    "   .plot.barh(stacked=True)\n",
    ")  "
   ]
  }
 ],
 "metadata": {
  "kernelspec": {
   "display_name": "Python 3",
   "language": "python",
   "name": "python3"
  },
  "language_info": {
   "codemirror_mode": {
    "name": "ipython",
    "version": 3
   },
   "file_extension": ".py",
   "mimetype": "text/x-python",
   "name": "python",
   "nbconvert_exporter": "python",
   "pygments_lexer": "ipython3",
   "version": "3.8.8"
  }
 },
 "nbformat": 4,
 "nbformat_minor": 5
}
