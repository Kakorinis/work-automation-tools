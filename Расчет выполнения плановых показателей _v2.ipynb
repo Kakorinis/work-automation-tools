{
 "cells": [
  {
   "cell_type": "code",
   "execution_count": 2,
   "id": "5f7091d3",
   "metadata": {},
   "outputs": [],
   "source": [
    "import pandas as pd\n",
    "import numpy as np\n",
    "from datetime import datetime, timedelta, date"
   ]
  },
  {
   "cell_type": "markdown",
   "id": "e7e27e20",
   "metadata": {},
   "source": [
    "## Загрузка данных:"
   ]
  },
  {
   "cell_type": "code",
   "execution_count": 3,
   "id": "c890ff9e",
   "metadata": {
    "scrolled": true
   },
   "outputs": [],
   "source": [
    "# Глобальные переменные \n",
    "\n",
    "dollar_exchange_rate = 70\n",
    "euro_exchange_rate = 70  \n",
    "\n",
    "                            #ГГ  ММ ДД\n",
    "date_of_quarter_begin = date(2023, 1, 1)\n",
    "date_of_quarter_end = date(2023, 3, 31)\n",
    "\n",
    "name_for_table = 'Таблица выполнения плана.xlsx'\n",
    "name_for_file_output = 'Файл расчета выполнения плана ЮФО.xlsx'\n",
    "\n",
    "# названия файлов загрузки\n",
    "path_data_with_deals = r\"C:\\Users\\kakorin_is\\Desktop\\JupiterNotebook_files\\Дела ЮФО на 28.02.xlsx\"\n",
    "path_activities =  r'C:\\Users\\kakorin_is\\Desktop\\JupiterNotebook_files\\активности нст на 15 февр.xlsx'\n",
    "path_earliers_doned = r'C:\\Users\\kakorin_is\\Desktop\\Свод\\Перечень учтенных ранее ПА (с учетом 3 квартала 2022 года).xlsx'"
   ]
  },
  {
   "cell_type": "code",
   "execution_count": 4,
   "id": "d2bb3744",
   "metadata": {},
   "outputs": [],
   "source": [
    "dataset = pd.read_excel(path_data_with_deals, index_col=None)\n",
    "\n",
    "earliers_doned = pd.read_excel(path_earliers_doned, index_col=None)\n",
    "\n",
    "activities = pd.read_excel(path_activities, index_col=None)\n"
   ]
  },
  {
   "cell_type": "code",
   "execution_count": 5,
   "id": "127ed90d",
   "metadata": {},
   "outputs": [
    {
     "data": {
      "text/plain": [
       "(5555, 60)"
      ]
     },
     "execution_count": 5,
     "metadata": {},
     "output_type": "execute_result"
    }
   ],
   "source": [
    "dataset.shape"
   ]
  },
  {
   "cell_type": "code",
   "execution_count": 6,
   "id": "38b7b1b9",
   "metadata": {},
   "outputs": [
    {
     "data": {
      "text/plain": [
       "Index(['Номер по SIEBEL', 'Ответственный', 'Договор', 'Заемщик ФЛ',\n",
       "       'Заемщик КМБ', 'Тип', 'РОО', 'Стадия', 'Сумма заявленных требований',\n",
       "       'Номер дела в суде (1-ая инстанция)', 'Суд', 'Передача обращений в суд',\n",
       "       'Критерий нестандартности', 'Дата судебного решения',\n",
       "       'Дата последнего судебного заседания',\n",
       "       'Результат последнего судебного заседания', 'Тип последней активности',\n",
       "       'Дата начала последней активности', 'Сумма взыскания по решению суда',\n",
       "       'Комментарии', 'Дата создания дела', 'Результат', 'Дата закрытия',\n",
       "       'Статус', 'Нормативный срок получения ИД', 'Дело на контроле',\n",
       "       'Сайт суда', 'Общая сумма ПЗ', 'Общая сумма ПЗ по ОД',\n",
       "       'Сумма просроченных процентов', 'Сумма просроченных комиссий',\n",
       "       'Передано на аутсорсинг/внешние консультанты',\n",
       "       'Организация/ФИО привлеченного ВК', 'Куратор/Координатор по делу',\n",
       "       'Пени', 'Продукт', 'Создатель', 'Передано в ЮУ/ЮСТП', 'Дата передачи',\n",
       "       'ЦС подсудности', 'ТП подсудности', 'Наименование проекта', 'Ответчик',\n",
       "       'Исполнитель', 'ID судебного дела по Siebel', 'Направление бизнеса',\n",
       "       'Валюта заявленных требований', 'ID договора по Siebel',\n",
       "       'Количество договоров', 'Госпошлина, руб./нац.валюта',\n",
       "       'Ответственный по проекту', 'ИНН', 'Нестандартность',\n",
       "       'Дата определения о принятии к пр-ву', 'Дата вступления решения в силу',\n",
       "       'Приказное производство', 'Учитывалось ранее в СМОТ',\n",
       "       'Окончание предцелевого периода',\n",
       "       'Окончание целевого периода (целевой срок)',\n",
       "       'Начало штрафного периода'],\n",
       "      dtype='object')"
      ]
     },
     "execution_count": 6,
     "metadata": {},
     "output_type": "execute_result"
    }
   ],
   "source": [
    "# cмотрим список колонок стандартной выгрузки из БД (не все будут нужны)\n",
    "dataset.columns"
   ]
  },
  {
   "cell_type": "code",
   "execution_count": 7,
   "id": "6e124974",
   "metadata": {},
   "outputs": [
    {
     "data": {
      "text/html": [
       "<div>\n",
       "<style scoped>\n",
       "    .dataframe tbody tr th:only-of-type {\n",
       "        vertical-align: middle;\n",
       "    }\n",
       "\n",
       "    .dataframe tbody tr th {\n",
       "        vertical-align: top;\n",
       "    }\n",
       "\n",
       "    .dataframe thead th {\n",
       "        text-align: right;\n",
       "    }\n",
       "</style>\n",
       "<table border=\"1\" class=\"dataframe\">\n",
       "  <thead>\n",
       "    <tr style=\"text-align: right;\">\n",
       "      <th></th>\n",
       "      <th>Номер по SIEBEL</th>\n",
       "      <th>Тип</th>\n",
       "      <th>Дата создания дела</th>\n",
       "      <th>Дата закрытия</th>\n",
       "    </tr>\n",
       "  </thead>\n",
       "  <tbody>\n",
       "    <tr>\n",
       "      <th>0</th>\n",
       "      <td>1-2946161483</td>\n",
       "      <td>Банкротство ФЛ РБ</td>\n",
       "      <td>2022-10-21 08:55:46</td>\n",
       "      <td>2022-12-02</td>\n",
       "    </tr>\n",
       "    <tr>\n",
       "      <th>1</th>\n",
       "      <td>1-2922685695</td>\n",
       "      <td>Взыскание задолженности ПА РБ</td>\n",
       "      <td>2022-10-11 11:12:52</td>\n",
       "      <td>NaT</td>\n",
       "    </tr>\n",
       "    <tr>\n",
       "      <th>2</th>\n",
       "      <td>1-2777993227</td>\n",
       "      <td>Банкротство ФЛ РБ</td>\n",
       "      <td>2022-08-24 15:11:39</td>\n",
       "      <td>2022-10-05</td>\n",
       "    </tr>\n",
       "    <tr>\n",
       "      <th>3</th>\n",
       "      <td>1-2829411327</td>\n",
       "      <td>Банкротство ФЛ РБ</td>\n",
       "      <td>2022-09-09 15:08:09</td>\n",
       "      <td>2022-11-17</td>\n",
       "    </tr>\n",
       "    <tr>\n",
       "      <th>4</th>\n",
       "      <td>1-2562329796</td>\n",
       "      <td>Банкротство ФЛ РБ</td>\n",
       "      <td>2022-06-03 15:10:32</td>\n",
       "      <td>2022-08-24</td>\n",
       "    </tr>\n",
       "    <tr>\n",
       "      <th>...</th>\n",
       "      <td>...</td>\n",
       "      <td>...</td>\n",
       "      <td>...</td>\n",
       "      <td>...</td>\n",
       "    </tr>\n",
       "    <tr>\n",
       "      <th>5550</th>\n",
       "      <td>1-1533535923</td>\n",
       "      <td>Банкротство ФЛ РБ</td>\n",
       "      <td>2021-05-24 14:14:21</td>\n",
       "      <td>2021-08-13</td>\n",
       "    </tr>\n",
       "    <tr>\n",
       "      <th>5551</th>\n",
       "      <td>1-1643646792</td>\n",
       "      <td>Банкротство ФЛ РБ</td>\n",
       "      <td>2021-06-29 13:32:18</td>\n",
       "      <td>2022-01-10</td>\n",
       "    </tr>\n",
       "    <tr>\n",
       "      <th>5552</th>\n",
       "      <td>1-1640798290</td>\n",
       "      <td>Взыскание задолженности ПА МБ</td>\n",
       "      <td>2021-06-28 11:50:58</td>\n",
       "      <td>2021-07-06</td>\n",
       "    </tr>\n",
       "    <tr>\n",
       "      <th>5553</th>\n",
       "      <td>1-1619257247</td>\n",
       "      <td>Банкротство ФЛ РБ</td>\n",
       "      <td>2021-06-16 15:02:39</td>\n",
       "      <td>2022-01-10</td>\n",
       "    </tr>\n",
       "    <tr>\n",
       "      <th>5554</th>\n",
       "      <td>1-1611983525</td>\n",
       "      <td>Банкротство ФЛ РБ</td>\n",
       "      <td>2021-06-15 10:22:56</td>\n",
       "      <td>2022-01-10</td>\n",
       "    </tr>\n",
       "  </tbody>\n",
       "</table>\n",
       "<p>5555 rows × 4 columns</p>\n",
       "</div>"
      ],
      "text/plain": [
       "     Номер по SIEBEL                            Тип  Дата создания дела  \\\n",
       "0       1-2946161483              Банкротство ФЛ РБ 2022-10-21 08:55:46   \n",
       "1       1-2922685695  Взыскание задолженности ПА РБ 2022-10-11 11:12:52   \n",
       "2       1-2777993227              Банкротство ФЛ РБ 2022-08-24 15:11:39   \n",
       "3       1-2829411327              Банкротство ФЛ РБ 2022-09-09 15:08:09   \n",
       "4       1-2562329796              Банкротство ФЛ РБ 2022-06-03 15:10:32   \n",
       "...              ...                            ...                 ...   \n",
       "5550    1-1533535923              Банкротство ФЛ РБ 2021-05-24 14:14:21   \n",
       "5551    1-1643646792              Банкротство ФЛ РБ 2021-06-29 13:32:18   \n",
       "5552    1-1640798290  Взыскание задолженности ПА МБ 2021-06-28 11:50:58   \n",
       "5553    1-1619257247              Банкротство ФЛ РБ 2021-06-16 15:02:39   \n",
       "5554    1-1611983525              Банкротство ФЛ РБ 2021-06-15 10:22:56   \n",
       "\n",
       "     Дата закрытия  \n",
       "0       2022-12-02  \n",
       "1              NaT  \n",
       "2       2022-10-05  \n",
       "3       2022-11-17  \n",
       "4       2022-08-24  \n",
       "...            ...  \n",
       "5550    2021-08-13  \n",
       "5551    2022-01-10  \n",
       "5552    2021-07-06  \n",
       "5553    2022-01-10  \n",
       "5554    2022-01-10  \n",
       "\n",
       "[5555 rows x 4 columns]"
      ]
     },
     "execution_count": 7,
     "metadata": {},
     "output_type": "execute_result"
    }
   ],
   "source": [
    "# так он выглядит (для примера вывожу обесзличенные столбцы)\n",
    "dataset.loc[:, ['Номер по SIEBEL','Тип','Дата создания дела','Дата закрытия', ]]"
   ]
  },
  {
   "cell_type": "code",
   "execution_count": 8,
   "id": "54027118",
   "metadata": {},
   "outputs": [],
   "source": [
    "data = dataset.copy()"
   ]
  },
  {
   "cell_type": "markdown",
   "id": "7082cb87",
   "metadata": {},
   "source": [
    "## Описание алгоритма:\n",
    "\n",
    "- Преобразовать поле Дата создания дела в поле с только с датой (убрать время).\n",
    "<br>\n",
    "\n",
    "- Удалить дела закрытые до отчетного квартала и завершенные в этом квартале результатами Возврат, Отказано, а также отмененые дела.\n",
    "<br>\n",
    "- Подтянуть по номеру по сибель и договору ранее учтенные дела, чтобы потом исключить их из СМОТ\n",
    "<br>\n",
    "- Подтянуть по номеру по сибель активность НСТ из выгрузки нестандартных активностей, чтобы разметить стандартные и нест. дела (разные нормативные сроки у них)\n",
    "<br>\n",
    "- Коррекция сумм: <br>\n",
    "    а) убрать символы  руб. из Заявл. требований и Суммы взысканного по решению суда.<br>\n",
    "    б) убрать символы доллара и евро из Заявл. требований и при этом перевести суммы из валюты в рубли.<br>\n",
    "    в) по полю Валюта найти валютные кд и преобразовать колонки Сумма ОД и % по ним,\n",
    "    \n",
    " <br>\n",
    " \n",
    "- Коррекция колонки Тип (выделение Банкротов РБ).\n",
    "- Создание колонки Дата конца (имеется ввиду дата конца квартала - будем из нее вычитать).\n",
    "- Создание колонок: Кол-во дней, Коэф,  Факт, План.\n",
    "<br>\n",
    "- Заполняю колонки по не закрытым делам:<br>\n",
    "    а) Кол-во дней - вычитаю из даты конца дату начала,<br>\n",
    "    г) Активность НСТ - присоединяю данные о наличии в карточке дела активности НСТ,<br>\n",
    "    д) Стандарт/нестандарт - заполняю, исходя из наличия активности НСТ в карточке дела смотрим поле Активность НСТ.<br>\n",
    "    е) Коэф - исходя из значения поля Стандарт/нестандарт и кол-ва дней в поле Кол-во дней проставляется соотв. коэф.<br>\n",
    "    ж) Факт - исходя из проставленного коэф заполняются путем умножения к. на сумму ОД и % по кд либо умножения на Заявл. требования, если дело банкротное.<br>\n",
    "    з) План - заполняется по аналогии с Фактом."
   ]
  },
  {
   "cell_type": "markdown",
   "id": "e2b72d58",
   "metadata": {},
   "source": [
    "__Правим поле Дата создания дела:__"
   ]
  },
  {
   "cell_type": "code",
   "execution_count": 9,
   "id": "8e33d6d4",
   "metadata": {},
   "outputs": [],
   "source": [
    "# Функция преобразования даты\n",
    "def fix_date(some_date):\n",
    "    some_date = some_date.date()\n",
    "    \n",
    "    return some_date\n",
    "\n",
    "# Специально делаю отдельный столбец к корректной формой даты, чтобы можно было потом сравнить\n",
    "data['Дата создания'] = data['Дата создания дела'].apply(lambda x: fix_date(x))"
   ]
  },
  {
   "cell_type": "code",
   "execution_count": 10,
   "id": "2312789d",
   "metadata": {},
   "outputs": [
    {
     "data": {
      "text/html": [
       "<div>\n",
       "<style scoped>\n",
       "    .dataframe tbody tr th:only-of-type {\n",
       "        vertical-align: middle;\n",
       "    }\n",
       "\n",
       "    .dataframe tbody tr th {\n",
       "        vertical-align: top;\n",
       "    }\n",
       "\n",
       "    .dataframe thead th {\n",
       "        text-align: right;\n",
       "    }\n",
       "</style>\n",
       "<table border=\"1\" class=\"dataframe\">\n",
       "  <thead>\n",
       "    <tr style=\"text-align: right;\">\n",
       "      <th></th>\n",
       "      <th>Дата создания дела</th>\n",
       "      <th>Дата создания</th>\n",
       "    </tr>\n",
       "  </thead>\n",
       "  <tbody>\n",
       "    <tr>\n",
       "      <th>0</th>\n",
       "      <td>2022-10-21 08:55:46</td>\n",
       "      <td>2022-10-21</td>\n",
       "    </tr>\n",
       "    <tr>\n",
       "      <th>1</th>\n",
       "      <td>2022-10-11 11:12:52</td>\n",
       "      <td>2022-10-11</td>\n",
       "    </tr>\n",
       "    <tr>\n",
       "      <th>2</th>\n",
       "      <td>2022-08-24 15:11:39</td>\n",
       "      <td>2022-08-24</td>\n",
       "    </tr>\n",
       "    <tr>\n",
       "      <th>3</th>\n",
       "      <td>2022-09-09 15:08:09</td>\n",
       "      <td>2022-09-09</td>\n",
       "    </tr>\n",
       "    <tr>\n",
       "      <th>4</th>\n",
       "      <td>2022-06-03 15:10:32</td>\n",
       "      <td>2022-06-03</td>\n",
       "    </tr>\n",
       "    <tr>\n",
       "      <th>...</th>\n",
       "      <td>...</td>\n",
       "      <td>...</td>\n",
       "    </tr>\n",
       "    <tr>\n",
       "      <th>5550</th>\n",
       "      <td>2021-05-24 14:14:21</td>\n",
       "      <td>2021-05-24</td>\n",
       "    </tr>\n",
       "    <tr>\n",
       "      <th>5551</th>\n",
       "      <td>2021-06-29 13:32:18</td>\n",
       "      <td>2021-06-29</td>\n",
       "    </tr>\n",
       "    <tr>\n",
       "      <th>5552</th>\n",
       "      <td>2021-06-28 11:50:58</td>\n",
       "      <td>2021-06-28</td>\n",
       "    </tr>\n",
       "    <tr>\n",
       "      <th>5553</th>\n",
       "      <td>2021-06-16 15:02:39</td>\n",
       "      <td>2021-06-16</td>\n",
       "    </tr>\n",
       "    <tr>\n",
       "      <th>5554</th>\n",
       "      <td>2021-06-15 10:22:56</td>\n",
       "      <td>2021-06-15</td>\n",
       "    </tr>\n",
       "  </tbody>\n",
       "</table>\n",
       "<p>5555 rows × 2 columns</p>\n",
       "</div>"
      ],
      "text/plain": [
       "      Дата создания дела Дата создания\n",
       "0    2022-10-21 08:55:46    2022-10-21\n",
       "1    2022-10-11 11:12:52    2022-10-11\n",
       "2    2022-08-24 15:11:39    2022-08-24\n",
       "3    2022-09-09 15:08:09    2022-09-09\n",
       "4    2022-06-03 15:10:32    2022-06-03\n",
       "...                  ...           ...\n",
       "5550 2021-05-24 14:14:21    2021-05-24\n",
       "5551 2021-06-29 13:32:18    2021-06-29\n",
       "5552 2021-06-28 11:50:58    2021-06-28\n",
       "5553 2021-06-16 15:02:39    2021-06-16\n",
       "5554 2021-06-15 10:22:56    2021-06-15\n",
       "\n",
       "[5555 rows x 2 columns]"
      ]
     },
     "execution_count": 10,
     "metadata": {},
     "output_type": "execute_result"
    }
   ],
   "source": [
    "# Проверим корректно ли произошли преобразования\n",
    "data.loc[:, ['Дата создания дела', 'Дата создания']]"
   ]
  },
  {
   "cell_type": "markdown",
   "id": "9dcfb506",
   "metadata": {},
   "source": [
    "## Удаляем дела \n",
    "\n",
    "Поскольку выгрузка из БД содержит все вообще дела за все время, то нужно оставить только активные дела и завершенные в этом квартале."
   ]
  },
  {
   "cell_type": "code",
   "execution_count": 11,
   "id": "81eca149",
   "metadata": {},
   "outputs": [],
   "source": [
    "# правим тип данных\n",
    "data['Дата закрытия'] = data['Дата закрытия'].apply(lambda x: fix_date(x))"
   ]
  },
  {
   "cell_type": "code",
   "execution_count": 12,
   "id": "ec14b09c",
   "metadata": {},
   "outputs": [
    {
     "data": {
      "text/plain": [
       "Int64Index([   0,    2,    3,    4,    6,    8,    9,   10,   11,   12,\n",
       "            ...\n",
       "            5545, 5546, 5547, 5548, 5549, 5550, 5551, 5552, 5553, 5554],\n",
       "           dtype='int64', length=4238)"
      ]
     },
     "execution_count": 12,
     "metadata": {},
     "output_type": "execute_result"
    }
   ],
   "source": [
    "to_del_old = data.loc[(data['Статус'] == 'Завершено') & (date_of_quarter_begin > data['Дата закрытия'])]\n",
    "to_del_old.index                                        #datetime(2023, 1, 1, 0, 0, 0, 1).date()"
   ]
  },
  {
   "cell_type": "code",
   "execution_count": 13,
   "id": "59dab36c",
   "metadata": {},
   "outputs": [
    {
     "data": {
      "text/plain": [
       "(1317, 61)"
      ]
     },
     "execution_count": 13,
     "metadata": {},
     "output_type": "execute_result"
    }
   ],
   "source": [
    "# удаляю все завершенное до 01.01.2023\n",
    "data = data.drop(index=to_del_old.index)\n",
    "data.shape"
   ]
  },
  {
   "cell_type": "code",
   "execution_count": 14,
   "id": "a0670c76",
   "metadata": {},
   "outputs": [
    {
     "data": {
      "text/plain": [
       "В работе             843\n",
       "Завершено            416\n",
       "Отменено              49\n",
       "Приостановлено         5\n",
       "Частично передано      4\n",
       "Name: Статус, dtype: int64"
      ]
     },
     "execution_count": 14,
     "metadata": {},
     "output_type": "execute_result"
    }
   ],
   "source": [
    "data['Статус'].value_counts()"
   ]
  },
  {
   "cell_type": "code",
   "execution_count": 15,
   "id": "54394c9b",
   "metadata": {},
   "outputs": [
    {
     "data": {
      "text/plain": [
       "(1268, 61)"
      ]
     },
     "execution_count": 15,
     "metadata": {},
     "output_type": "execute_result"
    }
   ],
   "source": [
    "data = data.loc[data['Статус'] != 'Отменено']\n",
    "data.shape"
   ]
  },
  {
   "cell_type": "code",
   "execution_count": 16,
   "id": "84247323",
   "metadata": {},
   "outputs": [
    {
     "data": {
      "text/plain": [
       "Включено в РТК                    320\n",
       "ИД передан в УПК                   55\n",
       "Включено за РТК                    15\n",
       "Возврат в досудебное пр-во         15\n",
       "Получен судебный акт                3\n",
       "Создано ошибочно                    3\n",
       "Отказано во вкл в РТК               3\n",
       "Прекращение дела о Банкротстве      1\n",
       "Name: Результат, dtype: int64"
      ]
     },
     "execution_count": 16,
     "metadata": {},
     "output_type": "execute_result"
    }
   ],
   "source": [
    "# Смотрим какие Результаты имеются в оставленных делах\n",
    "data.loc[data['Статус'] == 'Завершено']['Результат'].value_counts()"
   ]
  },
  {
   "cell_type": "code",
   "execution_count": 17,
   "id": "dbb93b1d",
   "metadata": {},
   "outputs": [
    {
     "data": {
      "text/plain": [
       "Возврат в досудебное пр-во        15\n",
       "Отказано во вкл в РТК              3\n",
       "Создано ошибочно                   3\n",
       "Прекращение дела о Банкротстве     1\n",
       "Name: Результат, dtype: int64"
      ]
     },
     "execution_count": 17,
     "metadata": {},
     "output_type": "execute_result"
    }
   ],
   "source": [
    "# Из выгрузки нужно удалить Возвращенное, Ошибочное и Отказные дела\n",
    "\n",
    "to_del_2 = data.loc[(data['Статус'] == 'Завершено') & ((data['Результат'] == 'Возврат в досудебное пр-во') | \\\n",
    "                                                       (data['Результат'] == 'Создано ошибочно') | \\\n",
    "                                                       (data['Результат'] == 'Отказано во вкл в РТК') | \\\n",
    "                                                       (data['Результат'] == 'Прекращение дела о Банкротстве') | \\\n",
    "                                                       (data['Результат'] == 'Отказано в рассмотрении'))]\n",
    "to_del_2 ['Результат'].value_counts()"
   ]
  },
  {
   "cell_type": "code",
   "execution_count": 18,
   "id": "d85dc23d",
   "metadata": {},
   "outputs": [
    {
     "data": {
      "text/plain": [
       "(1246, 61)"
      ]
     },
     "execution_count": 18,
     "metadata": {},
     "output_type": "execute_result"
    }
   ],
   "source": [
    "data = data.drop(index=to_del_2 .index)\n",
    "data.shape"
   ]
  },
  {
   "cell_type": "markdown",
   "id": "425c6b0a",
   "metadata": {},
   "source": [
    "# Подтягиваю ранее учтенные"
   ]
  },
  {
   "cell_type": "code",
   "execution_count": 19,
   "id": "e6b0bad7",
   "metadata": {},
   "outputs": [
    {
     "data": {
      "text/plain": [
       "(Index(['Номер по SIEBEL', 'Договор', 'Квартал учета в факте'], dtype='object'),\n",
       " (25275, 3))"
      ]
     },
     "execution_count": 19,
     "metadata": {},
     "output_type": "execute_result"
    }
   ],
   "source": [
    "# смотрим какие колонки в таблице и ее размер\n",
    "earliers_doned.columns, earliers_doned.shape"
   ]
  },
  {
   "cell_type": "code",
   "execution_count": 20,
   "id": "56402c47",
   "metadata": {},
   "outputs": [
    {
     "name": "stdout",
     "output_type": "stream",
     "text": [
      "<class 'pandas.core.frame.DataFrame'>\n",
      "RangeIndex: 25275 entries, 0 to 25274\n",
      "Data columns (total 3 columns):\n",
      " #   Column                 Non-Null Count  Dtype \n",
      "---  ------                 --------------  ----- \n",
      " 0   Номер по SIEBEL        25275 non-null  object\n",
      " 1   Договор                14342 non-null  object\n",
      " 2   Квартал учета в факте  25275 non-null  object\n",
      "dtypes: object(3)\n",
      "memory usage: 592.5+ KB\n"
     ]
    }
   ],
   "source": [
    "earliers_doned.info()"
   ]
  },
  {
   "cell_type": "markdown",
   "id": "86ace7ba",
   "metadata": {},
   "source": [
    "В таблице earliers_doned содержится список кд и номеров по Сибель дел, которые ранее учитывались в СМОТ и их нужно исключать.<br>\n",
    "\n",
    "Также видим, что в некоторых случаях отдельно зафиксированы номера кд по учтенным делам, а отдельно номера по Сибель - будем учитывать это при подтягивании значений"
   ]
  },
  {
   "cell_type": "code",
   "execution_count": 21,
   "id": "48bf7005",
   "metadata": {},
   "outputs": [
    {
     "data": {
      "text/html": [
       "<div>\n",
       "<style scoped>\n",
       "    .dataframe tbody tr th:only-of-type {\n",
       "        vertical-align: middle;\n",
       "    }\n",
       "\n",
       "    .dataframe tbody tr th {\n",
       "        vertical-align: top;\n",
       "    }\n",
       "\n",
       "    .dataframe thead th {\n",
       "        text-align: right;\n",
       "    }\n",
       "</style>\n",
       "<table border=\"1\" class=\"dataframe\">\n",
       "  <thead>\n",
       "    <tr style=\"text-align: right;\">\n",
       "      <th></th>\n",
       "      <th>Номер по SIEBEL</th>\n",
       "      <th>Договор</th>\n",
       "      <th>Квартал учета в факте</th>\n",
       "    </tr>\n",
       "  </thead>\n",
       "  <tbody>\n",
       "    <tr>\n",
       "      <th>0</th>\n",
       "      <td>1-1609520</td>\n",
       "      <td>014/2011-5-69</td>\n",
       "      <td>1 квартал 2019</td>\n",
       "    </tr>\n",
       "    <tr>\n",
       "      <th>1</th>\n",
       "      <td>1-1609534</td>\n",
       "      <td>634КЛ/13</td>\n",
       "      <td>1 квартал 2019</td>\n",
       "    </tr>\n",
       "    <tr>\n",
       "      <th>2</th>\n",
       "      <td>1-1609543</td>\n",
       "      <td>007/2015-0/3-69</td>\n",
       "      <td>1 квартал 2019</td>\n",
       "    </tr>\n",
       "    <tr>\n",
       "      <th>3</th>\n",
       "      <td>1-1263113</td>\n",
       "      <td>02-1731/2018</td>\n",
       "      <td>1 квартал 2019</td>\n",
       "    </tr>\n",
       "    <tr>\n",
       "      <th>4</th>\n",
       "      <td>1-1682040</td>\n",
       "      <td>0</td>\n",
       "      <td>1 квартал 2019</td>\n",
       "    </tr>\n",
       "    <tr>\n",
       "      <th>...</th>\n",
       "      <td>...</td>\n",
       "      <td>...</td>\n",
       "      <td>...</td>\n",
       "    </tr>\n",
       "    <tr>\n",
       "      <th>25270</th>\n",
       "      <td>1-2372371217</td>\n",
       "      <td>NaN</td>\n",
       "      <td>3 квартал 2022</td>\n",
       "    </tr>\n",
       "    <tr>\n",
       "      <th>25271</th>\n",
       "      <td>1-2520892928</td>\n",
       "      <td>NaN</td>\n",
       "      <td>3 квартал 2022</td>\n",
       "    </tr>\n",
       "    <tr>\n",
       "      <th>25272</th>\n",
       "      <td>1-2669863837</td>\n",
       "      <td>NaN</td>\n",
       "      <td>3 квартал 2022</td>\n",
       "    </tr>\n",
       "    <tr>\n",
       "      <th>25273</th>\n",
       "      <td>1-2405188592</td>\n",
       "      <td>817303-АК/СМР-13</td>\n",
       "      <td>3 квартал 2022</td>\n",
       "    </tr>\n",
       "    <tr>\n",
       "      <th>25274</th>\n",
       "      <td>1-1673958394</td>\n",
       "      <td>NaN</td>\n",
       "      <td>основное дело у ЮД</td>\n",
       "    </tr>\n",
       "  </tbody>\n",
       "</table>\n",
       "<p>25275 rows × 3 columns</p>\n",
       "</div>"
      ],
      "text/plain": [
       "      Номер по SIEBEL           Договор Квартал учета в факте\n",
       "0           1-1609520     014/2011-5-69        1 квартал 2019\n",
       "1           1-1609534          634КЛ/13        1 квартал 2019\n",
       "2           1-1609543   007/2015-0/3-69        1 квартал 2019\n",
       "3           1-1263113      02-1731/2018        1 квартал 2019\n",
       "4           1-1682040                 0        1 квартал 2019\n",
       "...               ...               ...                   ...\n",
       "25270    1-2372371217               NaN        3 квартал 2022\n",
       "25271    1-2520892928               NaN        3 квартал 2022\n",
       "25272    1-2669863837               NaN        3 квартал 2022\n",
       "25273    1-2405188592  817303-АК/СМР-13        3 квартал 2022\n",
       "25274    1-1673958394               NaN    основное дело у ЮД\n",
       "\n",
       "[25275 rows x 3 columns]"
      ]
     },
     "execution_count": 21,
     "metadata": {},
     "output_type": "execute_result"
    }
   ],
   "source": [
    "earliers_doned"
   ]
  },
  {
   "cell_type": "code",
   "execution_count": 22,
   "id": "dd2054f9",
   "metadata": {},
   "outputs": [
    {
     "data": {
      "text/plain": [
       "основное дело у ЮД    1\n",
       "3 квартал 2019        1\n",
       "3 квартал 2022        1\n",
       "Name: Учтен, dtype: int64"
      ]
     },
     "execution_count": 22,
     "metadata": {},
     "output_type": "execute_result"
    }
   ],
   "source": [
    "# PART 1\n",
    "# присоединяю учтенные по номеру по сибель\n",
    "data = pd.merge(data, earliers_doned,  on ='Номер по SIEBEL', how ='left')\n",
    "\n",
    "# переписываю значения в колонке Учтен\n",
    "data['Учтен'] = data['Квартал учета в факте']\n",
    "\n",
    "# после того как переписал, удаляю смерженные столбцы - из-за наличия в исходной выгрузки колонки Договор, \n",
    "# она становится Договор_x, а присоединный столбец из выгрузки учтенных - Договор_y\n",
    "data.drop(columns=['Квартал учета в факте', 'Договор_y'], inplace=True)\n",
    "\n",
    "# и возвращаю корректное название колонке Договор\n",
    "data.rename(columns={'Договор_x' : 'Договор'}, inplace=True)\n",
    "\n",
    "# смотрим что получилось \n",
    "data['Учтен'].value_counts()"
   ]
  },
  {
   "cell_type": "code",
   "execution_count": 23,
   "id": "7ed2686f",
   "metadata": {},
   "outputs": [
    {
     "data": {
      "text/plain": [
       "3 квартал 2021    5\n",
       "4 квартал 2020    2\n",
       "3 квартал 2019    2\n",
       "2 квартал 2019    1\n",
       "4 квартал 2019    1\n",
       "Name: Квартал учета в факте, dtype: int64"
      ]
     },
     "execution_count": 23,
     "metadata": {},
     "output_type": "execute_result"
    }
   ],
   "source": [
    "#PART 2\n",
    "# осталось присоединить по договору, чтобы это сделать удалю в исходном списке учтенных пустые строки в колонке Договор\n",
    "nan_list_1 = earliers_doned[pd.isnull(earliers_doned['Договор'])].index\n",
    "earliers_doned_2 = earliers_doned.drop (index=nan_list_1)\n",
    "\n",
    "#присоеднияю по Договору \n",
    "data = pd.merge(data, earliers_doned_2,  on ='Договор', how ='left')\n",
    "\n",
    "data['Квартал учета в факте'].value_counts()"
   ]
  },
  {
   "cell_type": "markdown",
   "id": "b5018e0f",
   "metadata": {},
   "source": [
    "Первая смерженная часть инф. об учете ПА была выше перенесена в поле Учет и после второго мержа у нас снова появилась колонка Квартал учета в факте, откуда будем переносить данные в колонку Учет.\n",
    "\n",
    "__Заполнение полей через цикл и индексы здесь использую для разнообразия (в дальнейшем внизу буду работать с методом .apply() )__"
   ]
  },
  {
   "cell_type": "code",
   "execution_count": 24,
   "id": "ad2587fe",
   "metadata": {},
   "outputs": [
    {
     "data": {
      "text/plain": [
       "Int64Index([155, 295, 324, 325, 575, 584, 853, 866, 867, 1222, 1229], dtype='int64')"
      ]
     },
     "execution_count": 24,
     "metadata": {},
     "output_type": "execute_result"
    }
   ],
   "source": [
    "# делаю список нанов чтобы оставить только строки с заполненным значением учета в Факте, чтобы взять индексы строк и переписать\n",
    "nan_list_2 = data[pd.isnull(data['Квартал учета в факте'])].index                                                  # в цикле\n",
    "hidden_data = data.drop(index=nan_list_2)\n",
    "hidden_data.index"
   ]
  },
  {
   "cell_type": "code",
   "execution_count": 25,
   "id": "39398354",
   "metadata": {},
   "outputs": [],
   "source": [
    "for indx in hidden_data.index:\n",
    "    data.loc[indx, 'Учтен'] = data.loc[indx, 'Квартал учета в факте']"
   ]
  },
  {
   "cell_type": "code",
   "execution_count": 26,
   "id": "ce826a15",
   "metadata": {},
   "outputs": [
    {
     "data": {
      "text/plain": [
       "3 квартал 2021        5\n",
       "4 квартал 2020        2\n",
       "3 квартал 2019        2\n",
       "основное дело у ЮД    1\n",
       "2 квартал 2019        1\n",
       "3 квартал 2022        1\n",
       "4 квартал 2019        1\n",
       "Name: Учтен, dtype: int64"
      ]
     },
     "execution_count": 26,
     "metadata": {},
     "output_type": "execute_result"
    }
   ],
   "source": [
    "# проверяем\n",
    "data['Учтен'].value_counts()"
   ]
  },
  {
   "cell_type": "code",
   "execution_count": 27,
   "id": "f6a1f953",
   "metadata": {},
   "outputs": [],
   "source": [
    "# смерженные столбцы не нужны - удаляем\n",
    "data.drop(columns=['Квартал учета в факте', 'Номер по SIEBEL_y'], inplace=True)\n",
    "\n",
    "# и возвращаем корректные названия колонкам \n",
    "data.rename(columns={'Номер по SIEBEL_x' : 'Номер по SIEBEL'}, inplace=True)"
   ]
  },
  {
   "cell_type": "markdown",
   "id": "d4b6f849",
   "metadata": {},
   "source": [
    "## Подтягиваем активности НСТ"
   ]
  },
  {
   "cell_type": "code",
   "execution_count": 28,
   "id": "04b6b870",
   "metadata": {},
   "outputs": [
    {
     "data": {
      "text/plain": [
       "Index(['Мероприятие', 'Индикатор', 'Тип', 'Тип активности Outbound', 'Статус',\n",
       "       'Начало', 'Фактическое окончание', 'Результат', 'Соотношение к ПЗ',\n",
       "       'Завершена с просрочкой', 'Клиент (ФЛ)', 'КМБ', 'Комментарии',\n",
       "       '№ договора', 'Судебное дело', 'Адрес',\n",
       "       'Дней просрочки на момент создания', 'Ответственный по клиенту',\n",
       "       'Центр сбора', 'Номер дела о банкротстве', 'Ответственный',\n",
       "       'Дата создания', 'Дата передачи', 'Общий комментарий', 'Описание',\n",
       "       'Иная судебная работа', 'Дата публичных торгов (принятие на баланс)'],\n",
       "      dtype='object')"
      ]
     },
     "execution_count": 28,
     "metadata": {},
     "output_type": "execute_result"
    }
   ],
   "source": [
    "activities.columns"
   ]
  },
  {
   "cell_type": "code",
   "execution_count": 29,
   "id": "c7953aaa",
   "metadata": {},
   "outputs": [],
   "source": [
    "# в выгрузке активностей нужно всего два столбца - возьму их и переименую колонки в корректное,\n",
    "# т.к. мержит надо будет по номеру по Сибель. Здесь в колонке судебное дело содержится Номер по Сибель\n",
    "\n",
    "activities = activities.loc[:, ['Судебное дело', 'Статус']]\n",
    "activities.rename(columns={'Судебное дело' : 'Номер по SIEBEL', 'Статус': 'Статус активности нст'}, inplace=True)"
   ]
  },
  {
   "cell_type": "code",
   "execution_count": 30,
   "id": "b35eaae6",
   "metadata": {},
   "outputs": [
    {
     "data": {
      "text/html": [
       "<div>\n",
       "<style scoped>\n",
       "    .dataframe tbody tr th:only-of-type {\n",
       "        vertical-align: middle;\n",
       "    }\n",
       "\n",
       "    .dataframe tbody tr th {\n",
       "        vertical-align: top;\n",
       "    }\n",
       "\n",
       "    .dataframe thead th {\n",
       "        text-align: right;\n",
       "    }\n",
       "</style>\n",
       "<table border=\"1\" class=\"dataframe\">\n",
       "  <thead>\n",
       "    <tr style=\"text-align: right;\">\n",
       "      <th></th>\n",
       "      <th>Номер по SIEBEL</th>\n",
       "      <th>Статус активности нст</th>\n",
       "    </tr>\n",
       "  </thead>\n",
       "  <tbody>\n",
       "    <tr>\n",
       "      <th>0</th>\n",
       "      <td>1-2237097491</td>\n",
       "      <td>Запланировано</td>\n",
       "    </tr>\n",
       "    <tr>\n",
       "      <th>1</th>\n",
       "      <td>1-531879843</td>\n",
       "      <td>Запланировано</td>\n",
       "    </tr>\n",
       "  </tbody>\n",
       "</table>\n",
       "</div>"
      ],
      "text/plain": [
       "  Номер по SIEBEL Статус активности нст\n",
       "0    1-2237097491         Запланировано\n",
       "1     1-531879843         Запланировано"
      ]
     },
     "execution_count": 30,
     "metadata": {},
     "output_type": "execute_result"
    }
   ],
   "source": [
    "activities.head(2)"
   ]
  },
  {
   "cell_type": "code",
   "execution_count": 31,
   "id": "f7745c13",
   "metadata": {},
   "outputs": [
    {
     "data": {
      "text/plain": [
       "Завершено    265\n",
       "Отменено      15\n",
       "Name: Статус активности нст, dtype: int64"
      ]
     },
     "execution_count": 31,
     "metadata": {},
     "output_type": "execute_result"
    }
   ],
   "source": [
    "# переименую значения в 1 вид (так проще перезаписывать потом)\n",
    "activities['Статус активности нст'].replace(\"Запланировано\", \"Завершено\", inplace=True) \n",
    "activities['Статус активности нст'].value_counts()\n",
    "\n",
    "# отмененные не будем метить как нестандртные - они ошибочны"
   ]
  },
  {
   "cell_type": "code",
   "execution_count": 32,
   "id": "5918f5f2",
   "metadata": {},
   "outputs": [
    {
     "data": {
      "text/plain": [
       "Завершено    265\n",
       "Name: Статус активности нст, dtype: int64"
      ]
     },
     "execution_count": 32,
     "metadata": {},
     "output_type": "execute_result"
    }
   ],
   "source": [
    "# отмененные отсеку, посколько по некоторым делам имеется несколько активностей и если в таком деле будет отмененная, то \n",
    "# она подтянется и мы не поймем что дело на самом деле нестандартной, т.к. ее учитывать не будем\n",
    "\n",
    "activities = activities.loc[activities['Статус активности нст'] == 'Завершено']\n",
    "activities['Статус активности нст'].value_counts()"
   ]
  },
  {
   "cell_type": "code",
   "execution_count": 33,
   "id": "a73f95e1",
   "metadata": {},
   "outputs": [
    {
     "data": {
      "text/plain": [
       "Завершено    84\n",
       "Name: Статус активности нст, dtype: int64"
      ]
     },
     "execution_count": 33,
     "metadata": {},
     "output_type": "execute_result"
    }
   ],
   "source": [
    "data = pd.merge(data, activities,  on ='Номер по SIEBEL', how ='left')\n",
    "data['Статус активности нст'].value_counts()"
   ]
  },
  {
   "cell_type": "code",
   "execution_count": 34,
   "id": "e7ebc840",
   "metadata": {},
   "outputs": [
    {
     "data": {
      "text/plain": [
       "СТ     1184\n",
       "НСТ      84\n",
       "Name: СТ/НСТ, dtype: int64"
      ]
     },
     "execution_count": 34,
     "metadata": {},
     "output_type": "execute_result"
    }
   ],
   "source": [
    "# исходя из наличия корректных активностей, заполняем поле СТ/НСТ\n",
    "data['СТ/НСТ'] = np.where(data['Статус активности нст'] == 'Завершено' , 'НСТ', 'СТ')\n",
    "data['СТ/НСТ'].value_counts()"
   ]
  },
  {
   "cell_type": "markdown",
   "id": "bbaa5147",
   "metadata": {},
   "source": [
    "__Корректирую суммы:__"
   ]
  },
  {
   "cell_type": "code",
   "execution_count": 35,
   "id": "edc86e14",
   "metadata": {},
   "outputs": [
    {
     "name": "stdout",
     "output_type": "stream",
     "text": [
      "<class 'pandas.core.frame.DataFrame'>\n",
      "Int64Index: 1268 entries, 0 to 1267\n",
      "Data columns (total 2 columns):\n",
      " #   Column                           Non-Null Count  Dtype \n",
      "---  ------                           --------------  ----- \n",
      " 0   Сумма заявленных требований      1224 non-null   object\n",
      " 1   Сумма взыскания по решению суда  1268 non-null   object\n",
      "dtypes: object(2)\n",
      "memory usage: 29.7+ KB\n"
     ]
    }
   ],
   "source": [
    "# у наших колонок тип данных объект, но если брать отдельные значения, то будет строковые данные:\n",
    "\n",
    "data.loc[:,['Сумма заявленных требований', 'Сумма взыскания по решению суда']].info()"
   ]
  },
  {
   "cell_type": "code",
   "execution_count": 36,
   "id": "a9f71e4f",
   "metadata": {},
   "outputs": [],
   "source": [
    "list_to_replace = ['Сумма заявленных требований', 'Сумма взыскания по решению суда']\n",
    "\n",
    "\n",
    "def replace_and_fix_values(x):\n",
    "    if type(x) == str: # обхожу ошибку типа данных, когда встречается ноль\n",
    "        \n",
    "        # обрабатываем Руб.\n",
    "        x_fixed = x.replace(\"Руб.\", \"\")\n",
    "        \n",
    "        # приводим в корректный вид для преобразования в числовой формат\n",
    "        x_fixed = x_fixed.replace(\" \", \"\")    # пробелы между цифрами нужно также убрать\n",
    "        x_fixed = x_fixed.replace(\",\", \".\")   # в питоне у флоата точка вместо запятой\n",
    "        \n",
    "        # сразу убираю символ доллара и перевожу доллары в рубли\n",
    "        if '$' in x_fixed:\n",
    "            x_fixed = x_fixed.replace(\"$\", \"\")\n",
    "            x_fixed = str(float(x_fixed) * dollar_exchange_rate)  \n",
    "        \n",
    "        # аналогичное для евро\n",
    "        if '€' in x_fixed:\n",
    "            x_fixed = x_fixed.replace(\"€\", \"\")\n",
    "            x_fixed = str(float(x_fixed) * euro_exchange_rate)  \n",
    "        \n",
    "        return x_fixed\n",
    "    return x\n",
    "\n",
    "for i in list_to_replace:\n",
    "    data[i] = data[i].apply(lambda x: replace_and_fix_values(x))"
   ]
  },
  {
   "cell_type": "code",
   "execution_count": 37,
   "id": "cd1cd7b5",
   "metadata": {},
   "outputs": [
    {
     "data": {
      "text/html": [
       "<div>\n",
       "<style scoped>\n",
       "    .dataframe tbody tr th:only-of-type {\n",
       "        vertical-align: middle;\n",
       "    }\n",
       "\n",
       "    .dataframe tbody tr th {\n",
       "        vertical-align: top;\n",
       "    }\n",
       "\n",
       "    .dataframe thead th {\n",
       "        text-align: right;\n",
       "    }\n",
       "</style>\n",
       "<table border=\"1\" class=\"dataframe\">\n",
       "  <thead>\n",
       "    <tr style=\"text-align: right;\">\n",
       "      <th></th>\n",
       "      <th>Сумма заявленных требований</th>\n",
       "      <th>Сумма взыскания по решению суда</th>\n",
       "    </tr>\n",
       "  </thead>\n",
       "  <tbody>\n",
       "    <tr>\n",
       "      <th>0</th>\n",
       "      <td>120106.50</td>\n",
       "      <td>0</td>\n",
       "    </tr>\n",
       "    <tr>\n",
       "      <th>1</th>\n",
       "      <td>222163.15</td>\n",
       "      <td>0</td>\n",
       "    </tr>\n",
       "    <tr>\n",
       "      <th>2</th>\n",
       "      <td>384892.89</td>\n",
       "      <td>0</td>\n",
       "    </tr>\n",
       "    <tr>\n",
       "      <th>3</th>\n",
       "      <td>59007.70</td>\n",
       "      <td>1970.23</td>\n",
       "    </tr>\n",
       "    <tr>\n",
       "      <th>4</th>\n",
       "      <td>51214.36</td>\n",
       "      <td>51214.36</td>\n",
       "    </tr>\n",
       "    <tr>\n",
       "      <th>...</th>\n",
       "      <td>...</td>\n",
       "      <td>...</td>\n",
       "    </tr>\n",
       "    <tr>\n",
       "      <th>1259</th>\n",
       "      <td>396364.24</td>\n",
       "      <td>0</td>\n",
       "    </tr>\n",
       "    <tr>\n",
       "      <th>1260</th>\n",
       "      <td>346356.65</td>\n",
       "      <td>0</td>\n",
       "    </tr>\n",
       "    <tr>\n",
       "      <th>1261</th>\n",
       "      <td>555649.17</td>\n",
       "      <td>555649.17</td>\n",
       "    </tr>\n",
       "    <tr>\n",
       "      <th>1262</th>\n",
       "      <td>150980.99</td>\n",
       "      <td>0</td>\n",
       "    </tr>\n",
       "    <tr>\n",
       "      <th>1263</th>\n",
       "      <td>142723.47</td>\n",
       "      <td>142723.47</td>\n",
       "    </tr>\n",
       "  </tbody>\n",
       "</table>\n",
       "<p>1264 rows × 2 columns</p>\n",
       "</div>"
      ],
      "text/plain": [
       "     Сумма заявленных требований Сумма взыскания по решению суда\n",
       "0                      120106.50                               0\n",
       "1                      222163.15                               0\n",
       "2                      384892.89                               0\n",
       "3                       59007.70                         1970.23\n",
       "4                       51214.36                        51214.36\n",
       "...                          ...                             ...\n",
       "1259                   396364.24                               0\n",
       "1260                   346356.65                               0\n",
       "1261                   555649.17                       555649.17\n",
       "1262                   150980.99                               0\n",
       "1263                   142723.47                       142723.47\n",
       "\n",
       "[1264 rows x 2 columns]"
      ]
     },
     "execution_count": 37,
     "metadata": {},
     "output_type": "execute_result"
    }
   ],
   "source": [
    "# смотрим результат\n",
    "data.loc[:, list_to_replace].head(-4)"
   ]
  },
  {
   "cell_type": "code",
   "execution_count": 38,
   "id": "0d35d9af",
   "metadata": {},
   "outputs": [
    {
     "name": "stdout",
     "output_type": "stream",
     "text": [
      "<class 'pandas.core.frame.DataFrame'>\n",
      "Int64Index: 1268 entries, 0 to 1267\n",
      "Data columns (total 2 columns):\n",
      " #   Column                           Non-Null Count  Dtype  \n",
      "---  ------                           --------------  -----  \n",
      " 0   Сумма заявленных требований      1224 non-null   float64\n",
      " 1   Сумма взыскания по решению суда  1268 non-null   float64\n",
      "dtypes: float64(2)\n",
      "memory usage: 29.7 KB\n"
     ]
    }
   ],
   "source": [
    "# переписываю тип данных\n",
    "data = data.astype({'Сумма заявленных требований': np.float64, 'Сумма взыскания по решению суда': np.float64})\n",
    "\n",
    "data.loc[:,['Сумма заявленных требований', 'Сумма взыскания по решению суда']].info()"
   ]
  },
  {
   "cell_type": "code",
   "execution_count": 39,
   "id": "e07e1710",
   "metadata": {},
   "outputs": [
    {
     "name": "stdout",
     "output_type": "stream",
     "text": [
      "<class 'pandas.core.frame.DataFrame'>\n",
      "Int64Index: 1268 entries, 0 to 1267\n",
      "Data columns (total 2 columns):\n",
      " #   Column                           Non-Null Count  Dtype  \n",
      "---  ------                           --------------  -----  \n",
      " 0   Сумма заявленных требований      1224 non-null   float64\n",
      " 1   Сумма взыскания по решению суда  1268 non-null   float64\n",
      "dtypes: float64(2)\n",
      "memory usage: 29.7 KB\n"
     ]
    }
   ],
   "source": [
    "data.loc[:,['Сумма заявленных требований', 'Сумма взыскания по решению суда']].info()"
   ]
  },
  {
   "cell_type": "code",
   "execution_count": 40,
   "id": "f3df8ad3",
   "metadata": {},
   "outputs": [
    {
     "data": {
      "text/html": [
       "<div>\n",
       "<style scoped>\n",
       "    .dataframe tbody tr th:only-of-type {\n",
       "        vertical-align: middle;\n",
       "    }\n",
       "\n",
       "    .dataframe tbody tr th {\n",
       "        vertical-align: top;\n",
       "    }\n",
       "\n",
       "    .dataframe thead th {\n",
       "        text-align: right;\n",
       "    }\n",
       "</style>\n",
       "<table border=\"1\" class=\"dataframe\">\n",
       "  <thead>\n",
       "    <tr style=\"text-align: right;\">\n",
       "      <th></th>\n",
       "      <th>Сумма заявленных требований</th>\n",
       "      <th>Сумма взыскания по решению суда</th>\n",
       "    </tr>\n",
       "  </thead>\n",
       "  <tbody>\n",
       "    <tr>\n",
       "      <th>0</th>\n",
       "      <td>120106.50</td>\n",
       "      <td>0.0</td>\n",
       "    </tr>\n",
       "    <tr>\n",
       "      <th>1</th>\n",
       "      <td>222163.15</td>\n",
       "      <td>0.0</td>\n",
       "    </tr>\n",
       "    <tr>\n",
       "      <th>2</th>\n",
       "      <td>384892.89</td>\n",
       "      <td>0.0</td>\n",
       "    </tr>\n",
       "  </tbody>\n",
       "</table>\n",
       "</div>"
      ],
      "text/plain": [
       "   Сумма заявленных требований  Сумма взыскания по решению суда\n",
       "0                    120106.50                              0.0\n",
       "1                    222163.15                              0.0\n",
       "2                    384892.89                              0.0"
      ]
     },
     "execution_count": 40,
     "metadata": {},
     "output_type": "execute_result"
    }
   ],
   "source": [
    "# суммы отображаются корректно\n",
    "data.loc[:, list_to_replace].head(3)"
   ]
  },
  {
   "cell_type": "markdown",
   "id": "d74f8ef1",
   "metadata": {},
   "source": [
    "__Смотрим что в поле Валюта__:"
   ]
  },
  {
   "cell_type": "code",
   "execution_count": 41,
   "id": "74449929",
   "metadata": {},
   "outputs": [
    {
     "data": {
      "text/plain": [
       "RUB    1222\n",
       "USD       2\n",
       "Name: Валюта заявленных требований, dtype: int64"
      ]
     },
     "execution_count": 41,
     "metadata": {},
     "output_type": "execute_result"
    }
   ],
   "source": [
    "data['Валюта заявленных требований'].value_counts()"
   ]
  },
  {
   "cell_type": "code",
   "execution_count": 42,
   "id": "ada62fef",
   "metadata": {},
   "outputs": [
    {
     "data": {
      "text/html": [
       "<div>\n",
       "<style scoped>\n",
       "    .dataframe tbody tr th:only-of-type {\n",
       "        vertical-align: middle;\n",
       "    }\n",
       "\n",
       "    .dataframe tbody tr th {\n",
       "        vertical-align: top;\n",
       "    }\n",
       "\n",
       "    .dataframe thead th {\n",
       "        text-align: right;\n",
       "    }\n",
       "</style>\n",
       "<table border=\"1\" class=\"dataframe\">\n",
       "  <thead>\n",
       "    <tr style=\"text-align: right;\">\n",
       "      <th></th>\n",
       "      <th>Общая сумма ПЗ по ОД</th>\n",
       "      <th>Сумма просроченных процентов</th>\n",
       "    </tr>\n",
       "  </thead>\n",
       "  <tbody>\n",
       "    <tr>\n",
       "      <th>11</th>\n",
       "      <td>2631.79</td>\n",
       "      <td>0.0</td>\n",
       "    </tr>\n",
       "    <tr>\n",
       "      <th>12</th>\n",
       "      <td>2631.79</td>\n",
       "      <td>0.0</td>\n",
       "    </tr>\n",
       "  </tbody>\n",
       "</table>\n",
       "</div>"
      ],
      "text/plain": [
       "    Общая сумма ПЗ по ОД  Сумма просроченных процентов\n",
       "11               2631.79                           0.0\n",
       "12               2631.79                           0.0"
      ]
     },
     "execution_count": 42,
     "metadata": {},
     "output_type": "execute_result"
    }
   ],
   "source": [
    "data.loc[data['Валюта заявленных требований'] == 'USD', ['Общая сумма ПЗ по ОД', 'Сумма просроченных процентов']]"
   ]
  },
  {
   "cell_type": "markdown",
   "id": "d6adfc15",
   "metadata": {},
   "source": [
    "__Меняем валютные значения у колонок:__"
   ]
  },
  {
   "cell_type": "code",
   "execution_count": 43,
   "id": "cda78a0e",
   "metadata": {},
   "outputs": [
    {
     "data": {
      "text/html": [
       "<div>\n",
       "<style scoped>\n",
       "    .dataframe tbody tr th:only-of-type {\n",
       "        vertical-align: middle;\n",
       "    }\n",
       "\n",
       "    .dataframe tbody tr th {\n",
       "        vertical-align: top;\n",
       "    }\n",
       "\n",
       "    .dataframe thead th {\n",
       "        text-align: right;\n",
       "    }\n",
       "</style>\n",
       "<table border=\"1\" class=\"dataframe\">\n",
       "  <thead>\n",
       "    <tr style=\"text-align: right;\">\n",
       "      <th></th>\n",
       "      <th>Общая сумма ПЗ по ОД</th>\n",
       "      <th>Сумма просроченных процентов</th>\n",
       "    </tr>\n",
       "  </thead>\n",
       "  <tbody>\n",
       "    <tr>\n",
       "      <th>11</th>\n",
       "      <td>184225.3</td>\n",
       "      <td>0.0</td>\n",
       "    </tr>\n",
       "    <tr>\n",
       "      <th>12</th>\n",
       "      <td>184225.3</td>\n",
       "      <td>0.0</td>\n",
       "    </tr>\n",
       "  </tbody>\n",
       "</table>\n",
       "</div>"
      ],
      "text/plain": [
       "    Общая сумма ПЗ по ОД  Сумма просроченных процентов\n",
       "11              184225.3                           0.0\n",
       "12              184225.3                           0.0"
      ]
     },
     "execution_count": 43,
     "metadata": {},
     "output_type": "execute_result"
    }
   ],
   "source": [
    "data.loc[data['Валюта заявленных требований']=='USD', 'Общая сумма ПЗ по ОД'] *= 70\n",
    "data.loc[data['Валюта заявленных требований']=='USD', 'Сумма просроченных процентов'] *= 70\n",
    "\n",
    "data.loc[data['Валюта заявленных требований']=='EUR', 'Общая сумма ПЗ по ОД'] *= 70\n",
    "data.loc[data['Валюта заявленных требований']=='EUR', 'Сумма просроченных процентов'] *= 70\n",
    "\n",
    "# сравниваем как прошел перевод - строкой выше цифры до преобразования\n",
    "data.loc[data['Валюта заявленных требований'] == 'USD', ['Общая сумма ПЗ по ОД', 'Сумма просроченных процентов']]"
   ]
  },
  {
   "cell_type": "markdown",
   "id": "303a3543",
   "metadata": {},
   "source": [
    "Тип сокр и РОО"
   ]
  },
  {
   "cell_type": "markdown",
   "id": "1390289d",
   "metadata": {},
   "source": [
    "##  Переписываю поле Тип\n",
    "\n",
    "Суть в том, что Банкроты могут быть МБ или РБ, но Банкротов РБ МБ нужно учесть как МБ"
   ]
  },
  {
   "cell_type": "code",
   "execution_count": 44,
   "id": "cc41e615",
   "metadata": {},
   "outputs": [],
   "source": [
    "data['Тип сокр'] = data['Тип']"
   ]
  },
  {
   "cell_type": "code",
   "execution_count": 45,
   "id": "38ffca73",
   "metadata": {},
   "outputs": [],
   "source": [
    "data['Тип сокр'] = data['Тип сокр'].convert_dtypes()"
   ]
  },
  {
   "cell_type": "code",
   "execution_count": 46,
   "id": "cf01d569",
   "metadata": {},
   "outputs": [
    {
     "data": {
      "text/plain": [
       "Банкротство ФЛ РБ                861\n",
       "Взыскание задолженности ПА РБ    344\n",
       "Взыскание задолженности ПА МБ     45\n",
       "Банкротство ЮЛ МБ                 13\n",
       "Банкротство ФЛ МБ                  5\n",
       "Name: Тип сокр, dtype: Int64"
      ]
     },
     "execution_count": 46,
     "metadata": {},
     "output_type": "execute_result"
    }
   ],
   "source": [
    "data['Тип сокр'].value_counts()"
   ]
  },
  {
   "cell_type": "code",
   "execution_count": 47,
   "id": "0f9bc089",
   "metadata": {},
   "outputs": [],
   "source": [
    "data['Тип сокр'] = np.where((data['Тип'] == 'Банкротство ФЛ РБ'), 'Банкротство РБ', data['Тип сокр'])\n",
    "data['Тип сокр'] = np.where((data['Тип'] == 'Банкротство ЮЛ МБ'), 'Банкротство МБ', data['Тип сокр'])    \n",
    "data['Тип сокр'] = np.where((data['Тип'] == 'Банкротство ФЛ МБ'), 'Банкротство МБ', data['Тип сокр'])    \n",
    "data['Тип сокр'] = np.where((data['Тип'] == 'Взыскание задолженности ПА РБ'), 'Взыскание РБ', data['Тип сокр'])\n",
    "data['Тип сокр'] = np.where((data['Тип'] == 'Взыскание задолженности ПА МБ'), 'Взыскание МБ', data['Тип сокр'])\n"
   ]
  },
  {
   "cell_type": "code",
   "execution_count": 48,
   "id": "300a3ada",
   "metadata": {},
   "outputs": [
    {
     "data": {
      "text/html": [
       "<div>\n",
       "<style scoped>\n",
       "    .dataframe tbody tr th:only-of-type {\n",
       "        vertical-align: middle;\n",
       "    }\n",
       "\n",
       "    .dataframe tbody tr th {\n",
       "        vertical-align: top;\n",
       "    }\n",
       "\n",
       "    .dataframe thead th {\n",
       "        text-align: right;\n",
       "    }\n",
       "</style>\n",
       "<table border=\"1\" class=\"dataframe\">\n",
       "  <thead>\n",
       "    <tr style=\"text-align: right;\">\n",
       "      <th></th>\n",
       "      <th></th>\n",
       "      <th>Номер по SIEBEL</th>\n",
       "    </tr>\n",
       "    <tr>\n",
       "      <th>Тип сокр</th>\n",
       "      <th>Тип</th>\n",
       "      <th></th>\n",
       "    </tr>\n",
       "  </thead>\n",
       "  <tbody>\n",
       "    <tr>\n",
       "      <th rowspan=\"2\" valign=\"top\">Банкротство МБ</th>\n",
       "      <th>Банкротство ФЛ МБ</th>\n",
       "      <td>5</td>\n",
       "    </tr>\n",
       "    <tr>\n",
       "      <th>Банкротство ЮЛ МБ</th>\n",
       "      <td>13</td>\n",
       "    </tr>\n",
       "    <tr>\n",
       "      <th>Банкротство РБ</th>\n",
       "      <th>Банкротство ФЛ РБ</th>\n",
       "      <td>861</td>\n",
       "    </tr>\n",
       "    <tr>\n",
       "      <th>Взыскание МБ</th>\n",
       "      <th>Взыскание задолженности ПА МБ</th>\n",
       "      <td>45</td>\n",
       "    </tr>\n",
       "    <tr>\n",
       "      <th>Взыскание РБ</th>\n",
       "      <th>Взыскание задолженности ПА РБ</th>\n",
       "      <td>344</td>\n",
       "    </tr>\n",
       "  </tbody>\n",
       "</table>\n",
       "</div>"
      ],
      "text/plain": [
       "                                              Номер по SIEBEL\n",
       "Тип сокр       Тип                                           \n",
       "Банкротство МБ Банкротство ФЛ МБ                            5\n",
       "               Банкротство ЮЛ МБ                           13\n",
       "Банкротство РБ Банкротство ФЛ РБ                          861\n",
       "Взыскание МБ   Взыскание задолженности ПА МБ               45\n",
       "Взыскание РБ   Взыскание задолженности ПА РБ              344"
      ]
     },
     "execution_count": 48,
     "metadata": {},
     "output_type": "execute_result"
    }
   ],
   "source": [
    "# смотрим результат\n",
    "data.groupby(['Тип сокр', 'Тип']).agg({'Номер по SIEBEL': 'count'})\n",
    "\n",
    "# все корректно"
   ]
  },
  {
   "cell_type": "markdown",
   "id": "2b3766f9",
   "metadata": {},
   "source": [
    "## Создаем колонку дата конца:"
   ]
  },
  {
   "cell_type": "code",
   "execution_count": 49,
   "id": "a18f284c",
   "metadata": {},
   "outputs": [
    {
     "data": {
      "text/plain": [
       "2023-03-31    1268\n",
       "Name: Дата конца, dtype: int64"
      ]
     },
     "execution_count": 49,
     "metadata": {},
     "output_type": "execute_result"
    }
   ],
   "source": [
    "data['Дата конца'] = date_of_quarter_end\n",
    "data['Дата конца'].value_counts()"
   ]
  },
  {
   "cell_type": "code",
   "execution_count": 50,
   "id": "51b2323c",
   "metadata": {},
   "outputs": [
    {
     "data": {
      "text/html": [
       "<div>\n",
       "<style scoped>\n",
       "    .dataframe tbody tr th:only-of-type {\n",
       "        vertical-align: middle;\n",
       "    }\n",
       "\n",
       "    .dataframe tbody tr th {\n",
       "        vertical-align: top;\n",
       "    }\n",
       "\n",
       "    .dataframe thead th {\n",
       "        text-align: right;\n",
       "    }\n",
       "</style>\n",
       "<table border=\"1\" class=\"dataframe\">\n",
       "  <thead>\n",
       "    <tr style=\"text-align: right;\">\n",
       "      <th></th>\n",
       "      <th>Дата конца</th>\n",
       "    </tr>\n",
       "  </thead>\n",
       "  <tbody>\n",
       "    <tr>\n",
       "      <th>0</th>\n",
       "      <td>2023-03-31</td>\n",
       "    </tr>\n",
       "    <tr>\n",
       "      <th>1</th>\n",
       "      <td>2023-03-31</td>\n",
       "    </tr>\n",
       "    <tr>\n",
       "      <th>2</th>\n",
       "      <td>2023-03-31</td>\n",
       "    </tr>\n",
       "    <tr>\n",
       "      <th>3</th>\n",
       "      <td>2023-03-31</td>\n",
       "    </tr>\n",
       "    <tr>\n",
       "      <th>4</th>\n",
       "      <td>2023-03-31</td>\n",
       "    </tr>\n",
       "    <tr>\n",
       "      <th>...</th>\n",
       "      <td>...</td>\n",
       "    </tr>\n",
       "    <tr>\n",
       "      <th>1263</th>\n",
       "      <td>2023-03-31</td>\n",
       "    </tr>\n",
       "    <tr>\n",
       "      <th>1264</th>\n",
       "      <td>2023-03-31</td>\n",
       "    </tr>\n",
       "    <tr>\n",
       "      <th>1265</th>\n",
       "      <td>2023-03-31</td>\n",
       "    </tr>\n",
       "    <tr>\n",
       "      <th>1266</th>\n",
       "      <td>2023-03-31</td>\n",
       "    </tr>\n",
       "    <tr>\n",
       "      <th>1267</th>\n",
       "      <td>2023-03-31</td>\n",
       "    </tr>\n",
       "  </tbody>\n",
       "</table>\n",
       "<p>1268 rows × 1 columns</p>\n",
       "</div>"
      ],
      "text/plain": [
       "      Дата конца\n",
       "0     2023-03-31\n",
       "1     2023-03-31\n",
       "2     2023-03-31\n",
       "3     2023-03-31\n",
       "4     2023-03-31\n",
       "...          ...\n",
       "1263  2023-03-31\n",
       "1264  2023-03-31\n",
       "1265  2023-03-31\n",
       "1266  2023-03-31\n",
       "1267  2023-03-31\n",
       "\n",
       "[1268 rows x 1 columns]"
      ]
     },
     "execution_count": 50,
     "metadata": {},
     "output_type": "execute_result"
    }
   ],
   "source": [
    "data.loc[:, ['Дата конца', ]]"
   ]
  },
  {
   "cell_type": "markdown",
   "id": "fdd7200b",
   "metadata": {},
   "source": [
    "__Добавляю колонки, значения по умолчанию будут None, чтобы потом можно было себя перепроверить__"
   ]
  },
  {
   "cell_type": "code",
   "execution_count": 51,
   "id": "c9c65657",
   "metadata": {},
   "outputs": [],
   "source": [
    "columns_to_add = ['Кол-во дней', 'Коэф', 'Факт', 'План']\n",
    "\n",
    "for i in columns_to_add:\n",
    "    data[i] = None"
   ]
  },
  {
   "cell_type": "markdown",
   "id": "d22ecf71",
   "metadata": {},
   "source": [
    "# Заполняем колонки:\n",
    "\n",
    "__Колонка Кол-во дней:__\n",
    "\n",
    "Здесь есть особенность по делам созданным либо завершенным в период с 15 дек по 19 янв - по ним срок увеличен на 35 дней. Это нужно учитывать"
   ]
  },
  {
   "cell_type": "code",
   "execution_count": 52,
   "id": "98feb7aa",
   "metadata": {},
   "outputs": [
    {
     "data": {
      "text/plain": [
       "5   171 days\n",
       "dtype: timedelta64[ns]"
      ]
     },
     "execution_count": 52,
     "metadata": {},
     "output_type": "execute_result"
    }
   ],
   "source": [
    "# промежуточный вариант для понимания что будет выводиться\n",
    "d = data.loc[data.index == 5]['Дата конца'] - data.loc[data.index == 5]['Дата создания']\n",
    "d"
   ]
  },
  {
   "cell_type": "code",
   "execution_count": 53,
   "id": "ccdb4189",
   "metadata": {},
   "outputs": [
    {
     "data": {
      "text/plain": [
       "5    171\n",
       "dtype: int64"
      ]
     },
     "execution_count": 53,
     "metadata": {},
     "output_type": "execute_result"
    }
   ],
   "source": [
    "# так будем забирать только число\n",
    "d.dt.days"
   ]
  },
  {
   "cell_type": "code",
   "execution_count": 54,
   "id": "acd53698",
   "metadata": {},
   "outputs": [],
   "source": [
    "# ф-ция расчета кол-ва дней  - по завершенным вычитается Дата закрытия из Даты создания, а по активным из Даты конца.\n",
    "\n",
    "def count_num_days(row):\n",
    "#     try:\n",
    "    if row['Статус'] == 'Завершено':\n",
    "        if (row['Дата создания'] >= datetime(2022, 12, 15, 0, 0, 0, 1).date()) and \\\n",
    "        row['Дата создания'] <= datetime(2023, 1, 19, 0, 0, 0, 1).date():\n",
    "            date_x = row['Дата закрытия'] - row['Дата создания'] - timedelta(days=35)\n",
    "            return date_x.days\n",
    "\n",
    "        if (row['Дата закрытия'] >= datetime(2022, 12, 31, 23, 59, 0, 1).date()) and \\\n",
    "        (row['Дата закрытия'] <= datetime(2023, 1, 19, 0, 0, 0, 1).date()):\n",
    "            date_x = row['Дата закрытия'] - row['Дата создания'] - timedelta(days=35)\n",
    "            return date_x.days\n",
    "\n",
    "        date_x = row['Дата закрытия'] - row['Дата создания']\n",
    "        return date_x.days\n",
    "\n",
    "    # пошел блок по не завершенным делам\n",
    "    else:\n",
    "        if (row['Дата создания'] >= datetime(2022, 12, 15, 0, 0, 0, 1).date()) and \\\n",
    "        (row['Дата создания'] <= datetime(2023, 1, 19, 0, 0, 0, 1).date()):\n",
    "            date_x = row['Дата конца'] - row['Дата создания'] - timedelta(days=35)\n",
    "            return date_x.days\n",
    "\n",
    "        # для всех остальных случаев\n",
    "        date_x = row['Дата конца'] - row['Дата создания']\n",
    "        return date_x.days\n",
    "#     except TypeError:\n",
    "#         row\n",
    "data['Кол-во дней'] = data.apply(count_num_days, axis=1)"
   ]
  },
  {
   "cell_type": "code",
   "execution_count": 55,
   "id": "8feb4240",
   "metadata": {},
   "outputs": [],
   "source": [
    "#  РАБОТАЕТ, ВЫКЛЮЧИЛ ЧТОБЫ НАПИСАТЬ опмтимальнее - см. выше\n",
    "\n",
    "# indx_closed_deals = data.loc[data['Статус'] == 'Завершено'].index\n",
    "# indx_active_deals = data.loc[data['Статус'] != 'Завершено'].index\n",
    "\n",
    "# for indx in indx_closed_deals:\n",
    "#     data.loc[indx, 'Кол-во дней'] = data.loc[indx, 'Дата закрытия'] - data.loc[indx, 'Дата создания']\n",
    "    \n",
    "# for indx in indx_active_deals:\n",
    "#     data.loc[indx, 'Кол-во дней'] = data.loc[indx, 'Дата конца'] - data.loc[indx, 'Дата создания']\n",
    "    \n",
    "# # перевожу в числовой формат, чтобы можно было потом сравнивать\n",
    "# data['Кол-во дней'] = data['Кол-во дней'].apply(lambda x: x.days)"
   ]
  },
  {
   "cell_type": "markdown",
   "id": "2bd930c1",
   "metadata": {},
   "source": [
    "__Сокращу кол-во колонок для удобства написания функции расчета коэффициента:__"
   ]
  },
  {
   "cell_type": "code",
   "execution_count": 56,
   "id": "803a88d7",
   "metadata": {},
   "outputs": [
    {
     "data": {
      "text/html": [
       "<div>\n",
       "<style scoped>\n",
       "    .dataframe tbody tr th:only-of-type {\n",
       "        vertical-align: middle;\n",
       "    }\n",
       "\n",
       "    .dataframe tbody tr th {\n",
       "        vertical-align: top;\n",
       "    }\n",
       "\n",
       "    .dataframe thead th {\n",
       "        text-align: right;\n",
       "    }\n",
       "</style>\n",
       "<table border=\"1\" class=\"dataframe\">\n",
       "  <thead>\n",
       "    <tr style=\"text-align: right;\">\n",
       "      <th></th>\n",
       "      <th>Номер по SIEBEL</th>\n",
       "      <th>РОО</th>\n",
       "      <th>Статус</th>\n",
       "      <th>Сумма заявленных требований</th>\n",
       "      <th>Сумма взыскания по решению суда</th>\n",
       "      <th>Дата создания</th>\n",
       "      <th>Дата конца</th>\n",
       "      <th>Комментарии</th>\n",
       "      <th>Дата закрытия</th>\n",
       "      <th>Учтен</th>\n",
       "      <th>Кол-во дней</th>\n",
       "      <th>Коэф</th>\n",
       "      <th>СТ/НСТ</th>\n",
       "      <th>Статус активности нст</th>\n",
       "      <th>Тип сокр</th>\n",
       "      <th>Общая сумма ПЗ по ОД</th>\n",
       "      <th>Сумма просроченных процентов</th>\n",
       "      <th>Факт</th>\n",
       "      <th>План</th>\n",
       "    </tr>\n",
       "  </thead>\n",
       "  <tbody>\n",
       "    <tr>\n",
       "      <th>0</th>\n",
       "      <td>1-2922685695</td>\n",
       "      <td>Нальчик</td>\n",
       "      <td>В работе</td>\n",
       "      <td>120106.50</td>\n",
       "      <td>0.0</td>\n",
       "      <td>2022-10-11</td>\n",
       "      <td>2023-03-31</td>\n",
       "      <td>Иск.Наследники. Иск направлен в суд - 19.10.20...</td>\n",
       "      <td>NaT</td>\n",
       "      <td>NaN</td>\n",
       "      <td>171</td>\n",
       "      <td>None</td>\n",
       "      <td>СТ</td>\n",
       "      <td>NaN</td>\n",
       "      <td>Взыскание РБ</td>\n",
       "      <td>59281.32</td>\n",
       "      <td>7139.14</td>\n",
       "      <td>None</td>\n",
       "      <td>None</td>\n",
       "    </tr>\n",
       "    <tr>\n",
       "      <th>1</th>\n",
       "      <td>1-2566500297</td>\n",
       "      <td>Нальчик</td>\n",
       "      <td>В работе</td>\n",
       "      <td>222163.15</td>\n",
       "      <td>0.0</td>\n",
       "      <td>2022-06-06</td>\n",
       "      <td>2023-03-31</td>\n",
       "      <td>Иск. Наследники. Исковое заявление напр. в суд...</td>\n",
       "      <td>NaT</td>\n",
       "      <td>NaN</td>\n",
       "      <td>298</td>\n",
       "      <td>None</td>\n",
       "      <td>СТ</td>\n",
       "      <td>NaN</td>\n",
       "      <td>Взыскание РБ</td>\n",
       "      <td>175467.50</td>\n",
       "      <td>46695.65</td>\n",
       "      <td>None</td>\n",
       "      <td>None</td>\n",
       "    </tr>\n",
       "    <tr>\n",
       "      <th>2</th>\n",
       "      <td>1-2566858573</td>\n",
       "      <td>Нальчик</td>\n",
       "      <td>В работе</td>\n",
       "      <td>384892.89</td>\n",
       "      <td>0.0</td>\n",
       "      <td>2022-06-06</td>\n",
       "      <td>2023-03-31</td>\n",
       "      <td>Иск.Наследники. Исковое заявление напр. в суд ...</td>\n",
       "      <td>NaT</td>\n",
       "      <td>NaN</td>\n",
       "      <td>298</td>\n",
       "      <td>None</td>\n",
       "      <td>СТ</td>\n",
       "      <td>NaN</td>\n",
       "      <td>Взыскание РБ</td>\n",
       "      <td>315937.21</td>\n",
       "      <td>47946.16</td>\n",
       "      <td>None</td>\n",
       "      <td>None</td>\n",
       "    </tr>\n",
       "  </tbody>\n",
       "</table>\n",
       "</div>"
      ],
      "text/plain": [
       "  Номер по SIEBEL      РОО    Статус  Сумма заявленных требований  \\\n",
       "0    1-2922685695  Нальчик  В работе                    120106.50   \n",
       "1    1-2566500297  Нальчик  В работе                    222163.15   \n",
       "2    1-2566858573  Нальчик  В работе                    384892.89   \n",
       "\n",
       "   Сумма взыскания по решению суда Дата создания  Дата конца  \\\n",
       "0                              0.0    2022-10-11  2023-03-31   \n",
       "1                              0.0    2022-06-06  2023-03-31   \n",
       "2                              0.0    2022-06-06  2023-03-31   \n",
       "\n",
       "                                         Комментарии Дата закрытия Учтен  \\\n",
       "0  Иск.Наследники. Иск направлен в суд - 19.10.20...           NaT   NaN   \n",
       "1  Иск. Наследники. Исковое заявление напр. в суд...           NaT   NaN   \n",
       "2  Иск.Наследники. Исковое заявление напр. в суд ...           NaT   NaN   \n",
       "\n",
       "   Кол-во дней  Коэф СТ/НСТ Статус активности нст      Тип сокр  \\\n",
       "0          171  None     СТ                   NaN  Взыскание РБ   \n",
       "1          298  None     СТ                   NaN  Взыскание РБ   \n",
       "2          298  None     СТ                   NaN  Взыскание РБ   \n",
       "\n",
       "   Общая сумма ПЗ по ОД  Сумма просроченных процентов  Факт  План  \n",
       "0              59281.32                       7139.14  None  None  \n",
       "1             175467.50                      46695.65  None  None  \n",
       "2             315937.21                      47946.16  None  None  "
      ]
     },
     "execution_count": 56,
     "metadata": {},
     "output_type": "execute_result"
    }
   ],
   "source": [
    "cols_list = ['Номер по SIEBEL', 'РОО', 'Статус', 'Сумма заявленных требований','Сумма взыскания по решению суда',\\\n",
    "             'Дата создания', 'Дата конца','Комментарии','Дата закрытия','Учтен','Кол-во дней', 'Коэф','СТ/НСТ', \\\n",
    "             'Статус активности нст','Тип сокр','Общая сумма ПЗ по ОД','Сумма просроченных процентов','Факт', 'План']\n",
    "\n",
    "#выключить при демонстрации\n",
    "# list_for_work = ['Ответственный','Договор', 'Заемщик ФЛ', 'Заемщик КМБ']\n",
    "# cols_list = cols_list + list_for_work\n",
    "        \n",
    "data_cuted = data.loc[:, cols_list]\n",
    "data_cuted.head(3)"
   ]
  },
  {
   "cell_type": "code",
   "execution_count": 57,
   "id": "1a3fdf4e",
   "metadata": {},
   "outputs": [
    {
     "data": {
      "text/plain": [
       "Банкротство РБ    861\n",
       "Взыскание РБ      344\n",
       "Взыскание МБ       45\n",
       "Банкротство МБ     18\n",
       "Name: Тип сокр, dtype: int64"
      ]
     },
     "execution_count": 57,
     "metadata": {},
     "output_type": "execute_result"
    }
   ],
   "source": [
    "# выведу типы дел, чтобы под них написать ф-цию расчета коэффициента\n",
    "data_cuted['Тип сокр'].value_counts()"
   ]
  },
  {
   "cell_type": "code",
   "execution_count": 58,
   "id": "f4781935",
   "metadata": {},
   "outputs": [],
   "source": [
    "# Коэф. одинаковые, но у стандартных дел свои сроки, у нест. - свои.\n",
    "def get_coef(row):\n",
    "    if row['Статус'] == 'Завершено':\n",
    "        if row['СТ/НСТ'] == 'СТ':                     # Блок Завершенные СТ\n",
    "            if row['Тип сокр'] == 'Банкротство РБ':\n",
    "                if row['Кол-во дней'] <= 60:\n",
    "                    return 1.5\n",
    "                if (row['Кол-во дней'] > 60) and (row['Кол-во дней'] <= 100):\n",
    "                    return 1\n",
    "                if (row['Кол-во дней'] > 100) and (row['Кол-во дней'] <= 220):\n",
    "                    return 0.3\n",
    "                if row['Кол-во дней'] > 220:\n",
    "                    return 0.7\n",
    "                \n",
    "            if row['Тип сокр'] == 'Банкротство МБ':\n",
    "                if row['Кол-во дней'] <= 80:\n",
    "                    return 1.5\n",
    "                if (row['Кол-во дней'] > 80) and (row['Кол-во дней'] <= 170):\n",
    "                    return 1\n",
    "                if (row['Кол-во дней'] > 170) and (row['Кол-во дней'] <= 290):\n",
    "                    return 0.3\n",
    "                if row['Кол-во дней'] > 290:\n",
    "                    return 0.7\n",
    "                \n",
    "            if row['Тип сокр'] == 'Взыскание МБ':\n",
    "                if row['Кол-во дней'] <= 160:\n",
    "                    return 1.5\n",
    "                if (row['Кол-во дней'] > 160) and (row['Кол-во дней'] <= 180):\n",
    "                    return 1\n",
    "                if (row['Кол-во дней'] > 180) and (row['Кол-во дней'] <= 300):\n",
    "                    return 0.3\n",
    "                if row['Кол-во дней'] > 300:\n",
    "                    return 0.7\n",
    "                \n",
    "            if row['Тип сокр'] == 'Взыскание РБ':\n",
    "                if row['Кол-во дней'] <= 160:\n",
    "                    return 1.5\n",
    "                if (row['Кол-во дней'] > 160) and (row['Кол-во дней'] <= 170):\n",
    "                    return 1\n",
    "                if (row['Кол-во дней'] > 170) and (row['Кол-во дней'] <= 290):\n",
    "                    return 0.3\n",
    "                if row['Кол-во дней'] > 290:\n",
    "                    return 0.7\n",
    "                \n",
    "        # Блок Завершенные НСТ\n",
    "        if row['Тип сокр'] == 'Банкротство РБ':\n",
    "                if row['Кол-во дней'] <= 60:\n",
    "                    return 1.5\n",
    "                if (row['Кол-во дней'] > 60) and (row['Кол-во дней'] <= 250):\n",
    "                    return 1\n",
    "                if (row['Кол-во дней'] > 250) and (row['Кол-во дней'] <= 370):\n",
    "                    return 0.3\n",
    "                if row['Кол-во дней'] > 370:\n",
    "                    return 0.7\n",
    "                \n",
    "        if row['Тип сокр'] == 'Банкротство МБ':\n",
    "            if row['Кол-во дней'] <= 80:\n",
    "                return 1.5\n",
    "            if (row['Кол-во дней'] > 80) and (row['Кол-во дней'] <= 390):\n",
    "                return 1\n",
    "            if (row['Кол-во дней'] > 390) and (row['Кол-во дней'] <= 510):\n",
    "                return 0.3\n",
    "            if row['Кол-во дней'] > 510:\n",
    "                return 0.7\n",
    "\n",
    "        if row['Тип сокр'] == 'Взыскание МБ':\n",
    "            if row['Кол-во дней'] <= 180:\n",
    "                return 1.5\n",
    "            if (row['Кол-во дней'] > 180) and (row['Кол-во дней'] <= 300):\n",
    "                return 1\n",
    "            if (row['Кол-во дней'] > 300) and (row['Кол-во дней'] <= 420):\n",
    "                return 0.3\n",
    "            if row['Кол-во дней'] > 420:\n",
    "                return 0.7\n",
    "\n",
    "        if row['Тип сокр'] == 'Взыскание РБ':\n",
    "            if row['Кол-во дней'] <= 160:\n",
    "                return 1.5\n",
    "            if (row['Кол-во дней'] > 160) and (row['Кол-во дней'] <= 270):\n",
    "                return 1\n",
    "            if (row['Кол-во дней'] > 270) and (row['Кол-во дней'] <= 390):\n",
    "                return 0.3\n",
    "            if row['Кол-во дней'] > 390:\n",
    "                return 0.7\n",
    "                \n",
    "                \n",
    "    # пошел блок активных дел (не завершенные)\n",
    "    else:\n",
    "        if row['СТ/НСТ'] == 'СТ':                       # активные СТ\n",
    "            if row['Тип сокр'] == 'Банкротство РБ':\n",
    "                if row['Кол-во дней'] < 100:\n",
    "                    return 0\n",
    "                if row['Кол-во дней'] > 100:\n",
    "                    if (row['Кол-во дней'] >= 190) and (row['Кол-во дней'] <= 220):      \n",
    "                        return 0\n",
    "                    return 1\n",
    "                    \n",
    "                \n",
    "            if row['Тип сокр'] == 'Банкротство МБ':\n",
    "                if row['Кол-во дней'] < 170:\n",
    "                    return 0\n",
    "                if row['Кол-во дней'] > 170:\n",
    "                    if (row['Кол-во дней'] >= 260) and (row['Кол-во дней'] <= 290):       \n",
    "                        return 0\n",
    "                    return 1\n",
    "                \n",
    "            if row['Тип сокр'] == 'Взыскание МБ':\n",
    "                if row['Кол-во дней'] < 180:\n",
    "                    return 0\n",
    "                if row['Кол-во дней'] > 180:\n",
    "                    if (row['Кол-во дней'] >= 270) and (row['Кол-во дней'] <= 300):       \n",
    "                        return 0\n",
    "                    return 1\n",
    "                \n",
    "            if row['Тип сокр'] == 'Взыскание РБ':\n",
    "                if row['Кол-во дней'] < 170:\n",
    "                    return 0\n",
    "                if row['Кол-во дней'] > 170:\n",
    "                    if (row['Кол-во дней'] >= 260) and (row['Кол-во дней'] <= 290):      \n",
    "                        return 0\n",
    "                    return 1\n",
    "                \n",
    "        # пошел блок активных НСТ\n",
    "        if row['Тип сокр'] == 'Банкротство РБ':\n",
    "                if row['Кол-во дней'] < 250:\n",
    "                    return 0\n",
    "                if row['Кол-во дней'] >= 250:\n",
    "                    if (row['Кол-во дней'] >= 340) and (row['Кол-во дней'] <= 370):       \n",
    "                        return 0\n",
    "                    return 1   \n",
    "                \n",
    "        if row['Тип сокр'] == 'Банкротство МБ':\n",
    "            if row['Кол-во дней'] < 390:\n",
    "                return 0\n",
    "            if row['Кол-во дней'] >= 390:\n",
    "                if (row['Кол-во дней'] >= 480) and (row['Кол-во дней'] <= 510):       \n",
    "                    return 0\n",
    "                return 1\n",
    "\n",
    "        if row['Тип сокр'] == 'Взыскание МБ':\n",
    "            if row['Кол-во дней'] < 300:\n",
    "                return 0\n",
    "            if row['Кол-во дней'] >= 300:\n",
    "                if (row['Кол-во дней'] >= 390) and (row['Кол-во дней'] <= 420):       \n",
    "                    return 0\n",
    "                return 1\n",
    "\n",
    "        if row['Тип сокр'] == 'Взыскание РБ':\n",
    "            if row['Кол-во дней'] < 270:\n",
    "                return 0\n",
    "            if row['Кол-во дней'] >= 270:\n",
    "                if (row['Кол-во дней'] >= 360) and (row['Кол-во дней'] <= 390):      \n",
    "                    return 0\n",
    "                return 1\n",
    "            \n",
    "data_cuted['Коэф'] = data_cuted.apply(get_coef, axis=1)"
   ]
  },
  {
   "cell_type": "markdown",
   "id": "602989b6",
   "metadata": {},
   "source": [
    "__Помним что ранее учтенные дела не подлежат учету в СМОТ текущего квартала.__\n",
    "\n",
    "Обнуляем коэф. по этим делам:"
   ]
  },
  {
   "cell_type": "code",
   "execution_count": 59,
   "id": "08daaed8",
   "metadata": {},
   "outputs": [],
   "source": [
    "data_cuted['Учтен'] = data_cuted['Учтен'].convert_dtypes()"
   ]
  },
  {
   "cell_type": "code",
   "execution_count": 60,
   "id": "cf01a3bd",
   "metadata": {},
   "outputs": [
    {
     "data": {
      "text/plain": [
       "3 квартал 2021        7\n",
       "4 квартал 2020        4\n",
       "основное дело у ЮД    3\n",
       "3 квартал 2019        2\n",
       "2 квартал 2019        1\n",
       "3 квартал 2022        1\n",
       "4 квартал 2019        1\n",
       "Name: Учтен, dtype: Int64"
      ]
     },
     "execution_count": 60,
     "metadata": {},
     "output_type": "execute_result"
    }
   ],
   "source": [
    "data_cuted['Учтен'].value_counts()"
   ]
  },
  {
   "cell_type": "code",
   "execution_count": 61,
   "id": "7bb48d03",
   "metadata": {},
   "outputs": [],
   "source": [
    "# ф-ция обнуления коэф. по учтеным ранее делам\n",
    "def check_early_doned(row):\n",
    "    if type(row['Учтен']) == str:   # проверяю по типу данных, т.к. если не заполнено, то будет 0, а это цифра\n",
    "        return 0\n",
    "    return row['Коэф']\n",
    "               \n",
    "data_cuted['Коэф'] = data_cuted.apply(check_early_doned, axis=1)"
   ]
  },
  {
   "cell_type": "code",
   "execution_count": 62,
   "id": "66f754b0",
   "metadata": {},
   "outputs": [
    {
     "data": {
      "text/html": [
       "<div>\n",
       "<style scoped>\n",
       "    .dataframe tbody tr th:only-of-type {\n",
       "        vertical-align: middle;\n",
       "    }\n",
       "\n",
       "    .dataframe tbody tr th {\n",
       "        vertical-align: top;\n",
       "    }\n",
       "\n",
       "    .dataframe thead th {\n",
       "        text-align: right;\n",
       "    }\n",
       "</style>\n",
       "<table border=\"1\" class=\"dataframe\">\n",
       "  <thead>\n",
       "    <tr style=\"text-align: right;\">\n",
       "      <th></th>\n",
       "      <th>Номер по SIEBEL</th>\n",
       "      <th>РОО</th>\n",
       "      <th>Статус</th>\n",
       "      <th>Сумма заявленных требований</th>\n",
       "      <th>Сумма взыскания по решению суда</th>\n",
       "      <th>Дата создания</th>\n",
       "      <th>Дата конца</th>\n",
       "      <th>Комментарии</th>\n",
       "      <th>Дата закрытия</th>\n",
       "      <th>Учтен</th>\n",
       "      <th>Кол-во дней</th>\n",
       "      <th>Коэф</th>\n",
       "      <th>СТ/НСТ</th>\n",
       "      <th>Статус активности нст</th>\n",
       "      <th>Тип сокр</th>\n",
       "      <th>Общая сумма ПЗ по ОД</th>\n",
       "      <th>Сумма просроченных процентов</th>\n",
       "      <th>Факт</th>\n",
       "      <th>План</th>\n",
       "    </tr>\n",
       "  </thead>\n",
       "  <tbody>\n",
       "    <tr>\n",
       "      <th>296</th>\n",
       "      <td>1-2921632422</td>\n",
       "      <td>Краснодар</td>\n",
       "      <td>В работе</td>\n",
       "      <td>8176283.11</td>\n",
       "      <td>1486753.05</td>\n",
       "      <td>2022-10-10</td>\n",
       "      <td>2023-03-31</td>\n",
       "      <td>Подан иск по трем к/д, дело не назначено на 25...</td>\n",
       "      <td>NaT</td>\n",
       "      <td>3 квартал 2021</td>\n",
       "      <td>172</td>\n",
       "      <td>0.0</td>\n",
       "      <td>СТ</td>\n",
       "      <td>NaN</td>\n",
       "      <td>Взыскание МБ</td>\n",
       "      <td>0.00</td>\n",
       "      <td>0.0</td>\n",
       "      <td>None</td>\n",
       "      <td>None</td>\n",
       "    </tr>\n",
       "    <tr>\n",
       "      <th>325</th>\n",
       "      <td>1-2921632433</td>\n",
       "      <td>Краснодар</td>\n",
       "      <td>В работе</td>\n",
       "      <td>17888861.65</td>\n",
       "      <td>0.00</td>\n",
       "      <td>2022-10-10</td>\n",
       "      <td>2023-03-31</td>\n",
       "      <td>Иск подан по трем КД, дело не назначено на 25....</td>\n",
       "      <td>NaT</td>\n",
       "      <td>3 квартал 2021</td>\n",
       "      <td>172</td>\n",
       "      <td>0.0</td>\n",
       "      <td>СТ</td>\n",
       "      <td>NaN</td>\n",
       "      <td>Взыскание МБ</td>\n",
       "      <td>0.00</td>\n",
       "      <td>0.0</td>\n",
       "      <td>None</td>\n",
       "      <td>None</td>\n",
       "    </tr>\n",
       "    <tr>\n",
       "      <th>326</th>\n",
       "      <td>1-2921632445</td>\n",
       "      <td>Краснодар</td>\n",
       "      <td>В работе</td>\n",
       "      <td>3675434.56</td>\n",
       "      <td>0.00</td>\n",
       "      <td>2022-10-10</td>\n",
       "      <td>2023-03-31</td>\n",
       "      <td>Иск подан по трем КД, дело не назначено на 25....</td>\n",
       "      <td>NaT</td>\n",
       "      <td>3 квартал 2021</td>\n",
       "      <td>172</td>\n",
       "      <td>0.0</td>\n",
       "      <td>СТ</td>\n",
       "      <td>NaN</td>\n",
       "      <td>Взыскание МБ</td>\n",
       "      <td>0.00</td>\n",
       "      <td>0.0</td>\n",
       "      <td>None</td>\n",
       "      <td>None</td>\n",
       "    </tr>\n",
       "    <tr>\n",
       "      <th>883</th>\n",
       "      <td>1-2138028794</td>\n",
       "      <td>Краснодар</td>\n",
       "      <td>В работе</td>\n",
       "      <td>2247091.81</td>\n",
       "      <td>2247091.81</td>\n",
       "      <td>2021-12-28</td>\n",
       "      <td>2023-03-31</td>\n",
       "      <td>иск направлен 10.01 с/з 09.02, 09.03 возражени...</td>\n",
       "      <td>2022-08-10</td>\n",
       "      <td>3 квартал 2021</td>\n",
       "      <td>458</td>\n",
       "      <td>0.0</td>\n",
       "      <td>НСТ</td>\n",
       "      <td>Завершено</td>\n",
       "      <td>Взыскание МБ</td>\n",
       "      <td>6270554.37</td>\n",
       "      <td>711908.4</td>\n",
       "      <td>None</td>\n",
       "      <td>None</td>\n",
       "    </tr>\n",
       "    <tr>\n",
       "      <th>884</th>\n",
       "      <td>1-2138028794</td>\n",
       "      <td>Краснодар</td>\n",
       "      <td>В работе</td>\n",
       "      <td>2247091.81</td>\n",
       "      <td>2247091.81</td>\n",
       "      <td>2021-12-28</td>\n",
       "      <td>2023-03-31</td>\n",
       "      <td>иск направлен 10.01 с/з 09.02, 09.03 возражени...</td>\n",
       "      <td>2022-08-10</td>\n",
       "      <td>3 квартал 2021</td>\n",
       "      <td>458</td>\n",
       "      <td>0.0</td>\n",
       "      <td>НСТ</td>\n",
       "      <td>Завершено</td>\n",
       "      <td>Взыскание МБ</td>\n",
       "      <td>6270554.37</td>\n",
       "      <td>711908.4</td>\n",
       "      <td>None</td>\n",
       "      <td>None</td>\n",
       "    </tr>\n",
       "    <tr>\n",
       "      <th>885</th>\n",
       "      <td>1-2138028806</td>\n",
       "      <td>Краснодар</td>\n",
       "      <td>В работе</td>\n",
       "      <td>635509.83</td>\n",
       "      <td>635509.83</td>\n",
       "      <td>2021-12-28</td>\n",
       "      <td>2023-03-31</td>\n",
       "      <td>иск направлен 10.01 с/з 09.02, 09.03 возражени...</td>\n",
       "      <td>2022-08-10</td>\n",
       "      <td>3 квартал 2021</td>\n",
       "      <td>458</td>\n",
       "      <td>0.0</td>\n",
       "      <td>НСТ</td>\n",
       "      <td>Завершено</td>\n",
       "      <td>Взыскание МБ</td>\n",
       "      <td>1520059.55</td>\n",
       "      <td>194033.9</td>\n",
       "      <td>None</td>\n",
       "      <td>None</td>\n",
       "    </tr>\n",
       "    <tr>\n",
       "      <th>886</th>\n",
       "      <td>1-2138028806</td>\n",
       "      <td>Краснодар</td>\n",
       "      <td>В работе</td>\n",
       "      <td>635509.83</td>\n",
       "      <td>635509.83</td>\n",
       "      <td>2021-12-28</td>\n",
       "      <td>2023-03-31</td>\n",
       "      <td>иск направлен 10.01 с/з 09.02, 09.03 возражени...</td>\n",
       "      <td>2022-08-10</td>\n",
       "      <td>3 квартал 2021</td>\n",
       "      <td>458</td>\n",
       "      <td>0.0</td>\n",
       "      <td>НСТ</td>\n",
       "      <td>Завершено</td>\n",
       "      <td>Взыскание МБ</td>\n",
       "      <td>1520059.55</td>\n",
       "      <td>194033.9</td>\n",
       "      <td>None</td>\n",
       "      <td>None</td>\n",
       "    </tr>\n",
       "  </tbody>\n",
       "</table>\n",
       "</div>"
      ],
      "text/plain": [
       "    Номер по SIEBEL        РОО    Статус  Сумма заявленных требований  \\\n",
       "296    1-2921632422  Краснодар  В работе                   8176283.11   \n",
       "325    1-2921632433  Краснодар  В работе                  17888861.65   \n",
       "326    1-2921632445  Краснодар  В работе                   3675434.56   \n",
       "883    1-2138028794  Краснодар  В работе                   2247091.81   \n",
       "884    1-2138028794  Краснодар  В работе                   2247091.81   \n",
       "885    1-2138028806  Краснодар  В работе                    635509.83   \n",
       "886    1-2138028806  Краснодар  В работе                    635509.83   \n",
       "\n",
       "     Сумма взыскания по решению суда Дата создания  Дата конца  \\\n",
       "296                       1486753.05    2022-10-10  2023-03-31   \n",
       "325                             0.00    2022-10-10  2023-03-31   \n",
       "326                             0.00    2022-10-10  2023-03-31   \n",
       "883                       2247091.81    2021-12-28  2023-03-31   \n",
       "884                       2247091.81    2021-12-28  2023-03-31   \n",
       "885                        635509.83    2021-12-28  2023-03-31   \n",
       "886                        635509.83    2021-12-28  2023-03-31   \n",
       "\n",
       "                                           Комментарии Дата закрытия  \\\n",
       "296  Подан иск по трем к/д, дело не назначено на 25...           NaT   \n",
       "325  Иск подан по трем КД, дело не назначено на 25....           NaT   \n",
       "326  Иск подан по трем КД, дело не назначено на 25....           NaT   \n",
       "883  иск направлен 10.01 с/з 09.02, 09.03 возражени...    2022-08-10   \n",
       "884  иск направлен 10.01 с/з 09.02, 09.03 возражени...    2022-08-10   \n",
       "885  иск направлен 10.01 с/з 09.02, 09.03 возражени...    2022-08-10   \n",
       "886  иск направлен 10.01 с/з 09.02, 09.03 возражени...    2022-08-10   \n",
       "\n",
       "              Учтен  Кол-во дней  Коэф СТ/НСТ Статус активности нст  \\\n",
       "296  3 квартал 2021          172   0.0     СТ                   NaN   \n",
       "325  3 квартал 2021          172   0.0     СТ                   NaN   \n",
       "326  3 квартал 2021          172   0.0     СТ                   NaN   \n",
       "883  3 квартал 2021          458   0.0    НСТ             Завершено   \n",
       "884  3 квартал 2021          458   0.0    НСТ             Завершено   \n",
       "885  3 квартал 2021          458   0.0    НСТ             Завершено   \n",
       "886  3 квартал 2021          458   0.0    НСТ             Завершено   \n",
       "\n",
       "         Тип сокр  Общая сумма ПЗ по ОД  Сумма просроченных процентов  Факт  \\\n",
       "296  Взыскание МБ                  0.00                           0.0  None   \n",
       "325  Взыскание МБ                  0.00                           0.0  None   \n",
       "326  Взыскание МБ                  0.00                           0.0  None   \n",
       "883  Взыскание МБ            6270554.37                      711908.4  None   \n",
       "884  Взыскание МБ            6270554.37                      711908.4  None   \n",
       "885  Взыскание МБ            1520059.55                      194033.9  None   \n",
       "886  Взыскание МБ            1520059.55                      194033.9  None   \n",
       "\n",
       "     План  \n",
       "296  None  \n",
       "325  None  \n",
       "326  None  \n",
       "883  None  \n",
       "884  None  \n",
       "885  None  \n",
       "886  None  "
      ]
     },
     "execution_count": 62,
     "metadata": {},
     "output_type": "execute_result"
    }
   ],
   "source": [
    "# проверям, должно быть 0 в коэф и наличие инф. об учете в поле Учтен\n",
    "data_cuted.loc[data_cuted['Учтен'] == '3 квартал 2021']"
   ]
  },
  {
   "cell_type": "code",
   "execution_count": 63,
   "id": "8db5d9bc",
   "metadata": {},
   "outputs": [
    {
     "data": {
      "text/plain": [
       "0.0    683\n",
       "1.0    350\n",
       "1.5    179\n",
       "0.3     55\n",
       "0.7      1\n",
       "Name: Коэф, dtype: int64"
      ]
     },
     "execution_count": 63,
     "metadata": {},
     "output_type": "execute_result"
    }
   ],
   "source": [
    "# в колонке Коэф. все корректно\n",
    "data_cuted['Коэф'].value_counts()"
   ]
  },
  {
   "cell_type": "markdown",
   "id": "5ba766f1",
   "metadata": {},
   "source": [
    "__Осталось занулить коэф по делам о только обращении взыскания на залог после ИНН:__\n",
    "\n",
    "Это тоже особенность СМОТирования. <br>\n",
    "В поле Комментарии содержатся в т.ч. Маркеры, которые заполняются ответственными, и по делам об обращении взыскания на залог после ИНН содержится маркер \"обращение на залог после ИНН\"."
   ]
  },
  {
   "cell_type": "code",
   "execution_count": 64,
   "id": "c89a74b3",
   "metadata": {},
   "outputs": [
    {
     "data": {
      "text/plain": [
       "0    Иск.Наследники. Иск направлен в суд - 19.10.20...\n",
       "1    Иск. Наследники. Исковое заявление напр. в суд...\n",
       "2    Иск.Наследники. Исковое заявление напр. в суд ...\n",
       "Name: Комментарии, dtype: string"
      ]
     },
     "execution_count": 64,
     "metadata": {},
     "output_type": "execute_result"
    }
   ],
   "source": [
    "data_cuted['Комментарии'] = data_cuted['Комментарии'].convert_dtypes()\n",
    "data_cuted['Комментарии'][0:3]"
   ]
  },
  {
   "cell_type": "code",
   "execution_count": 65,
   "id": "bdf5f15a",
   "metadata": {},
   "outputs": [],
   "source": [
    "# ищу вхождение части маркера в поле Комментарии\n",
    "search_to = 'залог после'\n",
    "\n",
    "indx_serched = data_cuted[data_cuted[\"Комментарии\"].str.contains(search_to)].index\n",
    "\n",
    "for indx in indx_serched:\n",
    "    data_cuted.loc[indx, 'Коэф'] = 0"
   ]
  },
  {
   "cell_type": "code",
   "execution_count": 66,
   "id": "54f5a01b",
   "metadata": {},
   "outputs": [
    {
     "data": {
      "text/plain": [
       "0.0    732\n",
       "1.0    327\n",
       "1.5    156\n",
       "0.3     52\n",
       "0.7      1\n",
       "Name: Коэф, dtype: int64"
      ]
     },
     "execution_count": 66,
     "metadata": {},
     "output_type": "execute_result"
    }
   ],
   "source": [
    "data_cuted['Коэф'].value_counts()"
   ]
  },
  {
   "cell_type": "markdown",
   "id": "4b722483",
   "metadata": {},
   "source": [
    "Видим изменения в кол-ве дел по коэффициентам.\n",
    "\n",
    "Переходим в финальной части"
   ]
  },
  {
   "cell_type": "markdown",
   "id": "fd7d74ff",
   "metadata": {},
   "source": [
    "## Вычисляем факт и план:"
   ]
  },
  {
   "cell_type": "code",
   "execution_count": 67,
   "id": "64768fb3",
   "metadata": {},
   "outputs": [],
   "source": [
    "def compute_fact(row):\n",
    "    if row['Статус'] == 'Завершено':\n",
    "        sum_in_fact = row['Коэф'] * row['Сумма взыскания по решению суда']\n",
    "        return sum_in_fact\n",
    "\n",
    "def compute_plan(row):\n",
    "    if row['Статус'] == 'Завершено':\n",
    "        \n",
    "        if (row['Коэф'] == 1) or(row['Коэф'] == 0.7):\n",
    "            \n",
    "            # по банкротам сразу заявл. требования будем тянуть\n",
    "            if (row['Тип сокр'] == 'Банкротство РБ') or (row['Тип сокр'] == 'Банкротство МБ'):\n",
    "                return row['Сумма заявленных требований']\n",
    "            \n",
    "            # по не банкротам суммируем ОД и %\n",
    "            result = row['Общая сумма ПЗ по ОД'] + row['Сумма просроченных процентов']\n",
    "            if result == 0:\n",
    "                result = row['Сумма заявленных требований']\n",
    "            \n",
    "            return result\n",
    "    \n",
    "    # блок по делам не завершенным\n",
    "    else:\n",
    "        if row['Коэф'] == 1:\n",
    "            if (row['Тип сокр'] == 'Банкротство РБ') or (row['Тип сокр'] == 'Банкротство МБ'):\n",
    "                return row['Сумма заявленных требований']\n",
    "            \n",
    "            # по не банкротам\n",
    "            result = row['Общая сумма ПЗ по ОД'] + row['Сумма просроченных процентов']\n",
    "            if result == 0:\n",
    "                result = row['Сумма заявленных требований']\n",
    "            \n",
    "            return result\n",
    "\n",
    "data_cuted['План'] = data_cuted.apply(compute_plan, axis=1)\n",
    "data_cuted['Факт'] = data_cuted.apply(compute_fact, axis=1)"
   ]
  },
  {
   "cell_type": "code",
   "execution_count": 68,
   "id": "d06ccf1f",
   "metadata": {},
   "outputs": [],
   "source": [
    "# РАЗОБРАТЬСЯ ПОЗЖЕ ОТКУДА ПОЯВЛЯЮТСЯ ДУБЛИКАТЫ \n",
    "data_cuted.drop_duplicates(keep='first',inplace=True)"
   ]
  },
  {
   "cell_type": "markdown",
   "id": "75c25f14",
   "metadata": {},
   "source": [
    "## Формируем таблицу  result_table:"
   ]
  },
  {
   "cell_type": "code",
   "execution_count": 69,
   "id": "56a9cb5b",
   "metadata": {},
   "outputs": [],
   "source": [
    "plan = pd.pivot_table(data_cuted, values='План', index=['РОО'], columns=['Тип сокр'], aggfunc=np.sum)\n",
    "\n",
    "fact = pd.pivot_table(data_cuted, values='Факт', index=['РОО'], columns=['Тип сокр'], aggfunc=np.sum)"
   ]
  },
  {
   "cell_type": "code",
   "execution_count": 70,
   "id": "6bdf84e2",
   "metadata": {},
   "outputs": [
    {
     "data": {
      "text/html": [
       "<div>\n",
       "<style scoped>\n",
       "    .dataframe tbody tr th:only-of-type {\n",
       "        vertical-align: middle;\n",
       "    }\n",
       "\n",
       "    .dataframe tbody tr th {\n",
       "        vertical-align: top;\n",
       "    }\n",
       "\n",
       "    .dataframe thead th {\n",
       "        text-align: right;\n",
       "    }\n",
       "</style>\n",
       "<table border=\"1\" class=\"dataframe\">\n",
       "  <thead>\n",
       "    <tr style=\"text-align: right;\">\n",
       "      <th>Тип сокр</th>\n",
       "      <th>Банкротство МБ</th>\n",
       "      <th>Банкротство РБ</th>\n",
       "      <th>Взыскание МБ</th>\n",
       "      <th>Взыскание РБ</th>\n",
       "    </tr>\n",
       "    <tr>\n",
       "      <th>РОО</th>\n",
       "      <th></th>\n",
       "      <th></th>\n",
       "      <th></th>\n",
       "      <th></th>\n",
       "    </tr>\n",
       "  </thead>\n",
       "  <tbody>\n",
       "    <tr>\n",
       "      <th>Волгоград</th>\n",
       "      <td>0.00</td>\n",
       "      <td>28366471.75</td>\n",
       "      <td>200314.08</td>\n",
       "      <td>4518624.30</td>\n",
       "    </tr>\n",
       "    <tr>\n",
       "      <th>Краснодар</th>\n",
       "      <td>97149862.23</td>\n",
       "      <td>53478509.02</td>\n",
       "      <td>6519691.10</td>\n",
       "      <td>15141801.18</td>\n",
       "    </tr>\n",
       "    <tr>\n",
       "      <th>Нальчик</th>\n",
       "      <td>1890182.18</td>\n",
       "      <td>21865480.47</td>\n",
       "      <td>NaN</td>\n",
       "      <td>4316070.26</td>\n",
       "    </tr>\n",
       "    <tr>\n",
       "      <th>Ростов</th>\n",
       "      <td>0.00</td>\n",
       "      <td>77662151.06</td>\n",
       "      <td>15105167.72</td>\n",
       "      <td>4280286.53</td>\n",
       "    </tr>\n",
       "    <tr>\n",
       "      <th>Ставрополь</th>\n",
       "      <td>NaN</td>\n",
       "      <td>5326736.08</td>\n",
       "      <td>3524417.50</td>\n",
       "      <td>1662527.41</td>\n",
       "    </tr>\n",
       "  </tbody>\n",
       "</table>\n",
       "</div>"
      ],
      "text/plain": [
       "Тип сокр    Банкротство МБ  Банкротство РБ  Взыскание МБ  Взыскание РБ\n",
       "РОО                                                                   \n",
       "Волгоград             0.00     28366471.75     200314.08    4518624.30\n",
       "Краснодар      97149862.23     53478509.02    6519691.10   15141801.18\n",
       "Нальчик         1890182.18     21865480.47           NaN    4316070.26\n",
       "Ростов                0.00     77662151.06   15105167.72    4280286.53\n",
       "Ставрополь             NaN      5326736.08    3524417.50    1662527.41"
      ]
     },
     "execution_count": 70,
     "metadata": {},
     "output_type": "execute_result"
    }
   ],
   "source": [
    "plan"
   ]
  },
  {
   "cell_type": "code",
   "execution_count": 71,
   "id": "ae82eff6",
   "metadata": {},
   "outputs": [
    {
     "data": {
      "text/html": [
       "<div>\n",
       "<style scoped>\n",
       "    .dataframe tbody tr th:only-of-type {\n",
       "        vertical-align: middle;\n",
       "    }\n",
       "\n",
       "    .dataframe tbody tr th {\n",
       "        vertical-align: top;\n",
       "    }\n",
       "\n",
       "    .dataframe thead th {\n",
       "        text-align: right;\n",
       "    }\n",
       "</style>\n",
       "<table border=\"1\" class=\"dataframe\">\n",
       "  <thead>\n",
       "    <tr style=\"text-align: right;\">\n",
       "      <th>Тип сокр</th>\n",
       "      <th>Банкротство МБ</th>\n",
       "      <th>Банкротство РБ</th>\n",
       "      <th>Взыскание МБ</th>\n",
       "      <th>Взыскание РБ</th>\n",
       "    </tr>\n",
       "    <tr>\n",
       "      <th>РОО</th>\n",
       "      <th></th>\n",
       "      <th></th>\n",
       "      <th></th>\n",
       "      <th></th>\n",
       "    </tr>\n",
       "  </thead>\n",
       "  <tbody>\n",
       "    <tr>\n",
       "      <th>Волгоград</th>\n",
       "      <td>0.000</td>\n",
       "      <td>3.675471e+07</td>\n",
       "      <td>1999883.148</td>\n",
       "      <td>9733471.269</td>\n",
       "    </tr>\n",
       "    <tr>\n",
       "      <th>Краснодар</th>\n",
       "      <td>0.000</td>\n",
       "      <td>5.143539e+07</td>\n",
       "      <td>510070.470</td>\n",
       "      <td>1038740.892</td>\n",
       "    </tr>\n",
       "    <tr>\n",
       "      <th>Нальчик</th>\n",
       "      <td>0.000</td>\n",
       "      <td>4.113376e+07</td>\n",
       "      <td>NaN</td>\n",
       "      <td>4105890.042</td>\n",
       "    </tr>\n",
       "    <tr>\n",
       "      <th>Ростов</th>\n",
       "      <td>1976396.325</td>\n",
       "      <td>1.235736e+08</td>\n",
       "      <td>808145.705</td>\n",
       "      <td>187443.669</td>\n",
       "    </tr>\n",
       "    <tr>\n",
       "      <th>Ставрополь</th>\n",
       "      <td>NaN</td>\n",
       "      <td>4.900104e+06</td>\n",
       "      <td>0.000</td>\n",
       "      <td>3830543.040</td>\n",
       "    </tr>\n",
       "  </tbody>\n",
       "</table>\n",
       "</div>"
      ],
      "text/plain": [
       "Тип сокр    Банкротство МБ  Банкротство РБ  Взыскание МБ  Взыскание РБ\n",
       "РОО                                                                   \n",
       "Волгоград            0.000    3.675471e+07   1999883.148   9733471.269\n",
       "Краснодар            0.000    5.143539e+07    510070.470   1038740.892\n",
       "Нальчик              0.000    4.113376e+07           NaN   4105890.042\n",
       "Ростов         1976396.325    1.235736e+08    808145.705    187443.669\n",
       "Ставрополь             NaN    4.900104e+06         0.000   3830543.040"
      ]
     },
     "execution_count": 71,
     "metadata": {},
     "output_type": "execute_result"
    }
   ],
   "source": [
    "fact"
   ]
  },
  {
   "cell_type": "code",
   "execution_count": 72,
   "id": "58ce87fa",
   "metadata": {},
   "outputs": [
    {
     "data": {
      "text/plain": [
       "Index(['Банкротство МБ план', 'Банкротство РБ план', 'Взыскание МБ план',\n",
       "       'Взыскание РБ план'],\n",
       "      dtype='object', name='Тип сокр')"
      ]
     },
     "execution_count": 72,
     "metadata": {},
     "output_type": "execute_result"
    }
   ],
   "source": [
    "for i in plan.columns:\n",
    "    plan.rename(columns={i : i + ' план'}, inplace=True)\n",
    "\n",
    "plan.columns"
   ]
  },
  {
   "cell_type": "code",
   "execution_count": 73,
   "id": "fec59d77",
   "metadata": {},
   "outputs": [
    {
     "data": {
      "text/plain": [
       "Index(['Банкротство МБ факт', 'Банкротство РБ факт', 'Взыскание МБ факт',\n",
       "       'Взыскание РБ факт'],\n",
       "      dtype='object', name='Тип сокр')"
      ]
     },
     "execution_count": 73,
     "metadata": {},
     "output_type": "execute_result"
    }
   ],
   "source": [
    "for i in fact.columns:\n",
    "    fact.rename(columns={i : i + ' факт'}, inplace=True)\n",
    "\n",
    "fact.columns"
   ]
  },
  {
   "cell_type": "code",
   "execution_count": 74,
   "id": "7c7adb92",
   "metadata": {},
   "outputs": [
    {
     "data": {
      "text/html": [
       "<div>\n",
       "<style scoped>\n",
       "    .dataframe tbody tr th:only-of-type {\n",
       "        vertical-align: middle;\n",
       "    }\n",
       "\n",
       "    .dataframe tbody tr th {\n",
       "        vertical-align: top;\n",
       "    }\n",
       "\n",
       "    .dataframe thead th {\n",
       "        text-align: right;\n",
       "    }\n",
       "</style>\n",
       "<table border=\"1\" class=\"dataframe\">\n",
       "  <thead>\n",
       "    <tr style=\"text-align: right;\">\n",
       "      <th>Тип сокр</th>\n",
       "      <th>Банкротство МБ факт</th>\n",
       "      <th>Банкротство РБ факт</th>\n",
       "      <th>Взыскание МБ факт</th>\n",
       "      <th>Взыскание РБ факт</th>\n",
       "      <th>Банкротство МБ план</th>\n",
       "      <th>Банкротство РБ план</th>\n",
       "      <th>Взыскание МБ план</th>\n",
       "      <th>Взыскание РБ план</th>\n",
       "    </tr>\n",
       "    <tr>\n",
       "      <th>РОО</th>\n",
       "      <th></th>\n",
       "      <th></th>\n",
       "      <th></th>\n",
       "      <th></th>\n",
       "      <th></th>\n",
       "      <th></th>\n",
       "      <th></th>\n",
       "      <th></th>\n",
       "    </tr>\n",
       "  </thead>\n",
       "  <tbody>\n",
       "    <tr>\n",
       "      <th>Волгоград</th>\n",
       "      <td>0.0</td>\n",
       "      <td>3.675471e+07</td>\n",
       "      <td>1999883.148</td>\n",
       "      <td>9733471.269</td>\n",
       "      <td>0.00</td>\n",
       "      <td>28366471.75</td>\n",
       "      <td>200314.08</td>\n",
       "      <td>4518624.30</td>\n",
       "    </tr>\n",
       "    <tr>\n",
       "      <th>Краснодар</th>\n",
       "      <td>0.0</td>\n",
       "      <td>5.143539e+07</td>\n",
       "      <td>510070.470</td>\n",
       "      <td>1038740.892</td>\n",
       "      <td>97149862.23</td>\n",
       "      <td>53478509.02</td>\n",
       "      <td>6519691.10</td>\n",
       "      <td>15141801.18</td>\n",
       "    </tr>\n",
       "  </tbody>\n",
       "</table>\n",
       "</div>"
      ],
      "text/plain": [
       "Тип сокр   Банкротство МБ факт  Банкротство РБ факт  Взыскание МБ факт  \\\n",
       "РОО                                                                      \n",
       "Волгоград                  0.0         3.675471e+07        1999883.148   \n",
       "Краснодар                  0.0         5.143539e+07         510070.470   \n",
       "\n",
       "Тип сокр   Взыскание РБ факт  Банкротство МБ план  Банкротство РБ план  \\\n",
       "РОО                                                                      \n",
       "Волгоград        9733471.269                 0.00          28366471.75   \n",
       "Краснодар        1038740.892          97149862.23          53478509.02   \n",
       "\n",
       "Тип сокр   Взыскание МБ план  Взыскание РБ план  \n",
       "РОО                                              \n",
       "Волгоград          200314.08         4518624.30  \n",
       "Краснодар         6519691.10        15141801.18  "
      ]
     },
     "execution_count": 74,
     "metadata": {},
     "output_type": "execute_result"
    }
   ],
   "source": [
    "fact = pd.merge(fact, plan,  on ='РОО', how ='left')\n",
    "fact.head(2)"
   ]
  },
  {
   "cell_type": "code",
   "execution_count": 75,
   "id": "b9302774",
   "metadata": {},
   "outputs": [],
   "source": [
    "fact.fillna(0, inplace=True) "
   ]
  },
  {
   "cell_type": "code",
   "execution_count": 76,
   "id": "295bda64",
   "metadata": {},
   "outputs": [
    {
     "data": {
      "text/html": [
       "<div>\n",
       "<style scoped>\n",
       "    .dataframe tbody tr th:only-of-type {\n",
       "        vertical-align: middle;\n",
       "    }\n",
       "\n",
       "    .dataframe tbody tr th {\n",
       "        vertical-align: top;\n",
       "    }\n",
       "\n",
       "    .dataframe thead th {\n",
       "        text-align: right;\n",
       "    }\n",
       "</style>\n",
       "<table border=\"1\" class=\"dataframe\">\n",
       "  <thead>\n",
       "    <tr style=\"text-align: right;\">\n",
       "      <th>Тип сокр</th>\n",
       "      <th>Банкротство МБ факт</th>\n",
       "      <th>Банкротство РБ факт</th>\n",
       "      <th>Взыскание МБ факт</th>\n",
       "      <th>Взыскание РБ факт</th>\n",
       "      <th>Банкротство МБ план</th>\n",
       "      <th>Банкротство РБ план</th>\n",
       "      <th>Взыскание МБ план</th>\n",
       "      <th>Взыскание РБ план</th>\n",
       "      <th>% Банкротство РБ</th>\n",
       "      <th>% Банкротство МБ</th>\n",
       "      <th>% Взыскание РБ</th>\n",
       "      <th>% Взыскание МБ</th>\n",
       "    </tr>\n",
       "    <tr>\n",
       "      <th>РОО</th>\n",
       "      <th></th>\n",
       "      <th></th>\n",
       "      <th></th>\n",
       "      <th></th>\n",
       "      <th></th>\n",
       "      <th></th>\n",
       "      <th></th>\n",
       "      <th></th>\n",
       "      <th></th>\n",
       "      <th></th>\n",
       "      <th></th>\n",
       "      <th></th>\n",
       "    </tr>\n",
       "  </thead>\n",
       "  <tbody>\n",
       "    <tr>\n",
       "      <th>Волгоград</th>\n",
       "      <td>0.000</td>\n",
       "      <td>3.675471e+07</td>\n",
       "      <td>1999883.148</td>\n",
       "      <td>9733471.269</td>\n",
       "      <td>0.00</td>\n",
       "      <td>28366471.75</td>\n",
       "      <td>200314.08</td>\n",
       "      <td>4518624.30</td>\n",
       "      <td>129.57</td>\n",
       "      <td>100.0</td>\n",
       "      <td>215.41</td>\n",
       "      <td>998.37</td>\n",
       "    </tr>\n",
       "    <tr>\n",
       "      <th>Краснодар</th>\n",
       "      <td>0.000</td>\n",
       "      <td>5.143539e+07</td>\n",
       "      <td>510070.470</td>\n",
       "      <td>1038740.892</td>\n",
       "      <td>97149862.23</td>\n",
       "      <td>53478509.02</td>\n",
       "      <td>6519691.10</td>\n",
       "      <td>15141801.18</td>\n",
       "      <td>96.18</td>\n",
       "      <td>0.0</td>\n",
       "      <td>6.86</td>\n",
       "      <td>7.82</td>\n",
       "    </tr>\n",
       "    <tr>\n",
       "      <th>Нальчик</th>\n",
       "      <td>0.000</td>\n",
       "      <td>4.113376e+07</td>\n",
       "      <td>0.000</td>\n",
       "      <td>4105890.042</td>\n",
       "      <td>1890182.18</td>\n",
       "      <td>21865480.47</td>\n",
       "      <td>0.00</td>\n",
       "      <td>4316070.26</td>\n",
       "      <td>188.12</td>\n",
       "      <td>0.0</td>\n",
       "      <td>95.13</td>\n",
       "      <td>100.00</td>\n",
       "    </tr>\n",
       "    <tr>\n",
       "      <th>Ростов</th>\n",
       "      <td>1976396.325</td>\n",
       "      <td>1.235736e+08</td>\n",
       "      <td>808145.705</td>\n",
       "      <td>187443.669</td>\n",
       "      <td>0.00</td>\n",
       "      <td>77662151.06</td>\n",
       "      <td>15105167.72</td>\n",
       "      <td>4280286.53</td>\n",
       "      <td>159.12</td>\n",
       "      <td>100.0</td>\n",
       "      <td>4.38</td>\n",
       "      <td>5.35</td>\n",
       "    </tr>\n",
       "    <tr>\n",
       "      <th>Ставрополь</th>\n",
       "      <td>0.000</td>\n",
       "      <td>4.900104e+06</td>\n",
       "      <td>0.000</td>\n",
       "      <td>3830543.040</td>\n",
       "      <td>0.00</td>\n",
       "      <td>5326736.08</td>\n",
       "      <td>3524417.50</td>\n",
       "      <td>1662527.41</td>\n",
       "      <td>91.99</td>\n",
       "      <td>100.0</td>\n",
       "      <td>230.40</td>\n",
       "      <td>0.00</td>\n",
       "    </tr>\n",
       "  </tbody>\n",
       "</table>\n",
       "</div>"
      ],
      "text/plain": [
       "Тип сокр    Банкротство МБ факт  Банкротство РБ факт  Взыскание МБ факт  \\\n",
       "РОО                                                                       \n",
       "Волгоград                 0.000         3.675471e+07        1999883.148   \n",
       "Краснодар                 0.000         5.143539e+07         510070.470   \n",
       "Нальчик                   0.000         4.113376e+07              0.000   \n",
       "Ростов              1976396.325         1.235736e+08         808145.705   \n",
       "Ставрополь                0.000         4.900104e+06              0.000   \n",
       "\n",
       "Тип сокр    Взыскание РБ факт  Банкротство МБ план  Банкротство РБ план  \\\n",
       "РОО                                                                       \n",
       "Волгоград         9733471.269                 0.00          28366471.75   \n",
       "Краснодар         1038740.892          97149862.23          53478509.02   \n",
       "Нальчик           4105890.042           1890182.18          21865480.47   \n",
       "Ростов             187443.669                 0.00          77662151.06   \n",
       "Ставрополь        3830543.040                 0.00           5326736.08   \n",
       "\n",
       "Тип сокр    Взыскание МБ план  Взыскание РБ план  % Банкротство РБ  \\\n",
       "РОО                                                                  \n",
       "Волгоград           200314.08         4518624.30            129.57   \n",
       "Краснодар          6519691.10        15141801.18             96.18   \n",
       "Нальчик                  0.00         4316070.26            188.12   \n",
       "Ростов            15105167.72         4280286.53            159.12   \n",
       "Ставрополь         3524417.50         1662527.41             91.99   \n",
       "\n",
       "Тип сокр    % Банкротство МБ  % Взыскание РБ  % Взыскание МБ  \n",
       "РОО                                                           \n",
       "Волгоград              100.0          215.41          998.37  \n",
       "Краснодар                0.0            6.86            7.82  \n",
       "Нальчик                  0.0           95.13          100.00  \n",
       "Ростов                 100.0            4.38            5.35  \n",
       "Ставрополь             100.0          230.40            0.00  "
      ]
     },
     "execution_count": 76,
     "metadata": {},
     "output_type": "execute_result"
    }
   ],
   "source": [
    "def compute_percent(row, col_name):\n",
    "     \n",
    "    # буду передавать название Тип сокр\n",
    "    if row[f'{col_name} план'] == 0:\n",
    "        return 100.00\n",
    "    \n",
    "    result = row[f'{col_name} факт'] / row[f'{col_name} план'] * 100\n",
    "    return float(f'{result: .2f}')\n",
    "\n",
    "\n",
    "fact['% Банкротство РБ'] = fact.apply(compute_percent, axis=1, col_name='Банкротство РБ')\n",
    "fact['% Банкротство МБ'] = fact.apply(compute_percent, axis=1, col_name='Банкротство МБ')\n",
    "fact['% Взыскание РБ'] = fact.apply(compute_percent, axis=1, col_name='Взыскание РБ')\n",
    "fact['% Взыскание МБ'] = fact.apply(compute_percent, axis=1, col_name='Взыскание МБ')\n",
    "#fact.fillna(0, inplace=True) \n",
    "fact\n",
    "\n"
   ]
  },
  {
   "cell_type": "markdown",
   "id": "94bfc3e7",
   "metadata": {},
   "source": [
    "### Переводим числовое отображение в читаемый вид:"
   ]
  },
  {
   "cell_type": "code",
   "execution_count": 77,
   "id": "12a208ad",
   "metadata": {},
   "outputs": [
    {
     "data": {
      "text/plain": [
       "['Банкротство МБ факт',\n",
       " 'Банкротство РБ факт',\n",
       " 'Взыскание МБ факт',\n",
       " 'Взыскание РБ факт',\n",
       " 'Банкротство МБ план',\n",
       " 'Банкротство РБ план',\n",
       " 'Взыскание МБ план',\n",
       " 'Взыскание РБ план']"
      ]
     },
     "execution_count": 77,
     "metadata": {},
     "output_type": "execute_result"
    }
   ],
   "source": [
    "a = [i for i in fact.columns if 'факт' in i]\n",
    "b = [i for i in fact.columns if 'план' in i]\n",
    "a = a + b\n",
    "a"
   ]
  },
  {
   "cell_type": "code",
   "execution_count": 78,
   "id": "2e4e5f87",
   "metadata": {},
   "outputs": [
    {
     "data": {
      "text/html": [
       "<div>\n",
       "<style scoped>\n",
       "    .dataframe tbody tr th:only-of-type {\n",
       "        vertical-align: middle;\n",
       "    }\n",
       "\n",
       "    .dataframe tbody tr th {\n",
       "        vertical-align: top;\n",
       "    }\n",
       "\n",
       "    .dataframe thead th {\n",
       "        text-align: right;\n",
       "    }\n",
       "</style>\n",
       "<table border=\"1\" class=\"dataframe\">\n",
       "  <thead>\n",
       "    <tr style=\"text-align: right;\">\n",
       "      <th>Тип сокр</th>\n",
       "      <th>Банкротство МБ факт</th>\n",
       "      <th>Банкротство РБ факт</th>\n",
       "      <th>Взыскание МБ факт</th>\n",
       "      <th>Взыскание РБ факт</th>\n",
       "      <th>Банкротство МБ план</th>\n",
       "      <th>Банкротство РБ план</th>\n",
       "      <th>Взыскание МБ план</th>\n",
       "      <th>Взыскание РБ план</th>\n",
       "      <th>% Банкротство РБ</th>\n",
       "      <th>% Банкротство МБ</th>\n",
       "      <th>% Взыскание РБ</th>\n",
       "      <th>% Взыскание МБ</th>\n",
       "    </tr>\n",
       "    <tr>\n",
       "      <th>РОО</th>\n",
       "      <th></th>\n",
       "      <th></th>\n",
       "      <th></th>\n",
       "      <th></th>\n",
       "      <th></th>\n",
       "      <th></th>\n",
       "      <th></th>\n",
       "      <th></th>\n",
       "      <th></th>\n",
       "      <th></th>\n",
       "      <th></th>\n",
       "      <th></th>\n",
       "    </tr>\n",
       "  </thead>\n",
       "  <tbody>\n",
       "    <tr>\n",
       "      <th>Волгоград</th>\n",
       "      <td>0.00</td>\n",
       "      <td>36 754 714.31</td>\n",
       "      <td>1 999 883.15</td>\n",
       "      <td>9 733 471.27</td>\n",
       "      <td>0.00</td>\n",
       "      <td>28 366 471.75</td>\n",
       "      <td>200 314.08</td>\n",
       "      <td>4 518 624.30</td>\n",
       "      <td>129.57</td>\n",
       "      <td>100.0</td>\n",
       "      <td>215.41</td>\n",
       "      <td>998.37</td>\n",
       "    </tr>\n",
       "    <tr>\n",
       "      <th>Краснодар</th>\n",
       "      <td>0.00</td>\n",
       "      <td>51 435 394.24</td>\n",
       "      <td>510 070.47</td>\n",
       "      <td>1 038 740.89</td>\n",
       "      <td>97 149 862.23</td>\n",
       "      <td>53 478 509.02</td>\n",
       "      <td>6 519 691.10</td>\n",
       "      <td>15 141 801.18</td>\n",
       "      <td>96.18</td>\n",
       "      <td>0.0</td>\n",
       "      <td>6.86</td>\n",
       "      <td>7.82</td>\n",
       "    </tr>\n",
       "    <tr>\n",
       "      <th>Нальчик</th>\n",
       "      <td>0.00</td>\n",
       "      <td>41 133 757.93</td>\n",
       "      <td>0.00</td>\n",
       "      <td>4 105 890.04</td>\n",
       "      <td>1 890 182.18</td>\n",
       "      <td>21 865 480.47</td>\n",
       "      <td>0.00</td>\n",
       "      <td>4 316 070.26</td>\n",
       "      <td>188.12</td>\n",
       "      <td>0.0</td>\n",
       "      <td>95.13</td>\n",
       "      <td>100.00</td>\n",
       "    </tr>\n",
       "    <tr>\n",
       "      <th>Ростов</th>\n",
       "      <td>1 976 396.32</td>\n",
       "      <td>123 573 628.21</td>\n",
       "      <td>808 145.71</td>\n",
       "      <td>187 443.67</td>\n",
       "      <td>0.00</td>\n",
       "      <td>77 662 151.06</td>\n",
       "      <td>15 105 167.72</td>\n",
       "      <td>4 280 286.53</td>\n",
       "      <td>159.12</td>\n",
       "      <td>100.0</td>\n",
       "      <td>4.38</td>\n",
       "      <td>5.35</td>\n",
       "    </tr>\n",
       "    <tr>\n",
       "      <th>Ставрополь</th>\n",
       "      <td>0.00</td>\n",
       "      <td>4 900 104.46</td>\n",
       "      <td>0.00</td>\n",
       "      <td>3 830 543.04</td>\n",
       "      <td>0.00</td>\n",
       "      <td>5 326 736.08</td>\n",
       "      <td>3 524 417.50</td>\n",
       "      <td>1 662 527.41</td>\n",
       "      <td>91.99</td>\n",
       "      <td>100.0</td>\n",
       "      <td>230.40</td>\n",
       "      <td>0.00</td>\n",
       "    </tr>\n",
       "  </tbody>\n",
       "</table>\n",
       "</div>"
      ],
      "text/plain": [
       "Тип сокр   Банкротство МБ факт Банкротство РБ факт Взыскание МБ факт  \\\n",
       "РОО                                                                    \n",
       "Волгоград                 0.00       36 754 714.31      1 999 883.15   \n",
       "Краснодар                 0.00       51 435 394.24        510 070.47   \n",
       "Нальчик                   0.00       41 133 757.93              0.00   \n",
       "Ростов            1 976 396.32      123 573 628.21        808 145.71   \n",
       "Ставрополь                0.00        4 900 104.46              0.00   \n",
       "\n",
       "Тип сокр   Взыскание РБ факт Банкротство МБ план Банкротство РБ план  \\\n",
       "РОО                                                                    \n",
       "Волгоград       9 733 471.27                0.00       28 366 471.75   \n",
       "Краснодар       1 038 740.89       97 149 862.23       53 478 509.02   \n",
       "Нальчик         4 105 890.04        1 890 182.18       21 865 480.47   \n",
       "Ростов            187 443.67                0.00       77 662 151.06   \n",
       "Ставрополь      3 830 543.04                0.00        5 326 736.08   \n",
       "\n",
       "Тип сокр   Взыскание МБ план Взыскание РБ план  % Банкротство РБ  \\\n",
       "РОО                                                                \n",
       "Волгоград         200 314.08      4 518 624.30            129.57   \n",
       "Краснодар       6 519 691.10     15 141 801.18             96.18   \n",
       "Нальчик                 0.00      4 316 070.26            188.12   \n",
       "Ростов         15 105 167.72      4 280 286.53            159.12   \n",
       "Ставрополь      3 524 417.50      1 662 527.41             91.99   \n",
       "\n",
       "Тип сокр    % Банкротство МБ  % Взыскание РБ  % Взыскание МБ  \n",
       "РОО                                                           \n",
       "Волгоград              100.0          215.41          998.37  \n",
       "Краснодар                0.0            6.86            7.82  \n",
       "Нальчик                  0.0           95.13          100.00  \n",
       "Ростов                 100.0            4.38            5.35  \n",
       "Ставрополь             100.0          230.40            0.00  "
      ]
     },
     "execution_count": 78,
     "metadata": {},
     "output_type": "execute_result"
    }
   ],
   "source": [
    "import decimal\n",
    "\n",
    "def make_money_view(some_float):\n",
    "    n = decimal.Decimal(f'{some_float: .2f}')  #(f'{some_float: .2f}')    # n = decimal.Decimal(str(some_float))\n",
    "    return '{0:,}'.format(n).replace(',', ' ')\n",
    "\n",
    "for i in a:\n",
    "    fact[i] = fact[i].apply(lambda x: make_money_view(x))\n",
    "    \n",
    "fact\n"
   ]
  },
  {
   "cell_type": "markdown",
   "id": "89fe8555",
   "metadata": {},
   "source": [
    "### Располагаем столбцы в логической последовательности:"
   ]
  },
  {
   "cell_type": "code",
   "execution_count": 79,
   "id": "c8bd6b4f",
   "metadata": {},
   "outputs": [
    {
     "data": {
      "text/html": [
       "<div>\n",
       "<style scoped>\n",
       "    .dataframe tbody tr th:only-of-type {\n",
       "        vertical-align: middle;\n",
       "    }\n",
       "\n",
       "    .dataframe tbody tr th {\n",
       "        vertical-align: top;\n",
       "    }\n",
       "\n",
       "    .dataframe thead th {\n",
       "        text-align: right;\n",
       "    }\n",
       "</style>\n",
       "<table border=\"1\" class=\"dataframe\">\n",
       "  <thead>\n",
       "    <tr style=\"text-align: right;\">\n",
       "      <th>Тип сокр</th>\n",
       "      <th>Банкротство МБ факт</th>\n",
       "      <th>Банкротство МБ план</th>\n",
       "      <th>% Банкротство МБ</th>\n",
       "      <th>Банкротство РБ факт</th>\n",
       "      <th>Банкротство РБ план</th>\n",
       "      <th>% Банкротство РБ</th>\n",
       "      <th>Взыскание МБ факт</th>\n",
       "      <th>Взыскание МБ план</th>\n",
       "      <th>% Взыскание МБ</th>\n",
       "      <th>Взыскание РБ факт</th>\n",
       "      <th>Взыскание РБ план</th>\n",
       "      <th>% Взыскание РБ</th>\n",
       "    </tr>\n",
       "    <tr>\n",
       "      <th>РОО</th>\n",
       "      <th></th>\n",
       "      <th></th>\n",
       "      <th></th>\n",
       "      <th></th>\n",
       "      <th></th>\n",
       "      <th></th>\n",
       "      <th></th>\n",
       "      <th></th>\n",
       "      <th></th>\n",
       "      <th></th>\n",
       "      <th></th>\n",
       "      <th></th>\n",
       "    </tr>\n",
       "  </thead>\n",
       "  <tbody>\n",
       "    <tr>\n",
       "      <th>Волгоград</th>\n",
       "      <td>0.00</td>\n",
       "      <td>0.00</td>\n",
       "      <td>100.0</td>\n",
       "      <td>36 754 714.31</td>\n",
       "      <td>28 366 471.75</td>\n",
       "      <td>129.57</td>\n",
       "      <td>1 999 883.15</td>\n",
       "      <td>200 314.08</td>\n",
       "      <td>998.37</td>\n",
       "      <td>9 733 471.27</td>\n",
       "      <td>4 518 624.30</td>\n",
       "      <td>215.41</td>\n",
       "    </tr>\n",
       "    <tr>\n",
       "      <th>Краснодар</th>\n",
       "      <td>0.00</td>\n",
       "      <td>97 149 862.23</td>\n",
       "      <td>0.0</td>\n",
       "      <td>51 435 394.24</td>\n",
       "      <td>53 478 509.02</td>\n",
       "      <td>96.18</td>\n",
       "      <td>510 070.47</td>\n",
       "      <td>6 519 691.10</td>\n",
       "      <td>7.82</td>\n",
       "      <td>1 038 740.89</td>\n",
       "      <td>15 141 801.18</td>\n",
       "      <td>6.86</td>\n",
       "    </tr>\n",
       "    <tr>\n",
       "      <th>Нальчик</th>\n",
       "      <td>0.00</td>\n",
       "      <td>1 890 182.18</td>\n",
       "      <td>0.0</td>\n",
       "      <td>41 133 757.93</td>\n",
       "      <td>21 865 480.47</td>\n",
       "      <td>188.12</td>\n",
       "      <td>0.00</td>\n",
       "      <td>0.00</td>\n",
       "      <td>100.00</td>\n",
       "      <td>4 105 890.04</td>\n",
       "      <td>4 316 070.26</td>\n",
       "      <td>95.13</td>\n",
       "    </tr>\n",
       "    <tr>\n",
       "      <th>Ростов</th>\n",
       "      <td>1 976 396.32</td>\n",
       "      <td>0.00</td>\n",
       "      <td>100.0</td>\n",
       "      <td>123 573 628.21</td>\n",
       "      <td>77 662 151.06</td>\n",
       "      <td>159.12</td>\n",
       "      <td>808 145.71</td>\n",
       "      <td>15 105 167.72</td>\n",
       "      <td>5.35</td>\n",
       "      <td>187 443.67</td>\n",
       "      <td>4 280 286.53</td>\n",
       "      <td>4.38</td>\n",
       "    </tr>\n",
       "    <tr>\n",
       "      <th>Ставрополь</th>\n",
       "      <td>0.00</td>\n",
       "      <td>0.00</td>\n",
       "      <td>100.0</td>\n",
       "      <td>4 900 104.46</td>\n",
       "      <td>5 326 736.08</td>\n",
       "      <td>91.99</td>\n",
       "      <td>0.00</td>\n",
       "      <td>3 524 417.50</td>\n",
       "      <td>0.00</td>\n",
       "      <td>3 830 543.04</td>\n",
       "      <td>1 662 527.41</td>\n",
       "      <td>230.40</td>\n",
       "    </tr>\n",
       "  </tbody>\n",
       "</table>\n",
       "</div>"
      ],
      "text/plain": [
       "Тип сокр   Банкротство МБ факт Банкротство МБ план  % Банкротство МБ  \\\n",
       "РОО                                                                    \n",
       "Волгоград                 0.00                0.00             100.0   \n",
       "Краснодар                 0.00       97 149 862.23               0.0   \n",
       "Нальчик                   0.00        1 890 182.18               0.0   \n",
       "Ростов            1 976 396.32                0.00             100.0   \n",
       "Ставрополь                0.00                0.00             100.0   \n",
       "\n",
       "Тип сокр   Банкротство РБ факт Банкротство РБ план  % Банкротство РБ  \\\n",
       "РОО                                                                    \n",
       "Волгоград        36 754 714.31       28 366 471.75            129.57   \n",
       "Краснодар        51 435 394.24       53 478 509.02             96.18   \n",
       "Нальчик          41 133 757.93       21 865 480.47            188.12   \n",
       "Ростов          123 573 628.21       77 662 151.06            159.12   \n",
       "Ставрополь        4 900 104.46        5 326 736.08             91.99   \n",
       "\n",
       "Тип сокр   Взыскание МБ факт Взыскание МБ план  % Взыскание МБ  \\\n",
       "РОО                                                              \n",
       "Волгоград       1 999 883.15        200 314.08          998.37   \n",
       "Краснодар         510 070.47      6 519 691.10            7.82   \n",
       "Нальчик                 0.00              0.00          100.00   \n",
       "Ростов            808 145.71     15 105 167.72            5.35   \n",
       "Ставрополь              0.00      3 524 417.50            0.00   \n",
       "\n",
       "Тип сокр   Взыскание РБ факт Взыскание РБ план  % Взыскание РБ  \n",
       "РОО                                                             \n",
       "Волгоград       9 733 471.27      4 518 624.30          215.41  \n",
       "Краснодар       1 038 740.89     15 141 801.18            6.86  \n",
       "Нальчик         4 105 890.04      4 316 070.26           95.13  \n",
       "Ростов            187 443.67      4 280 286.53            4.38  \n",
       "Ставрополь      3 830 543.04      1 662 527.41          230.40  "
      ]
     },
     "execution_count": 79,
     "metadata": {},
     "output_type": "execute_result"
    }
   ],
   "source": [
    "result_table = fact[['Банкротство МБ факт', 'Банкротство МБ план', '% Банкротство МБ',\\\n",
    "              'Банкротство РБ факт', 'Банкротство РБ план', '% Банкротство РБ',\\\n",
    "              'Взыскание МБ факт', 'Взыскание МБ план', '% Взыскание МБ',\\\n",
    "              'Взыскание РБ факт', 'Взыскание РБ план', '% Взыскание РБ'\n",
    "        ]]\n",
    "\n",
    "   \n",
    "\n",
    "result_table"
   ]
  },
  {
   "cell_type": "markdown",
   "id": "8b6d3fbf",
   "metadata": {},
   "source": [
    "__Сохраняю таблицу в эксель:__"
   ]
  },
  {
   "cell_type": "code",
   "execution_count": 81,
   "id": "1e412cc5",
   "metadata": {},
   "outputs": [],
   "source": [
    "writer = pd.ExcelWriter(name_for_table) \n",
    "result_table.to_excel(writer) \n",
    "writer.save()"
   ]
  },
  {
   "cell_type": "markdown",
   "id": "01295d08",
   "metadata": {},
   "source": [
    "__Сохраняю преобразованный датафрейм с эксель:__"
   ]
  },
  {
   "cell_type": "code",
   "execution_count": 80,
   "id": "d83aeb07",
   "metadata": {},
   "outputs": [],
   "source": [
    "writer = pd.ExcelWriter(name_for_file_output)\n",
    "data_cuted.to_excel(writer) \n",
    "writer.save()\n"
   ]
  }
 ],
 "metadata": {
  "kernelspec": {
   "display_name": "Python 3",
   "language": "python",
   "name": "python3"
  },
  "language_info": {
   "codemirror_mode": {
    "name": "ipython",
    "version": 3
   },
   "file_extension": ".py",
   "mimetype": "text/x-python",
   "name": "python",
   "nbconvert_exporter": "python",
   "pygments_lexer": "ipython3",
   "version": "3.8.8"
  }
 },
 "nbformat": 4,
 "nbformat_minor": 5
}
