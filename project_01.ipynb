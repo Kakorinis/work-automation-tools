{
  "cells": [
    {
      "cell_type": "code",
      "execution_count": null,
      "id": "5f7091d3",
      "metadata": {
        "id": "5f7091d3"
      },
      "outputs": [],
      "source": [
        "import pandas as pd\n",
        "import numpy as np\n",
        "from datetime import datetime, timedelta, date"
      ]
    },
    {
      "cell_type": "markdown",
      "id": "e7e27e20",
      "metadata": {
        "id": "e7e27e20"
      },
      "source": [
        "## Загрузка данных:"
      ]
    },
    {
      "cell_type": "code",
      "execution_count": null,
      "id": "d2bb3744",
      "metadata": {
        "id": "d2bb3744"
      },
      "outputs": [],
      "source": [
        "dataset = pd.read_excel(r'C:\\Users\\kakorin_is\\Desktop\\Аналитик\\выгрузка на 15 февраля.xlsx', index_col=None)\n",
        "\n",
        "earliers_doned = pd.read_excel(r'C:\\Users\\kakorin_is\\Desktop\\Свод\\Перечень учтенных ранее ПА (с учетом 3 квартала 2022 года).xlsx', index_col=None)\n",
        "\n",
        "activities = pd.read_excel(r'C:\\Users\\kakorin_is\\Desktop\\JupiterNotebook_files\\активности нст на 15 февр.xlsx', index_col=None)\n"
      ]
    },
    {
      "cell_type": "code",
      "execution_count": null,
      "id": "127ed90d",
      "metadata": {
        "id": "127ed90d",
        "outputId": "161ac76a-1c2e-4128-aebd-72d5ad235eea"
      },
      "outputs": [
        {
          "data": {
            "text/plain": [
              "(5489, 59)"
            ]
          },
          "execution_count": 4,
          "metadata": {},
          "output_type": "execute_result"
        }
      ],
      "source": [
        "dataset.shape"
      ]
    },
    {
      "cell_type": "code",
      "execution_count": null,
      "id": "38b7b1b9",
      "metadata": {
        "id": "38b7b1b9",
        "outputId": "c7b130e2-c1c3-4a21-d042-99bb58c3d088"
      },
      "outputs": [
        {
          "data": {
            "text/plain": [
              "Index(['Номер по SIEBEL', 'РОО', 'Договор', 'Заемщик ФЛ', 'Заемщик КМБ', 'Тип',\n",
              "       'Стадия', 'Сумма заявленных требований',\n",
              "       'Номер дела в суде (1-ая инстанция)', 'Суд', 'Передача обращений в суд',\n",
              "       'Критерий нестандартности', 'Дата судебного решения',\n",
              "       'Дата последнего судебного заседания',\n",
              "       'Результат последнего судебного заседания', 'Тип последней активности',\n",
              "       'Дата начала последней активности', 'Сумма взыскания по решению суда',\n",
              "       'Комментарии', 'Дата создания дела', 'Результат', 'Дата закрытия',\n",
              "       'Статус', 'Нормативный срок получения ИД', 'Дело на контроле',\n",
              "       'Сайт суда', 'Общая сумма ПЗ', 'Общая сумма ПЗ по ОД',\n",
              "       'Сумма просроченных процентов', 'Сумма просроченных комиссий',\n",
              "       'Передано на аутсорсинг/внешние консультанты',\n",
              "       'Организация/ФИО привлеченного ВК', 'Куратор/Координатор по делу',\n",
              "       'Пени', 'Продукт', 'Создатель', 'Передано в ЮУ/ЮСТП', 'Дата передачи',\n",
              "       'ЦС подсудности', 'ТП подсудности', 'Наименование проекта', 'Ответчик',\n",
              "       'Исполнитель', 'ID судебного дела по Siebel', 'Направление бизнеса',\n",
              "       'Валюта заявленных требований', 'ID договора по Siebel',\n",
              "       'Количество договоров', 'Госпошлина, руб./нац.валюта',\n",
              "       'Ответственный по проекту', 'ИНН', 'Нестандартность',\n",
              "       'Дата определения о принятии к пр-ву', 'Дата вступления решения в силу',\n",
              "       'Приказное производство', 'Учитывалось ранее в СМОТ',\n",
              "       'Окончание предцелевого периода',\n",
              "       'Окончание целевого периода (целевой срок)',\n",
              "       'Начало штрафного периода'],\n",
              "      dtype='object')"
            ]
          },
          "execution_count": 5,
          "metadata": {},
          "output_type": "execute_result"
        }
      ],
      "source": [
        "# cмотрим список колонок стандартной выгрузки из БД (не все будут нужны)\n",
        "dataset.columns"
      ]
    },
    {
      "cell_type": "code",
      "execution_count": null,
      "id": "6e124974",
      "metadata": {
        "id": "6e124974",
        "outputId": "5cdcdcb8-1f88-465c-d894-a43382ba612d"
      },
      "outputs": [
        {
          "data": {
            "text/html": [
              "<div>\n",
              "<style scoped>\n",
              "    .dataframe tbody tr th:only-of-type {\n",
              "        vertical-align: middle;\n",
              "    }\n",
              "\n",
              "    .dataframe tbody tr th {\n",
              "        vertical-align: top;\n",
              "    }\n",
              "\n",
              "    .dataframe thead th {\n",
              "        text-align: right;\n",
              "    }\n",
              "</style>\n",
              "<table border=\"1\" class=\"dataframe\">\n",
              "  <thead>\n",
              "    <tr style=\"text-align: right;\">\n",
              "      <th></th>\n",
              "      <th>Номер по SIEBEL</th>\n",
              "      <th>РОО</th>\n",
              "      <th>Тип</th>\n",
              "      <th>Дата создания дела</th>\n",
              "      <th>Дата закрытия</th>\n",
              "    </tr>\n",
              "  </thead>\n",
              "  <tbody>\n",
              "    <tr>\n",
              "      <th>0</th>\n",
              "      <td>1-2946161483</td>\n",
              "      <td>Нальчик</td>\n",
              "      <td>Банкротство ФЛ РБ</td>\n",
              "      <td>2022-10-21 08:55:46</td>\n",
              "      <td>2022-12-02</td>\n",
              "    </tr>\n",
              "    <tr>\n",
              "      <th>1</th>\n",
              "      <td>1-2922685695</td>\n",
              "      <td>Нальчик</td>\n",
              "      <td>Взыскание задолженности ПА РБ</td>\n",
              "      <td>2022-10-11 11:12:52</td>\n",
              "      <td>NaT</td>\n",
              "    </tr>\n",
              "    <tr>\n",
              "      <th>2</th>\n",
              "      <td>1-2777993227</td>\n",
              "      <td>Нальчик</td>\n",
              "      <td>Банкротство ФЛ РБ</td>\n",
              "      <td>2022-08-24 15:11:39</td>\n",
              "      <td>2022-10-05</td>\n",
              "    </tr>\n",
              "    <tr>\n",
              "      <th>3</th>\n",
              "      <td>1-2829411327</td>\n",
              "      <td>Нальчик</td>\n",
              "      <td>Банкротство ФЛ РБ</td>\n",
              "      <td>2022-09-09 15:08:09</td>\n",
              "      <td>2022-11-17</td>\n",
              "    </tr>\n",
              "    <tr>\n",
              "      <th>4</th>\n",
              "      <td>1-2562329796</td>\n",
              "      <td>Нальчик</td>\n",
              "      <td>Банкротство ФЛ РБ</td>\n",
              "      <td>2022-06-03 15:10:32</td>\n",
              "      <td>2022-08-24</td>\n",
              "    </tr>\n",
              "    <tr>\n",
              "      <th>...</th>\n",
              "      <td>...</td>\n",
              "      <td>...</td>\n",
              "      <td>...</td>\n",
              "      <td>...</td>\n",
              "      <td>...</td>\n",
              "    </tr>\n",
              "    <tr>\n",
              "      <th>5484</th>\n",
              "      <td>1-1533535923</td>\n",
              "      <td>Краснодар</td>\n",
              "      <td>Банкротство ФЛ РБ</td>\n",
              "      <td>2021-05-24 14:14:21</td>\n",
              "      <td>2021-08-13</td>\n",
              "    </tr>\n",
              "    <tr>\n",
              "      <th>5485</th>\n",
              "      <td>1-1643646792</td>\n",
              "      <td>Краснодар</td>\n",
              "      <td>Банкротство ФЛ РБ</td>\n",
              "      <td>2021-06-29 13:32:18</td>\n",
              "      <td>2022-01-10</td>\n",
              "    </tr>\n",
              "    <tr>\n",
              "      <th>5486</th>\n",
              "      <td>1-1640798290</td>\n",
              "      <td>Краснодар</td>\n",
              "      <td>Взыскание задолженности ПА МБ</td>\n",
              "      <td>2021-06-28 11:50:58</td>\n",
              "      <td>2021-07-06</td>\n",
              "    </tr>\n",
              "    <tr>\n",
              "      <th>5487</th>\n",
              "      <td>1-1619257247</td>\n",
              "      <td>Краснодар</td>\n",
              "      <td>Банкротство ФЛ РБ</td>\n",
              "      <td>2021-06-16 15:02:39</td>\n",
              "      <td>2022-01-10</td>\n",
              "    </tr>\n",
              "    <tr>\n",
              "      <th>5488</th>\n",
              "      <td>1-1611983525</td>\n",
              "      <td>Краснодар</td>\n",
              "      <td>Банкротство ФЛ РБ</td>\n",
              "      <td>2021-06-15 10:22:56</td>\n",
              "      <td>2022-01-10</td>\n",
              "    </tr>\n",
              "  </tbody>\n",
              "</table>\n",
              "<p>5489 rows × 5 columns</p>\n",
              "</div>"
            ],
            "text/plain": [
              "     Номер по SIEBEL        РОО                            Тип  \\\n",
              "0       1-2946161483    Нальчик              Банкротство ФЛ РБ   \n",
              "1       1-2922685695    Нальчик  Взыскание задолженности ПА РБ   \n",
              "2       1-2777993227    Нальчик              Банкротство ФЛ РБ   \n",
              "3       1-2829411327    Нальчик              Банкротство ФЛ РБ   \n",
              "4       1-2562329796    Нальчик              Банкротство ФЛ РБ   \n",
              "...              ...        ...                            ...   \n",
              "5484    1-1533535923  Краснодар              Банкротство ФЛ РБ   \n",
              "5485    1-1643646792  Краснодар              Банкротство ФЛ РБ   \n",
              "5486    1-1640798290  Краснодар  Взыскание задолженности ПА МБ   \n",
              "5487    1-1619257247  Краснодар              Банкротство ФЛ РБ   \n",
              "5488    1-1611983525  Краснодар              Банкротство ФЛ РБ   \n",
              "\n",
              "      Дата создания дела Дата закрытия  \n",
              "0    2022-10-21 08:55:46    2022-12-02  \n",
              "1    2022-10-11 11:12:52           NaT  \n",
              "2    2022-08-24 15:11:39    2022-10-05  \n",
              "3    2022-09-09 15:08:09    2022-11-17  \n",
              "4    2022-06-03 15:10:32    2022-08-24  \n",
              "...                  ...           ...  \n",
              "5484 2021-05-24 14:14:21    2021-08-13  \n",
              "5485 2021-06-29 13:32:18    2022-01-10  \n",
              "5486 2021-06-28 11:50:58    2021-07-06  \n",
              "5487 2021-06-16 15:02:39    2022-01-10  \n",
              "5488 2021-06-15 10:22:56    2022-01-10  \n",
              "\n",
              "[5489 rows x 5 columns]"
            ]
          },
          "execution_count": 63,
          "metadata": {},
          "output_type": "execute_result"
        }
      ],
      "source": [
        "# так он выглядит (для примера вывожу обезличенные столбцы)\n",
        "dataset.loc[:, ['Номер по SIEBEL','РОО','Тип','Дата создания дела','Дата закрытия', ]]"
      ]
    },
    {
      "cell_type": "code",
      "execution_count": null,
      "id": "54027118",
      "metadata": {
        "id": "54027118"
      },
      "outputs": [],
      "source": [
        "data = dataset.copy()"
      ]
    },
    {
      "cell_type": "code",
      "execution_count": null,
      "id": "4271e649",
      "metadata": {
        "id": "4271e649"
      },
      "outputs": [],
      "source": [
        "# Глобальные переменные - потом прописать сюда\n",
        "\n",
        "# курс доллара и евро\n",
        "# дата начала квартала\n",
        "# дата конца квартала\n",
        "# названия файлов загрузки"
      ]
    },
    {
      "cell_type": "markdown",
      "id": "7082cb87",
      "metadata": {
        "id": "7082cb87"
      },
      "source": [
        "## Описание алгоритма:\n",
        "\n",
        "- Преобразовать поле Дата создания дела в поле с только с датой (убрать время).\n",
        "<br>\n",
        "- Удалить дела, закрытые до отчетного квартала и завершенные в этом квартале результатами Возврат, Отказано, а также отмененые дела.\n",
        "<br>\n",
        "- Подтянуть по номеру по сибель и договору ранее учтенные дела, чтобы потом исключить их из СМОТ\n",
        "<br>\n",
        "- Подтянуть по номеру по сибель активность НСТ из выгрузки нестандартных активностей, чтобы разметить стандартные и нест. дела (разные нормативные сроки у них)\n",
        "<br>\n",
        "- Коррекция сумм: <br>\n",
        "    а) убрать фразу Руб. из Заявл. требований и Суммы взысканного по решению суда.<br>\n",
        "    б) убрать символы доллара и евро из Заявл. требований и при этом перевести суммы из валюты в рубли.<br>\n",
        "    в) по полю Валюта найти валютные кд и преобразовать колонки Сумма ОД и % по ним,\n",
        "    \n",
        " <br>\n",
        "- Коррекция колонки Тип - в отдельном столбце Тип сокр преобразуем направления бизнеса.\n",
        "- Создание колонки Дата конца (имеется ввиду дата конца квартала - будем из нее вычитать).\n",
        "- Создание колонок: Кол-во дней, Коэф,  Факт, План.\n",
        "<br>\n",
        "- Заполнеие новых колонок:<br>\n",
        "    а) Кол-во дней - по активным делам вычитаем из даты конца квартала дату создания, а по закрытым из даты закрытия - дату создания<br>\n",
        "    б) Коэф - исходя из значений поля Стандарт/нестандарт и поля Кол-во дней в проставляется соотв. коэф. с учетом утвержденных сроков работы с делами.<br>\n",
        "    в) Факт - заполняется, исходя из проставленного коэф., путем умножения к. на сумму ОД и % по делам о взыскании либо, если дело банкротное, путем умножения к. на Заявл. требования.<br>\n",
        "    г) План - заполняется по аналогии с Фактом."
      ]
    },
    {
      "cell_type": "markdown",
      "id": "e2b72d58",
      "metadata": {
        "id": "e2b72d58"
      },
      "source": [
        "## Правим поле Дата создания дела:"
      ]
    },
    {
      "cell_type": "code",
      "execution_count": null,
      "id": "8e33d6d4",
      "metadata": {
        "id": "8e33d6d4"
      },
      "outputs": [],
      "source": [
        "# Функция преобразования даты\n",
        "def fix_date(some_date):\n",
        "    some_date = some_date.date()\n",
        "    \n",
        "    return some_date\n",
        "\n",
        "# Специально делаю отдельный столбец к корректной формой даты, чтобы можно было потом сравнить\n",
        "data['Дата создания'] = data['Дата создания дела'].apply(lambda x: fix_date(x))"
      ]
    },
    {
      "cell_type": "code",
      "execution_count": null,
      "id": "2312789d",
      "metadata": {
        "id": "2312789d",
        "outputId": "426fa653-463c-416f-9cad-2eb6b0769ce2"
      },
      "outputs": [
        {
          "data": {
            "text/html": [
              "<div>\n",
              "<style scoped>\n",
              "    .dataframe tbody tr th:only-of-type {\n",
              "        vertical-align: middle;\n",
              "    }\n",
              "\n",
              "    .dataframe tbody tr th {\n",
              "        vertical-align: top;\n",
              "    }\n",
              "\n",
              "    .dataframe thead th {\n",
              "        text-align: right;\n",
              "    }\n",
              "</style>\n",
              "<table border=\"1\" class=\"dataframe\">\n",
              "  <thead>\n",
              "    <tr style=\"text-align: right;\">\n",
              "      <th></th>\n",
              "      <th>Дата создания дела</th>\n",
              "      <th>Дата создания</th>\n",
              "    </tr>\n",
              "  </thead>\n",
              "  <tbody>\n",
              "    <tr>\n",
              "      <th>0</th>\n",
              "      <td>2022-10-21 08:55:46</td>\n",
              "      <td>2022-10-21</td>\n",
              "    </tr>\n",
              "    <tr>\n",
              "      <th>1</th>\n",
              "      <td>2022-10-11 11:12:52</td>\n",
              "      <td>2022-10-11</td>\n",
              "    </tr>\n",
              "    <tr>\n",
              "      <th>2</th>\n",
              "      <td>2022-08-24 15:11:39</td>\n",
              "      <td>2022-08-24</td>\n",
              "    </tr>\n",
              "    <tr>\n",
              "      <th>3</th>\n",
              "      <td>2022-09-09 15:08:09</td>\n",
              "      <td>2022-09-09</td>\n",
              "    </tr>\n",
              "    <tr>\n",
              "      <th>4</th>\n",
              "      <td>2022-06-03 15:10:32</td>\n",
              "      <td>2022-06-03</td>\n",
              "    </tr>\n",
              "    <tr>\n",
              "      <th>...</th>\n",
              "      <td>...</td>\n",
              "      <td>...</td>\n",
              "    </tr>\n",
              "    <tr>\n",
              "      <th>5484</th>\n",
              "      <td>2021-05-24 14:14:21</td>\n",
              "      <td>2021-05-24</td>\n",
              "    </tr>\n",
              "    <tr>\n",
              "      <th>5485</th>\n",
              "      <td>2021-06-29 13:32:18</td>\n",
              "      <td>2021-06-29</td>\n",
              "    </tr>\n",
              "    <tr>\n",
              "      <th>5486</th>\n",
              "      <td>2021-06-28 11:50:58</td>\n",
              "      <td>2021-06-28</td>\n",
              "    </tr>\n",
              "    <tr>\n",
              "      <th>5487</th>\n",
              "      <td>2021-06-16 15:02:39</td>\n",
              "      <td>2021-06-16</td>\n",
              "    </tr>\n",
              "    <tr>\n",
              "      <th>5488</th>\n",
              "      <td>2021-06-15 10:22:56</td>\n",
              "      <td>2021-06-15</td>\n",
              "    </tr>\n",
              "  </tbody>\n",
              "</table>\n",
              "<p>5489 rows × 2 columns</p>\n",
              "</div>"
            ],
            "text/plain": [
              "      Дата создания дела Дата создания\n",
              "0    2022-10-21 08:55:46    2022-10-21\n",
              "1    2022-10-11 11:12:52    2022-10-11\n",
              "2    2022-08-24 15:11:39    2022-08-24\n",
              "3    2022-09-09 15:08:09    2022-09-09\n",
              "4    2022-06-03 15:10:32    2022-06-03\n",
              "...                  ...           ...\n",
              "5484 2021-05-24 14:14:21    2021-05-24\n",
              "5485 2021-06-29 13:32:18    2021-06-29\n",
              "5486 2021-06-28 11:50:58    2021-06-28\n",
              "5487 2021-06-16 15:02:39    2021-06-16\n",
              "5488 2021-06-15 10:22:56    2021-06-15\n",
              "\n",
              "[5489 rows x 2 columns]"
            ]
          },
          "execution_count": 9,
          "metadata": {},
          "output_type": "execute_result"
        }
      ],
      "source": [
        "# Проверим корректно ли произошли преобразования\n",
        "data.loc[:, ['Дата создания дела', 'Дата создания']]"
      ]
    },
    {
      "cell_type": "markdown",
      "id": "9dcfb506",
      "metadata": {
        "id": "9dcfb506"
      },
      "source": [
        "## Удаляем дела:\n",
        "\n",
        "Поскольку выгрузка из БД содержит все вообще дела за все время, то нужно оставить только активные дела и завершенные в этом квартале."
      ]
    },
    {
      "cell_type": "code",
      "execution_count": null,
      "id": "81eca149",
      "metadata": {
        "id": "81eca149"
      },
      "outputs": [],
      "source": [
        "# правим тип данных\n",
        "data['Дата закрытия'] = data['Дата закрытия'].apply(lambda x: fix_date(x))"
      ]
    },
    {
      "cell_type": "code",
      "execution_count": null,
      "id": "ec14b09c",
      "metadata": {
        "id": "ec14b09c",
        "outputId": "618850ba-4fd2-4f92-ca79-9cb09053b402"
      },
      "outputs": [
        {
          "data": {
            "text/plain": [
              "Int64Index([   0,    2,    3,    4,    6,    8,    9,   10,   11,   12,\n",
              "            ...\n",
              "            5479, 5480, 5481, 5482, 5483, 5484, 5485, 5486, 5487, 5488],\n",
              "           dtype='int64', length=4239)"
            ]
          },
          "execution_count": 11,
          "metadata": {},
          "output_type": "execute_result"
        }
      ],
      "source": [
        "to_del_old = data.loc[(data['Статус'] == 'Завершено') & (datetime(2023, 1, 1, 0, 0, 0, 1).date() > data['Дата закрытия'])]\n",
        "to_del_old.index"
      ]
    },
    {
      "cell_type": "code",
      "execution_count": null,
      "id": "59dab36c",
      "metadata": {
        "id": "59dab36c",
        "outputId": "7d31ab05-ea29-44ff-db06-b6a0d41ae297"
      },
      "outputs": [
        {
          "data": {
            "text/plain": [
              "(1250, 60)"
            ]
          },
          "execution_count": 12,
          "metadata": {},
          "output_type": "execute_result"
        }
      ],
      "source": [
        "# удаляю все завершенное до 01.01.2023\n",
        "data = data.drop (index=to_del_old.index)\n",
        "data.shape"
      ]
    },
    {
      "cell_type": "code",
      "execution_count": null,
      "id": "a0670c76",
      "metadata": {
        "id": "a0670c76",
        "outputId": "1dc7e01f-1b70-49a2-f2a1-10e4b03c2829"
      },
      "outputs": [
        {
          "data": {
            "text/plain": [
              "В работе             818\n",
              "Завершено            373\n",
              "Отменено              49\n",
              "Приостановлено         5\n",
              "Частично передано      5\n",
              "Name: Статус, dtype: int64"
            ]
          },
          "execution_count": 13,
          "metadata": {},
          "output_type": "execute_result"
        }
      ],
      "source": [
        "data['Статус'].value_counts()"
      ]
    },
    {
      "cell_type": "code",
      "execution_count": null,
      "id": "54394c9b",
      "metadata": {
        "id": "54394c9b",
        "outputId": "6276b632-d01d-478a-a6cd-f52077a550a6"
      },
      "outputs": [
        {
          "data": {
            "text/plain": [
              "(1201, 60)"
            ]
          },
          "execution_count": 14,
          "metadata": {},
          "output_type": "execute_result"
        }
      ],
      "source": [
        "data = data.loc[data['Статус'] != 'Отменено']\n",
        "data.shape"
      ]
    },
    {
      "cell_type": "code",
      "execution_count": null,
      "id": "84247323",
      "metadata": {
        "id": "84247323",
        "outputId": "add65e69-74cb-49d1-a105-ac78256c2b69"
      },
      "outputs": [
        {
          "data": {
            "text/plain": [
              "Включено в РТК                300\n",
              "ИД передан в УПК               36\n",
              "Возврат в досудебное пр-во     14\n",
              "Включено за РТК                14\n",
              "Получен судебный акт            3\n",
              "Создано ошибочно                3\n",
              "Отказано во вкл в РТК           2\n",
              "Name: Результат, dtype: int64"
            ]
          },
          "execution_count": 15,
          "metadata": {},
          "output_type": "execute_result"
        }
      ],
      "source": [
        "# Смотрим какие Результаты имеются в оставленных делах\n",
        "data.loc[data['Статус'] == 'Завершено']['Результат'].value_counts()"
      ]
    },
    {
      "cell_type": "code",
      "execution_count": null,
      "id": "dbb93b1d",
      "metadata": {
        "id": "dbb93b1d",
        "outputId": "2813f90c-9139-41bb-8026-cbd16d5d4205"
      },
      "outputs": [
        {
          "data": {
            "text/plain": [
              "Возврат в досудебное пр-во    14\n",
              "Создано ошибочно               3\n",
              "Отказано во вкл в РТК          2\n",
              "Name: Результат, dtype: int64"
            ]
          },
          "execution_count": 16,
          "metadata": {},
          "output_type": "execute_result"
        }
      ],
      "source": [
        "# Из выгрузки нужно удалить Возвращенное, Ошибочное и Отказные дела\n",
        "\n",
        "to_del_2 = data.loc[(data['Статус'] == 'Завершено') & ((data['Результат'] == 'Возврат в досудебное пр-во') | \\\n",
        "                                                       (data['Результат'] == 'Создано ошибочно') | \\\n",
        "                                                       (data['Результат'] == 'Отказано во вкл в РТК'))]\n",
        "to_del_2 ['Результат'].value_counts()"
      ]
    },
    {
      "cell_type": "code",
      "execution_count": null,
      "id": "d85dc23d",
      "metadata": {
        "id": "d85dc23d",
        "outputId": "e4268870-44a0-4203-92dc-3dfc0dd0e82b"
      },
      "outputs": [
        {
          "data": {
            "text/plain": [
              "(1182, 60)"
            ]
          },
          "execution_count": 17,
          "metadata": {},
          "output_type": "execute_result"
        }
      ],
      "source": [
        "data = data.drop (index=to_del_2 .index)\n",
        "data.shape"
      ]
    },
    {
      "cell_type": "markdown",
      "id": "425c6b0a",
      "metadata": {
        "id": "425c6b0a"
      },
      "source": [
        "## Подтягиваем ранее учтенные:"
      ]
    },
    {
      "cell_type": "code",
      "execution_count": null,
      "id": "e6b0bad7",
      "metadata": {
        "id": "e6b0bad7",
        "outputId": "88df780a-8b87-45a5-a68b-72017ab59553"
      },
      "outputs": [
        {
          "data": {
            "text/plain": [
              "(Index(['Номер по SIEBEL', 'Договор', 'Квартал учета в факте'], dtype='object'),\n",
              " (25275, 3))"
            ]
          },
          "execution_count": 18,
          "metadata": {},
          "output_type": "execute_result"
        }
      ],
      "source": [
        "# смотрим какие колонки в таблице и ее размер\n",
        "earliers_doned.columns, earliers_doned.shape"
      ]
    },
    {
      "cell_type": "code",
      "execution_count": null,
      "id": "56402c47",
      "metadata": {
        "id": "56402c47",
        "outputId": "b4c6b267-bc3a-4d20-993c-a364b6a5e967"
      },
      "outputs": [
        {
          "name": "stdout",
          "output_type": "stream",
          "text": [
            "<class 'pandas.core.frame.DataFrame'>\n",
            "RangeIndex: 25275 entries, 0 to 25274\n",
            "Data columns (total 3 columns):\n",
            " #   Column                 Non-Null Count  Dtype \n",
            "---  ------                 --------------  ----- \n",
            " 0   Номер по SIEBEL        25275 non-null  object\n",
            " 1   Договор                14342 non-null  object\n",
            " 2   Квартал учета в факте  25275 non-null  object\n",
            "dtypes: object(3)\n",
            "memory usage: 592.5+ KB\n"
          ]
        }
      ],
      "source": [
        "earliers_doned.info()"
      ]
    },
    {
      "cell_type": "markdown",
      "id": "86ace7ba",
      "metadata": {
        "id": "86ace7ba"
      },
      "source": [
        "В таблице earliers_doned содержится список кд и номеров по Сибель дел, которые ранее учитывались в СМОТ и их нужно исключать.<br>\n",
        "\n",
        "Также видим, что в некоторых случаях отдельно зафиксированы номера кд по учтенным делам, а отдельно номера по Сибель - будем учитывать это при подтягивании значений"
      ]
    },
    {
      "cell_type": "code",
      "execution_count": null,
      "id": "dd2054f9",
      "metadata": {
        "id": "dd2054f9",
        "outputId": "a3938d3a-0c00-4939-b848-0e3110ca9699"
      },
      "outputs": [
        {
          "data": {
            "text/plain": [
              "основное дело у ЮД    1\n",
              "3 квартал 2022        1\n",
              "3 квартал 2019        1\n",
              "Name: Учтен, dtype: int64"
            ]
          },
          "execution_count": 20,
          "metadata": {},
          "output_type": "execute_result"
        }
      ],
      "source": [
        "# PART 1\n",
        "# присоединяю учтенные по номеру по сибель\n",
        "data = pd.merge(data, earliers_doned,  on ='Номер по SIEBEL', how ='left')\n",
        "\n",
        "# переписываю значения в колонке Учтен\n",
        "data['Учтен'] = data['Квартал учета в факте']\n",
        "\n",
        "# после того как переписал, удаляю смерженные столбцы - из-за наличия в исходной выгрузки колонки Договор, \n",
        "# она становится Договор_x, а присоединный столбец из выгрузки учтенных - Договор_y\n",
        "data.drop(columns=['Квартал учета в факте', 'Договор_y'], inplace=True)\n",
        "\n",
        "# и возвращаю корректное название колонке Договор\n",
        "data.rename(columns={'Договор_x' : 'Договор'}, inplace=True)\n",
        "\n",
        "# смотрим что получилось \n",
        "data['Учтен'].value_counts()"
      ]
    },
    {
      "cell_type": "code",
      "execution_count": null,
      "id": "7ed2686f",
      "metadata": {
        "id": "7ed2686f",
        "outputId": "f98c38f2-f94b-40ef-dd2f-12fdeb669a06"
      },
      "outputs": [
        {
          "data": {
            "text/plain": [
              "3 квартал 2021    5\n",
              "3 квартал 2019    2\n",
              "4 квартал 2020    2\n",
              "2 квартал 2019    1\n",
              "4 квартал 2019    1\n",
              "Name: Квартал учета в факте, dtype: int64"
            ]
          },
          "execution_count": 21,
          "metadata": {},
          "output_type": "execute_result"
        }
      ],
      "source": [
        "#PART 2\n",
        "# осталось присоединить по договору, чтобы это сделать удалю в исходном списке учтенных пустые строки в колонке Договор\n",
        "nan_list_1 = earliers_doned[pd.isnull(earliers_doned['Договор'])].index\n",
        "earliers_doned_2 = earliers_doned.drop (index=nan_list_1)\n",
        "\n",
        "#присоеднияю по Договору \n",
        "data = pd.merge(data, earliers_doned_2,  on ='Договор', how ='left')\n",
        "\n",
        "data['Квартал учета в факте'].value_counts()"
      ]
    },
    {
      "cell_type": "markdown",
      "id": "b5018e0f",
      "metadata": {
        "id": "b5018e0f"
      },
      "source": [
        "Первая смерженная часть инф. об учете ПА была выше перенесена в поле Учет и после второго мержа у нас снова появилась колонка Квартал учета в факте, откуда будем переносить данные в колонку Учет.\n",
        "\n",
        "__Примечание:__ заполнение полей через цикл и индексы здесь использую для разнообразия, в дальнейшем внизу буду работать с методом .apply() "
      ]
    },
    {
      "cell_type": "code",
      "execution_count": null,
      "id": "ad2587fe",
      "metadata": {
        "id": "ad2587fe",
        "outputId": "da6f66c3-5738-4223-b319-fdfb433dbf17"
      },
      "outputs": [
        {
          "data": {
            "text/plain": [
              "Int64Index([149, 275, 304, 305, 543, 552, 809, 822, 823, 1158, 1165], dtype='int64')"
            ]
          },
          "execution_count": 22,
          "metadata": {},
          "output_type": "execute_result"
        }
      ],
      "source": [
        "# делаю список нанов чтобы оставить только строки с заполненным значением учета в Факте, чтобы взять индексы строк и переписать\n",
        "nan_list_2 = data[pd.isnull(data['Квартал учета в факте'])].index                                                  # в цикле\n",
        "hidden_data = data.drop(index=nan_list_2)\n",
        "hidden_data.index"
      ]
    },
    {
      "cell_type": "code",
      "execution_count": null,
      "id": "39398354",
      "metadata": {
        "id": "39398354"
      },
      "outputs": [],
      "source": [
        "for indx in hidden_data.index:\n",
        "    data.loc[indx, 'Учтен'] = data.loc[indx, 'Квартал учета в факте']"
      ]
    },
    {
      "cell_type": "code",
      "execution_count": null,
      "id": "ce826a15",
      "metadata": {
        "id": "ce826a15",
        "outputId": "d557e95c-5013-45af-be8f-27b88c3d1a97"
      },
      "outputs": [
        {
          "data": {
            "text/plain": [
              "3 квартал 2021        5\n",
              "3 квартал 2019        2\n",
              "4 квартал 2020        2\n",
              "основное дело у ЮД    1\n",
              "2 квартал 2019        1\n",
              "3 квартал 2022        1\n",
              "4 квартал 2019        1\n",
              "Name: Учтен, dtype: int64"
            ]
          },
          "execution_count": 24,
          "metadata": {},
          "output_type": "execute_result"
        }
      ],
      "source": [
        "# проверяем\n",
        "data['Учтен'].value_counts()"
      ]
    },
    {
      "cell_type": "code",
      "execution_count": null,
      "id": "f6a1f953",
      "metadata": {
        "id": "f6a1f953"
      },
      "outputs": [],
      "source": [
        "# смерженные столбцы не нужны - удаляем\n",
        "data.drop(columns=['Квартал учета в факте', 'Номер по SIEBEL_y'], inplace=True)\n",
        "\n",
        "# и возвращаем корректные названия колонкам \n",
        "data.rename(columns={'Номер по SIEBEL_x' : 'Номер по SIEBEL'}, inplace=True)"
      ]
    },
    {
      "cell_type": "markdown",
      "id": "d4b6f849",
      "metadata": {
        "id": "d4b6f849"
      },
      "source": [
        "## Подтягиваем активности НСТ:"
      ]
    },
    {
      "cell_type": "code",
      "execution_count": null,
      "id": "04b6b870",
      "metadata": {
        "id": "04b6b870",
        "outputId": "3cbfaa80-f358-498a-dacd-67ad474bfca5"
      },
      "outputs": [
        {
          "data": {
            "text/plain": [
              "Index(['Мероприятие', 'Индикатор', 'Тип', 'Тип активности Outbound', 'Статус',\n",
              "       'Начало', 'Фактическое окончание', 'Результат', 'Соотношение к ПЗ',\n",
              "       'Завершена с просрочкой', 'Клиент (ФЛ)', 'КМБ', 'Комментарии',\n",
              "       '№ договора', 'Судебное дело', 'Адрес',\n",
              "       'Дней просрочки на момент создания', 'Ответственный по клиенту',\n",
              "       'Центр сбора', 'Номер дела о банкротстве', 'Ответственный',\n",
              "       'Дата создания', 'Дата передачи', 'Общий комментарий', 'Описание',\n",
              "       'Иная судебная работа', 'Дата публичных торгов (принятие на баланс)'],\n",
              "      dtype='object')"
            ]
          },
          "execution_count": 26,
          "metadata": {},
          "output_type": "execute_result"
        }
      ],
      "source": [
        "activities.columns"
      ]
    },
    {
      "cell_type": "code",
      "execution_count": null,
      "id": "c7953aaa",
      "metadata": {
        "id": "c7953aaa"
      },
      "outputs": [],
      "source": [
        "# в выгрузке активностей нужно всего два столбца - возьму их и переименую колонки в корректные названия,\n",
        "# т.к. мержить надо будет по номеру по Сибель. Здесь в колонке \"Судебное дело\" содержится Номер по Сибель\n",
        "\n",
        "activities = activities.loc[:, ['Судебное дело', 'Статус']]\n",
        "activities.rename(columns={'Судебное дело' : 'Номер по SIEBEL', 'Статус': 'Статус активности нст'}, inplace=True)"
      ]
    },
    {
      "cell_type": "code",
      "execution_count": null,
      "id": "b35eaae6",
      "metadata": {
        "id": "b35eaae6",
        "outputId": "076ce42a-1829-47b6-f1a3-7ecf9b86cac8"
      },
      "outputs": [
        {
          "data": {
            "text/html": [
              "<div>\n",
              "<style scoped>\n",
              "    .dataframe tbody tr th:only-of-type {\n",
              "        vertical-align: middle;\n",
              "    }\n",
              "\n",
              "    .dataframe tbody tr th {\n",
              "        vertical-align: top;\n",
              "    }\n",
              "\n",
              "    .dataframe thead th {\n",
              "        text-align: right;\n",
              "    }\n",
              "</style>\n",
              "<table border=\"1\" class=\"dataframe\">\n",
              "  <thead>\n",
              "    <tr style=\"text-align: right;\">\n",
              "      <th></th>\n",
              "      <th>Номер по SIEBEL</th>\n",
              "      <th>Статус активности нст</th>\n",
              "    </tr>\n",
              "  </thead>\n",
              "  <tbody>\n",
              "    <tr>\n",
              "      <th>0</th>\n",
              "      <td>1-2237097491</td>\n",
              "      <td>Запланировано</td>\n",
              "    </tr>\n",
              "    <tr>\n",
              "      <th>1</th>\n",
              "      <td>1-531879843</td>\n",
              "      <td>Запланировано</td>\n",
              "    </tr>\n",
              "  </tbody>\n",
              "</table>\n",
              "</div>"
            ],
            "text/plain": [
              "  Номер по SIEBEL Статус активности нст\n",
              "0    1-2237097491         Запланировано\n",
              "1     1-531879843         Запланировано"
            ]
          },
          "execution_count": 28,
          "metadata": {},
          "output_type": "execute_result"
        }
      ],
      "source": [
        "activities.head(2)"
      ]
    },
    {
      "cell_type": "code",
      "execution_count": null,
      "id": "f7745c13",
      "metadata": {
        "id": "f7745c13",
        "outputId": "c080112b-4523-4fbf-c842-0a3d4694106e"
      },
      "outputs": [
        {
          "data": {
            "text/plain": [
              "Завершено    265\n",
              "Отменено      15\n",
              "Name: Статус активности нст, dtype: int64"
            ]
          },
          "execution_count": 29,
          "metadata": {},
          "output_type": "execute_result"
        }
      ],
      "source": [
        "# переименую значения в 1 вид (так проще перезаписывать потом)\n",
        "activities['Статус активности нст'].replace(\"Запланировано\", \"Завершено\", inplace=True) \n",
        "activities['Статус активности нст'].value_counts()\n",
        "\n",
        "# отмененные не будем метить как нестандртные - они ошибочны"
      ]
    },
    {
      "cell_type": "code",
      "execution_count": null,
      "id": "5918f5f2",
      "metadata": {
        "id": "5918f5f2",
        "outputId": "dad0b68e-4e15-4209-df1c-1e1c2836273a"
      },
      "outputs": [
        {
          "data": {
            "text/plain": [
              "Завершено    265\n",
              "Name: Статус активности нст, dtype: int64"
            ]
          },
          "execution_count": 30,
          "metadata": {},
          "output_type": "execute_result"
        }
      ],
      "source": [
        "# отмененные отсеку, посколько по некоторым делам имеется несколько активностей НСТ и, если в таком деле будет отмененная, то \n",
        "# она подтянется и мы не поймем, что дело на самом деле нестандартной, т.к. может быть не учтена вторая корректная активность НСТ\n",
        "\n",
        "activities = activities.loc[activities['Статус активности нст'] == 'Завершено']\n",
        "activities['Статус активности нст'].value_counts()"
      ]
    },
    {
      "cell_type": "code",
      "execution_count": null,
      "id": "a73f95e1",
      "metadata": {
        "id": "a73f95e1",
        "outputId": "7a85e560-3b48-4c90-b6e2-72c594796592"
      },
      "outputs": [
        {
          "data": {
            "text/plain": [
              "Завершено    86\n",
              "Name: Статус активности нст, dtype: int64"
            ]
          },
          "execution_count": 31,
          "metadata": {},
          "output_type": "execute_result"
        }
      ],
      "source": [
        "data = pd.merge(data, activities,  on ='Номер по SIEBEL', how ='left')\n",
        "data['Статус активности нст'].value_counts()"
      ]
    },
    {
      "cell_type": "code",
      "execution_count": null,
      "id": "e7ebc840",
      "metadata": {
        "id": "e7ebc840",
        "outputId": "15b6952a-24c7-4219-85e5-981c025ab69a"
      },
      "outputs": [
        {
          "data": {
            "text/plain": [
              "СТ     1119\n",
              "НСТ      86\n",
              "Name: СТ/НСТ, dtype: int64"
            ]
          },
          "execution_count": 32,
          "metadata": {},
          "output_type": "execute_result"
        }
      ],
      "source": [
        "# исходя из наличия корректных активностей, заполняем поле СТ/НСТ\n",
        "data['СТ/НСТ'] = np.where(data['Статус активности нст'] == 'Завершено' , 'НСТ', 'СТ')\n",
        "data['СТ/НСТ'].value_counts()"
      ]
    },
    {
      "cell_type": "markdown",
      "id": "bbaa5147",
      "metadata": {
        "id": "bbaa5147"
      },
      "source": [
        "## Корректируем суммы:"
      ]
    },
    {
      "cell_type": "code",
      "execution_count": null,
      "id": "edc86e14",
      "metadata": {
        "id": "edc86e14",
        "outputId": "107fe997-3cc5-4b68-a7a9-f312fcb42d41"
      },
      "outputs": [
        {
          "name": "stdout",
          "output_type": "stream",
          "text": [
            "<class 'pandas.core.frame.DataFrame'>\n",
            "Int64Index: 1205 entries, 0 to 1204\n",
            "Data columns (total 2 columns):\n",
            " #   Column                           Non-Null Count  Dtype \n",
            "---  ------                           --------------  ----- \n",
            " 0   Сумма заявленных требований      1154 non-null   object\n",
            " 1   Сумма взыскания по решению суда  1205 non-null   object\n",
            "dtypes: object(2)\n",
            "memory usage: 28.2+ KB\n"
          ]
        }
      ],
      "source": [
        "# у наших колонок тип данных объект, но если брать отдельные значения, то будет строковые данные:\n",
        "\n",
        "data.loc[:,['Сумма заявленных требований', 'Сумма взыскания по решению суда']].info()"
      ]
    },
    {
      "cell_type": "code",
      "execution_count": null,
      "id": "a9f71e4f",
      "metadata": {
        "id": "a9f71e4f"
      },
      "outputs": [],
      "source": [
        "list_to_replace = ['Сумма заявленных требований', 'Сумма взыскания по решению суда']\n",
        "\n",
        "\n",
        "def replace_and_fix_values(x):\n",
        "    if type(x) == str: # обхожу ошибку типа данных, когда встречается ноль\n",
        "        \n",
        "        # обрабатываем Руб.\n",
        "        x_fixed = x.replace(\"Руб.\", \"\")\n",
        "        \n",
        "        # приводим в корректный вид для преобразования в числовой формат\n",
        "        x_fixed = x_fixed.replace(\" \", \"\")    # пробелы между цифрами нужно также убрать\n",
        "        x_fixed = x_fixed.replace(\",\", \".\")   # в питоне у флоата точка вместо запятой\n",
        "        \n",
        "        # сразу убираю символ доллара и перевожу доллары в рубли\n",
        "        if '$' in x_fixed:\n",
        "            x_fixed = x_fixed.replace(\"$\", \"\")\n",
        "            x_fixed = str(float(x_fixed) * 70)  # 70 берем за текущий курс доллара - в перспективе переписать в глоб. переменную\n",
        "        \n",
        "        # аналогичное для евро\n",
        "        if '€' in x_fixed:\n",
        "            x_fixed = x_fixed.replace(\"€\", \"\")\n",
        "            x_fixed = str(float(x_fixed) * 70)  # на начало 2023 г. курсы валют примерно одинаковые\n",
        "        \n",
        "        return x_fixed\n",
        "    return x\n",
        "\n",
        "for i in list_to_replace:\n",
        "    data[i] = data[i].apply(lambda x: replace_and_fix_values(x))"
      ]
    },
    {
      "cell_type": "code",
      "execution_count": null,
      "id": "cd1cd7b5",
      "metadata": {
        "id": "cd1cd7b5",
        "outputId": "7cd30e3e-fd28-454f-cbe9-48ab4e44e713"
      },
      "outputs": [
        {
          "data": {
            "text/html": [
              "<div>\n",
              "<style scoped>\n",
              "    .dataframe tbody tr th:only-of-type {\n",
              "        vertical-align: middle;\n",
              "    }\n",
              "\n",
              "    .dataframe tbody tr th {\n",
              "        vertical-align: top;\n",
              "    }\n",
              "\n",
              "    .dataframe thead th {\n",
              "        text-align: right;\n",
              "    }\n",
              "</style>\n",
              "<table border=\"1\" class=\"dataframe\">\n",
              "  <thead>\n",
              "    <tr style=\"text-align: right;\">\n",
              "      <th></th>\n",
              "      <th>Сумма заявленных требований</th>\n",
              "      <th>Сумма взыскания по решению суда</th>\n",
              "    </tr>\n",
              "  </thead>\n",
              "  <tbody>\n",
              "    <tr>\n",
              "      <th>0</th>\n",
              "      <td>120106.50</td>\n",
              "      <td>0</td>\n",
              "    </tr>\n",
              "    <tr>\n",
              "      <th>1</th>\n",
              "      <td>222163.15</td>\n",
              "      <td>0</td>\n",
              "    </tr>\n",
              "    <tr>\n",
              "      <th>2</th>\n",
              "      <td>384892.89</td>\n",
              "      <td>0</td>\n",
              "    </tr>\n",
              "    <tr>\n",
              "      <th>3</th>\n",
              "      <td>59007.70</td>\n",
              "      <td>1970.23</td>\n",
              "    </tr>\n",
              "    <tr>\n",
              "      <th>4</th>\n",
              "      <td>51214.36</td>\n",
              "      <td>51214.36</td>\n",
              "    </tr>\n",
              "    <tr>\n",
              "      <th>...</th>\n",
              "      <td>...</td>\n",
              "      <td>...</td>\n",
              "    </tr>\n",
              "    <tr>\n",
              "      <th>1196</th>\n",
              "      <td>288021.48</td>\n",
              "      <td>288021.48</td>\n",
              "    </tr>\n",
              "    <tr>\n",
              "      <th>1197</th>\n",
              "      <td>396364.24</td>\n",
              "      <td>0</td>\n",
              "    </tr>\n",
              "    <tr>\n",
              "      <th>1198</th>\n",
              "      <td>346356.65</td>\n",
              "      <td>0</td>\n",
              "    </tr>\n",
              "    <tr>\n",
              "      <th>1199</th>\n",
              "      <td>555649.17</td>\n",
              "      <td>555649.17</td>\n",
              "    </tr>\n",
              "    <tr>\n",
              "      <th>1200</th>\n",
              "      <td>150980.99</td>\n",
              "      <td>0</td>\n",
              "    </tr>\n",
              "  </tbody>\n",
              "</table>\n",
              "<p>1201 rows × 2 columns</p>\n",
              "</div>"
            ],
            "text/plain": [
              "     Сумма заявленных требований Сумма взыскания по решению суда\n",
              "0                      120106.50                               0\n",
              "1                      222163.15                               0\n",
              "2                      384892.89                               0\n",
              "3                       59007.70                         1970.23\n",
              "4                       51214.36                        51214.36\n",
              "...                          ...                             ...\n",
              "1196                   288021.48                       288021.48\n",
              "1197                   396364.24                               0\n",
              "1198                   346356.65                               0\n",
              "1199                   555649.17                       555649.17\n",
              "1200                   150980.99                               0\n",
              "\n",
              "[1201 rows x 2 columns]"
            ]
          },
          "execution_count": 35,
          "metadata": {},
          "output_type": "execute_result"
        }
      ],
      "source": [
        "# смотрим результат\n",
        "data.loc[:, list_to_replace].head(-4)"
      ]
    },
    {
      "cell_type": "code",
      "execution_count": null,
      "id": "0d35d9af",
      "metadata": {
        "id": "0d35d9af",
        "outputId": "51ab7279-5267-4abd-99d5-4b58057a2feb"
      },
      "outputs": [
        {
          "name": "stdout",
          "output_type": "stream",
          "text": [
            "<class 'pandas.core.frame.DataFrame'>\n",
            "Int64Index: 1205 entries, 0 to 1204\n",
            "Data columns (total 2 columns):\n",
            " #   Column                           Non-Null Count  Dtype  \n",
            "---  ------                           --------------  -----  \n",
            " 0   Сумма заявленных требований      1154 non-null   float64\n",
            " 1   Сумма взыскания по решению суда  1205 non-null   float64\n",
            "dtypes: float64(2)\n",
            "memory usage: 28.2 KB\n"
          ]
        }
      ],
      "source": [
        "# переписываю тип данных\n",
        "data = data.astype({'Сумма заявленных требований': np.float64, 'Сумма взыскания по решению суда': np.float64})\n",
        "\n",
        "data.loc[:,['Сумма заявленных требований', 'Сумма взыскания по решению суда']].info()"
      ]
    },
    {
      "cell_type": "code",
      "execution_count": null,
      "id": "e07e1710",
      "metadata": {
        "id": "e07e1710",
        "outputId": "49a5f170-1452-48b7-9793-e6d3e238f171"
      },
      "outputs": [
        {
          "name": "stdout",
          "output_type": "stream",
          "text": [
            "<class 'pandas.core.frame.DataFrame'>\n",
            "Int64Index: 1205 entries, 0 to 1204\n",
            "Data columns (total 2 columns):\n",
            " #   Column                           Non-Null Count  Dtype  \n",
            "---  ------                           --------------  -----  \n",
            " 0   Сумма заявленных требований      1154 non-null   float64\n",
            " 1   Сумма взыскания по решению суда  1205 non-null   float64\n",
            "dtypes: float64(2)\n",
            "memory usage: 28.2 KB\n"
          ]
        }
      ],
      "source": [
        "data.loc[:,['Сумма заявленных требований', 'Сумма взыскания по решению суда']].info()"
      ]
    },
    {
      "cell_type": "code",
      "execution_count": null,
      "id": "f3df8ad3",
      "metadata": {
        "id": "f3df8ad3",
        "outputId": "73ecb267-68dc-41ba-aacd-9473f8cb6c9f"
      },
      "outputs": [
        {
          "data": {
            "text/html": [
              "<div>\n",
              "<style scoped>\n",
              "    .dataframe tbody tr th:only-of-type {\n",
              "        vertical-align: middle;\n",
              "    }\n",
              "\n",
              "    .dataframe tbody tr th {\n",
              "        vertical-align: top;\n",
              "    }\n",
              "\n",
              "    .dataframe thead th {\n",
              "        text-align: right;\n",
              "    }\n",
              "</style>\n",
              "<table border=\"1\" class=\"dataframe\">\n",
              "  <thead>\n",
              "    <tr style=\"text-align: right;\">\n",
              "      <th></th>\n",
              "      <th>Сумма заявленных требований</th>\n",
              "      <th>Сумма взыскания по решению суда</th>\n",
              "    </tr>\n",
              "  </thead>\n",
              "  <tbody>\n",
              "    <tr>\n",
              "      <th>0</th>\n",
              "      <td>120106.50</td>\n",
              "      <td>0.0</td>\n",
              "    </tr>\n",
              "    <tr>\n",
              "      <th>1</th>\n",
              "      <td>222163.15</td>\n",
              "      <td>0.0</td>\n",
              "    </tr>\n",
              "    <tr>\n",
              "      <th>2</th>\n",
              "      <td>384892.89</td>\n",
              "      <td>0.0</td>\n",
              "    </tr>\n",
              "  </tbody>\n",
              "</table>\n",
              "</div>"
            ],
            "text/plain": [
              "   Сумма заявленных требований  Сумма взыскания по решению суда\n",
              "0                    120106.50                              0.0\n",
              "1                    222163.15                              0.0\n",
              "2                    384892.89                              0.0"
            ]
          },
          "execution_count": 38,
          "metadata": {},
          "output_type": "execute_result"
        }
      ],
      "source": [
        "# суммы отображаются корректно\n",
        "data.loc[:, list_to_replace].head(3)"
      ]
    },
    {
      "cell_type": "markdown",
      "id": "d74f8ef1",
      "metadata": {
        "id": "d74f8ef1"
      },
      "source": [
        "__Смотрим что в поле Валюта__:"
      ]
    },
    {
      "cell_type": "code",
      "execution_count": null,
      "id": "74449929",
      "metadata": {
        "id": "74449929",
        "outputId": "f074c7d7-8626-4f25-b304-c9ab35d43984"
      },
      "outputs": [
        {
          "data": {
            "text/plain": [
              "RUB    1152\n",
              "USD       2\n",
              "Name: Валюта заявленных требований, dtype: int64"
            ]
          },
          "execution_count": 39,
          "metadata": {},
          "output_type": "execute_result"
        }
      ],
      "source": [
        "data['Валюта заявленных требований'].value_counts()"
      ]
    },
    {
      "cell_type": "code",
      "execution_count": null,
      "id": "ada62fef",
      "metadata": {
        "id": "ada62fef",
        "outputId": "bd678f41-5734-449f-c294-a13155206ef9"
      },
      "outputs": [
        {
          "data": {
            "text/html": [
              "<div>\n",
              "<style scoped>\n",
              "    .dataframe tbody tr th:only-of-type {\n",
              "        vertical-align: middle;\n",
              "    }\n",
              "\n",
              "    .dataframe tbody tr th {\n",
              "        vertical-align: top;\n",
              "    }\n",
              "\n",
              "    .dataframe thead th {\n",
              "        text-align: right;\n",
              "    }\n",
              "</style>\n",
              "<table border=\"1\" class=\"dataframe\">\n",
              "  <thead>\n",
              "    <tr style=\"text-align: right;\">\n",
              "      <th></th>\n",
              "      <th>Общая сумма ПЗ по ОД</th>\n",
              "      <th>Сумма просроченных процентов</th>\n",
              "    </tr>\n",
              "  </thead>\n",
              "  <tbody>\n",
              "    <tr>\n",
              "      <th>11</th>\n",
              "      <td>2631.79</td>\n",
              "      <td>0.0</td>\n",
              "    </tr>\n",
              "    <tr>\n",
              "      <th>12</th>\n",
              "      <td>2631.79</td>\n",
              "      <td>0.0</td>\n",
              "    </tr>\n",
              "  </tbody>\n",
              "</table>\n",
              "</div>"
            ],
            "text/plain": [
              "    Общая сумма ПЗ по ОД  Сумма просроченных процентов\n",
              "11               2631.79                           0.0\n",
              "12               2631.79                           0.0"
            ]
          },
          "execution_count": 40,
          "metadata": {},
          "output_type": "execute_result"
        }
      ],
      "source": [
        "data.loc[data['Валюта заявленных требований'] == 'USD', ['Общая сумма ПЗ по ОД', 'Сумма просроченных процентов']]"
      ]
    },
    {
      "cell_type": "markdown",
      "id": "d6adfc15",
      "metadata": {
        "id": "d6adfc15"
      },
      "source": [
        "__Меняем валютные значения у колонок:__"
      ]
    },
    {
      "cell_type": "code",
      "execution_count": null,
      "id": "cda78a0e",
      "metadata": {
        "id": "cda78a0e",
        "outputId": "d167e33e-90c5-4c81-ff61-dd650c75f541"
      },
      "outputs": [
        {
          "data": {
            "text/html": [
              "<div>\n",
              "<style scoped>\n",
              "    .dataframe tbody tr th:only-of-type {\n",
              "        vertical-align: middle;\n",
              "    }\n",
              "\n",
              "    .dataframe tbody tr th {\n",
              "        vertical-align: top;\n",
              "    }\n",
              "\n",
              "    .dataframe thead th {\n",
              "        text-align: right;\n",
              "    }\n",
              "</style>\n",
              "<table border=\"1\" class=\"dataframe\">\n",
              "  <thead>\n",
              "    <tr style=\"text-align: right;\">\n",
              "      <th></th>\n",
              "      <th>Общая сумма ПЗ по ОД</th>\n",
              "      <th>Сумма просроченных процентов</th>\n",
              "    </tr>\n",
              "  </thead>\n",
              "  <tbody>\n",
              "    <tr>\n",
              "      <th>11</th>\n",
              "      <td>184225.3</td>\n",
              "      <td>0.0</td>\n",
              "    </tr>\n",
              "    <tr>\n",
              "      <th>12</th>\n",
              "      <td>184225.3</td>\n",
              "      <td>0.0</td>\n",
              "    </tr>\n",
              "  </tbody>\n",
              "</table>\n",
              "</div>"
            ],
            "text/plain": [
              "    Общая сумма ПЗ по ОД  Сумма просроченных процентов\n",
              "11              184225.3                           0.0\n",
              "12              184225.3                           0.0"
            ]
          },
          "execution_count": 41,
          "metadata": {},
          "output_type": "execute_result"
        }
      ],
      "source": [
        "data.loc[data['Валюта заявленных требований']=='USD', 'Общая сумма ПЗ по ОД'] *= 70\n",
        "data.loc[data['Валюта заявленных требований']=='USD', 'Сумма просроченных процентов'] *= 70\n",
        "\n",
        "data.loc[data['Валюта заявленных требований']=='EUR', 'Общая сумма ПЗ по ОД'] *= 70\n",
        "data.loc[data['Валюта заявленных требований']=='EUR', 'Сумма просроченных процентов'] *= 70\n",
        "\n",
        "# сравниваем как прошел перевод - строкой выше цифры до преобразования\n",
        "data.loc[data['Валюта заявленных требований'] == 'USD', ['Общая сумма ПЗ по ОД', 'Сумма просроченных процентов']]"
      ]
    },
    {
      "cell_type": "markdown",
      "id": "303a3543",
      "metadata": {
        "id": "303a3543"
      },
      "source": [
        "Тип сокр и РОО"
      ]
    },
    {
      "cell_type": "markdown",
      "id": "1390289d",
      "metadata": {
        "id": "1390289d"
      },
      "source": [
        "##  Переписываем поле Тип:\n",
        "\n",
        "Суть в том, что Банкроты ФЛ могут быть МБ или РБ, но Банкротов ФЛ МБ нужно учесть как МБ"
      ]
    },
    {
      "cell_type": "code",
      "execution_count": null,
      "id": "cc41e615",
      "metadata": {
        "id": "cc41e615"
      },
      "outputs": [],
      "source": [
        "data['Тип сокр'] = data['Тип']"
      ]
    },
    {
      "cell_type": "code",
      "execution_count": null,
      "id": "38ffca73",
      "metadata": {
        "id": "38ffca73"
      },
      "outputs": [],
      "source": [
        "data['Тип сокр'] = data['Тип сокр'].convert_dtypes()"
      ]
    },
    {
      "cell_type": "code",
      "execution_count": null,
      "id": "cf01d569",
      "metadata": {
        "id": "cf01d569",
        "outputId": "051cd191-b874-47c4-f9a0-feae7bd3039b"
      },
      "outputs": [
        {
          "data": {
            "text/plain": [
              "Банкротство ФЛ РБ                831\n",
              "Взыскание задолженности ПА РБ    312\n",
              "Взыскание задолженности ПА МБ     43\n",
              "Банкротство ЮЛ МБ                 14\n",
              "Банкротство ФЛ МБ                  5\n",
              "Name: Тип сокр, dtype: Int64"
            ]
          },
          "execution_count": 44,
          "metadata": {},
          "output_type": "execute_result"
        }
      ],
      "source": [
        "data['Тип сокр'].value_counts()"
      ]
    },
    {
      "cell_type": "code",
      "execution_count": null,
      "id": "0f9bc089",
      "metadata": {
        "id": "0f9bc089"
      },
      "outputs": [],
      "source": [
        "data['Тип сокр'] = np.where((data['Тип сокр'] == 'Банкротство ФЛ РБ'), 'Банкротство РБ', data['Тип сокр'])\n",
        "data['Тип сокр'] = np.where((data['Тип сокр'] == 'Банкротство ЮЛ МБ'), 'Банкротство МБ', data['Тип сокр'])    \n",
        "data['Тип сокр'] = np.where((data['Тип сокр'] == 'Банкротство ФЛ МБ'), 'Банкротство МБ', data['Тип сокр'])    \n",
        "data['Тип сокр'] = np.where((data['Тип сокр'] == 'Взыскание задолженности ПА РБ'), 'Взыскание РБ', data['Тип сокр'])\n",
        "data['Тип сокр'] = np.where((data['Тип сокр'] == 'Взыскание задолженности ПА МБ'), 'Взыскание МБ', data['Тип сокр'])\n"
      ]
    },
    {
      "cell_type": "code",
      "execution_count": null,
      "id": "300a3ada",
      "metadata": {
        "id": "300a3ada",
        "outputId": "93365113-e62b-4d3e-c538-3c06f9e51748"
      },
      "outputs": [
        {
          "data": {
            "text/html": [
              "<div>\n",
              "<style scoped>\n",
              "    .dataframe tbody tr th:only-of-type {\n",
              "        vertical-align: middle;\n",
              "    }\n",
              "\n",
              "    .dataframe tbody tr th {\n",
              "        vertical-align: top;\n",
              "    }\n",
              "\n",
              "    .dataframe thead th {\n",
              "        text-align: right;\n",
              "    }\n",
              "</style>\n",
              "<table border=\"1\" class=\"dataframe\">\n",
              "  <thead>\n",
              "    <tr style=\"text-align: right;\">\n",
              "      <th></th>\n",
              "      <th></th>\n",
              "      <th>Номер по SIEBEL</th>\n",
              "    </tr>\n",
              "    <tr>\n",
              "      <th>Тип сокр</th>\n",
              "      <th>Тип</th>\n",
              "      <th></th>\n",
              "    </tr>\n",
              "  </thead>\n",
              "  <tbody>\n",
              "    <tr>\n",
              "      <th rowspan=\"2\" valign=\"top\">Банкротство МБ</th>\n",
              "      <th>Банкротство ФЛ МБ</th>\n",
              "      <td>5</td>\n",
              "    </tr>\n",
              "    <tr>\n",
              "      <th>Банкротство ЮЛ МБ</th>\n",
              "      <td>14</td>\n",
              "    </tr>\n",
              "    <tr>\n",
              "      <th>Банкротство РБ</th>\n",
              "      <th>Банкротство ФЛ РБ</th>\n",
              "      <td>831</td>\n",
              "    </tr>\n",
              "    <tr>\n",
              "      <th>Взыскание МБ</th>\n",
              "      <th>Взыскание задолженности ПА МБ</th>\n",
              "      <td>43</td>\n",
              "    </tr>\n",
              "    <tr>\n",
              "      <th>Взыскание РБ</th>\n",
              "      <th>Взыскание задолженности ПА РБ</th>\n",
              "      <td>312</td>\n",
              "    </tr>\n",
              "  </tbody>\n",
              "</table>\n",
              "</div>"
            ],
            "text/plain": [
              "                                              Номер по SIEBEL\n",
              "Тип сокр       Тип                                           \n",
              "Банкротство МБ Банкротство ФЛ МБ                            5\n",
              "               Банкротство ЮЛ МБ                           14\n",
              "Банкротство РБ Банкротство ФЛ РБ                          831\n",
              "Взыскание МБ   Взыскание задолженности ПА МБ               43\n",
              "Взыскание РБ   Взыскание задолженности ПА РБ              312"
            ]
          },
          "execution_count": 46,
          "metadata": {},
          "output_type": "execute_result"
        }
      ],
      "source": [
        "# смотрим результат\n",
        "data.groupby(['Тип сокр', 'Тип']).agg({'Номер по SIEBEL': 'count'})\n",
        "\n",
        "# все корректно"
      ]
    },
    {
      "cell_type": "markdown",
      "id": "2b3766f9",
      "metadata": {
        "id": "2b3766f9"
      },
      "source": [
        "## Создаем колонку дата конца:"
      ]
    },
    {
      "cell_type": "code",
      "execution_count": null,
      "id": "a18f284c",
      "metadata": {
        "id": "a18f284c",
        "outputId": "0e8599cd-2f03-4cbc-f771-10d146631489"
      },
      "outputs": [
        {
          "data": {
            "text/plain": [
              "2023-03-31    1205\n",
              "Name: Дата конца, dtype: int64"
            ]
          },
          "execution_count": 47,
          "metadata": {},
          "output_type": "execute_result"
        }
      ],
      "source": [
        "data['Дата конца'] = datetime(2023, 3, 31, 23, 59, 0, 1).date()\n",
        "data['Дата конца'].value_counts()"
      ]
    },
    {
      "cell_type": "code",
      "execution_count": null,
      "id": "51b2323c",
      "metadata": {
        "id": "51b2323c",
        "outputId": "317a37fc-2d36-4147-cc7d-fedd13359f7c"
      },
      "outputs": [
        {
          "data": {
            "text/html": [
              "<div>\n",
              "<style scoped>\n",
              "    .dataframe tbody tr th:only-of-type {\n",
              "        vertical-align: middle;\n",
              "    }\n",
              "\n",
              "    .dataframe tbody tr th {\n",
              "        vertical-align: top;\n",
              "    }\n",
              "\n",
              "    .dataframe thead th {\n",
              "        text-align: right;\n",
              "    }\n",
              "</style>\n",
              "<table border=\"1\" class=\"dataframe\">\n",
              "  <thead>\n",
              "    <tr style=\"text-align: right;\">\n",
              "      <th></th>\n",
              "      <th>Дата конца</th>\n",
              "    </tr>\n",
              "  </thead>\n",
              "  <tbody>\n",
              "    <tr>\n",
              "      <th>0</th>\n",
              "      <td>2023-03-31</td>\n",
              "    </tr>\n",
              "    <tr>\n",
              "      <th>1</th>\n",
              "      <td>2023-03-31</td>\n",
              "    </tr>\n",
              "    <tr>\n",
              "      <th>2</th>\n",
              "      <td>2023-03-31</td>\n",
              "    </tr>\n",
              "    <tr>\n",
              "      <th>3</th>\n",
              "      <td>2023-03-31</td>\n",
              "    </tr>\n",
              "    <tr>\n",
              "      <th>4</th>\n",
              "      <td>2023-03-31</td>\n",
              "    </tr>\n",
              "    <tr>\n",
              "      <th>...</th>\n",
              "      <td>...</td>\n",
              "    </tr>\n",
              "    <tr>\n",
              "      <th>1200</th>\n",
              "      <td>2023-03-31</td>\n",
              "    </tr>\n",
              "    <tr>\n",
              "      <th>1201</th>\n",
              "      <td>2023-03-31</td>\n",
              "    </tr>\n",
              "    <tr>\n",
              "      <th>1202</th>\n",
              "      <td>2023-03-31</td>\n",
              "    </tr>\n",
              "    <tr>\n",
              "      <th>1203</th>\n",
              "      <td>2023-03-31</td>\n",
              "    </tr>\n",
              "    <tr>\n",
              "      <th>1204</th>\n",
              "      <td>2023-03-31</td>\n",
              "    </tr>\n",
              "  </tbody>\n",
              "</table>\n",
              "<p>1205 rows × 1 columns</p>\n",
              "</div>"
            ],
            "text/plain": [
              "      Дата конца\n",
              "0     2023-03-31\n",
              "1     2023-03-31\n",
              "2     2023-03-31\n",
              "3     2023-03-31\n",
              "4     2023-03-31\n",
              "...          ...\n",
              "1200  2023-03-31\n",
              "1201  2023-03-31\n",
              "1202  2023-03-31\n",
              "1203  2023-03-31\n",
              "1204  2023-03-31\n",
              "\n",
              "[1205 rows x 1 columns]"
            ]
          },
          "execution_count": 48,
          "metadata": {},
          "output_type": "execute_result"
        }
      ],
      "source": [
        "data.loc[:, ['Дата конца', ]]"
      ]
    },
    {
      "cell_type": "markdown",
      "id": "fdd7200b",
      "metadata": {
        "id": "fdd7200b"
      },
      "source": [
        "__Добавляю колонки, значения по умолчанию будут None, чтобы потом можно было себя перепроверить__"
      ]
    },
    {
      "cell_type": "code",
      "execution_count": null,
      "id": "c9c65657",
      "metadata": {
        "id": "c9c65657"
      },
      "outputs": [],
      "source": [
        "columns_to_add = ['Кол-во дней', 'Коэф', 'Факт', 'План']\n",
        "\n",
        "for i in columns_to_add:\n",
        "    data[i] = None"
      ]
    },
    {
      "cell_type": "markdown",
      "id": "d22ecf71",
      "metadata": {
        "id": "d22ecf71"
      },
      "source": [
        "# Заполняем колонки:\n",
        "\n",
        "__Колонка Кол-во дней:__\n",
        "\n",
        "Здесь есть особенность по делам созданным либо завершенным в период с 15 дек по 19 янв - по ним срок увеличен на 35 дней. Это нужно учитывать"
      ]
    },
    {
      "cell_type": "code",
      "execution_count": null,
      "id": "98feb7aa",
      "metadata": {
        "id": "98feb7aa",
        "outputId": "e255004e-524c-4631-db69-34507da10e03"
      },
      "outputs": [
        {
          "data": {
            "text/plain": [
              "5   171 days\n",
              "dtype: timedelta64[ns]"
            ]
          },
          "execution_count": 50,
          "metadata": {},
          "output_type": "execute_result"
        }
      ],
      "source": [
        "# промежуточный вариант для понимания что будет выводиться\n",
        "d = data.loc[data.index == 5]['Дата конца'] - data.loc[data.index == 5]['Дата создания']\n",
        "d"
      ]
    },
    {
      "cell_type": "code",
      "execution_count": null,
      "id": "ccdb4189",
      "metadata": {
        "id": "ccdb4189",
        "outputId": "46ca74dd-ec27-405a-b6c5-c16063398daa"
      },
      "outputs": [
        {
          "data": {
            "text/plain": [
              "5    171\n",
              "dtype: int64"
            ]
          },
          "execution_count": 51,
          "metadata": {},
          "output_type": "execute_result"
        }
      ],
      "source": [
        "# так будем забирать только число\n",
        "d.dt.days"
      ]
    },
    {
      "cell_type": "code",
      "execution_count": null,
      "id": "acd53698",
      "metadata": {
        "id": "acd53698"
      },
      "outputs": [],
      "source": [
        "# ф-ция расчета кол-ва дней  - по завершенным вычитается Дата закрытия из Даты создания, а по активным из Даты конца.\n",
        "\n",
        "def count_num_days(row):\n",
        "    if row['Статус'] == 'Завершено':\n",
        "        if (row['Дата создания'] >= datetime(2022, 12, 15, 0, 0, 0, 1).date()) and \\\n",
        "        row['Дата создания'] <= datetime(2023, 1, 19, 0, 0, 0, 1).date():\n",
        "            date_x = row['Дата закрытия'] - row['Дата создания'] - timedelta(days=35)\n",
        "            return date_x.days\n",
        "        \n",
        "        if (row['Дата закрытия'] >= datetime(2022, 12, 31, 23, 59, 0, 1).date()) and \\\n",
        "        (row['Дата закрытия'] <= datetime(2023, 1, 19, 0, 0, 0, 1).date()):\n",
        "            date_x = row['Дата закрытия'] - row['Дата создания'] - timedelta(days=35)\n",
        "            return date_x.days\n",
        "        \n",
        "        date_x = row['Дата закрытия'] - row['Дата создания']\n",
        "        return date_x.days\n",
        "    \n",
        "    # пошел блок по не завершенным делам\n",
        "    else:\n",
        "        if (row['Дата создания'] >= datetime(2022, 12, 15, 0, 0, 0, 1).date()) and \\\n",
        "        (row['Дата создания'] <= datetime(2023, 1, 19, 0, 0, 0, 1).date()):\n",
        "            date_x = row['Дата конца'] - row['Дата создания'] - timedelta(days=35)\n",
        "            return date_x.days\n",
        "        \n",
        "        # для всех остальных случаев\n",
        "        date_x = row['Дата конца'] - row['Дата создания']\n",
        "        return date_x.days\n",
        "        \n",
        "data['Кол-во дней'] = data.apply(count_num_days, axis=1)"
      ]
    },
    {
      "cell_type": "code",
      "execution_count": null,
      "id": "8feb4240",
      "metadata": {
        "id": "8feb4240"
      },
      "outputs": [],
      "source": [
        "#  РАБОТАЕТ, ВЫКЛЮЧИЛ ЧТОБЫ НАПИСАТЬ опмтимальнее - см. выше\n",
        "\n",
        "# indx_closed_deals = data.loc[data['Статус'] == 'Завершено'].index\n",
        "# indx_active_deals = data.loc[data['Статус'] != 'Завершено'].index\n",
        "\n",
        "# for indx in indx_closed_deals:\n",
        "#     data.loc[indx, 'Кол-во дней'] = data.loc[indx, 'Дата закрытия'] - data.loc[indx, 'Дата создания']\n",
        "    \n",
        "# for indx in indx_active_deals:\n",
        "#     data.loc[indx, 'Кол-во дней'] = data.loc[indx, 'Дата конца'] - data.loc[indx, 'Дата создания']\n",
        "    \n",
        "# # перевожу в числовой формат, чтобы можно было потом сравнивать\n",
        "# data['Кол-во дней'] = data['Кол-во дней'].apply(lambda x: x.days)"
      ]
    },
    {
      "cell_type": "markdown",
      "id": "2bd930c1",
      "metadata": {
        "id": "2bd930c1"
      },
      "source": [
        "__Сокращу кол-во колонок для возможности вывода обезличенной инф. с нужными для расчета коэффициента колонками:__"
      ]
    },
    {
      "cell_type": "code",
      "execution_count": null,
      "id": "803a88d7",
      "metadata": {
        "id": "803a88d7",
        "outputId": "8e1d3a08-b5aa-45d2-f25a-2f5930f59357"
      },
      "outputs": [
        {
          "data": {
            "text/html": [
              "<div>\n",
              "<style scoped>\n",
              "    .dataframe tbody tr th:only-of-type {\n",
              "        vertical-align: middle;\n",
              "    }\n",
              "\n",
              "    .dataframe tbody tr th {\n",
              "        vertical-align: top;\n",
              "    }\n",
              "\n",
              "    .dataframe thead th {\n",
              "        text-align: right;\n",
              "    }\n",
              "</style>\n",
              "<table border=\"1\" class=\"dataframe\">\n",
              "  <thead>\n",
              "    <tr style=\"text-align: right;\">\n",
              "      <th></th>\n",
              "      <th>Номер по SIEBEL</th>\n",
              "      <th>РОО</th>\n",
              "      <th>Статус</th>\n",
              "      <th>Сумма заявленных требований</th>\n",
              "      <th>Сумма взыскания по решению суда</th>\n",
              "      <th>Дата создания</th>\n",
              "      <th>Дата конца</th>\n",
              "      <th>Комментарии</th>\n",
              "      <th>Дата закрытия</th>\n",
              "      <th>Учтен</th>\n",
              "      <th>Кол-во дней</th>\n",
              "      <th>Коэф</th>\n",
              "      <th>СТ/НСТ</th>\n",
              "      <th>Статус активности нст</th>\n",
              "      <th>Тип сокр</th>\n",
              "      <th>Общая сумма ПЗ по ОД</th>\n",
              "      <th>Сумма просроченных процентов</th>\n",
              "      <th>Факт</th>\n",
              "      <th>План</th>\n",
              "    </tr>\n",
              "  </thead>\n",
              "  <tbody>\n",
              "    <tr>\n",
              "      <th>0</th>\n",
              "      <td>1-2922685695</td>\n",
              "      <td>Нальчик</td>\n",
              "      <td>В работе</td>\n",
              "      <td>120106.50</td>\n",
              "      <td>0.0</td>\n",
              "      <td>2022-10-11</td>\n",
              "      <td>2023-03-31</td>\n",
              "      <td>Иск.Наследники. Иск направлен в суд - 19.10.20...</td>\n",
              "      <td>NaT</td>\n",
              "      <td>NaN</td>\n",
              "      <td>171</td>\n",
              "      <td>None</td>\n",
              "      <td>СТ</td>\n",
              "      <td>NaN</td>\n",
              "      <td>Взыскание РБ</td>\n",
              "      <td>59281.32</td>\n",
              "      <td>7139.14</td>\n",
              "      <td>None</td>\n",
              "      <td>None</td>\n",
              "    </tr>\n",
              "    <tr>\n",
              "      <th>1</th>\n",
              "      <td>1-2566500297</td>\n",
              "      <td>Нальчик</td>\n",
              "      <td>В работе</td>\n",
              "      <td>222163.15</td>\n",
              "      <td>0.0</td>\n",
              "      <td>2022-06-06</td>\n",
              "      <td>2023-03-31</td>\n",
              "      <td>Иск. Наследники. Исковое заявление напр. в суд...</td>\n",
              "      <td>NaT</td>\n",
              "      <td>NaN</td>\n",
              "      <td>298</td>\n",
              "      <td>None</td>\n",
              "      <td>СТ</td>\n",
              "      <td>NaN</td>\n",
              "      <td>Взыскание РБ</td>\n",
              "      <td>175467.50</td>\n",
              "      <td>46695.65</td>\n",
              "      <td>None</td>\n",
              "      <td>None</td>\n",
              "    </tr>\n",
              "    <tr>\n",
              "      <th>2</th>\n",
              "      <td>1-2566858573</td>\n",
              "      <td>Нальчик</td>\n",
              "      <td>В работе</td>\n",
              "      <td>384892.89</td>\n",
              "      <td>0.0</td>\n",
              "      <td>2022-06-06</td>\n",
              "      <td>2023-03-31</td>\n",
              "      <td>Иск.Наследники. Исковое заявление напр. в суд ...</td>\n",
              "      <td>NaT</td>\n",
              "      <td>NaN</td>\n",
              "      <td>298</td>\n",
              "      <td>None</td>\n",
              "      <td>СТ</td>\n",
              "      <td>NaN</td>\n",
              "      <td>Взыскание РБ</td>\n",
              "      <td>315937.21</td>\n",
              "      <td>47946.16</td>\n",
              "      <td>None</td>\n",
              "      <td>None</td>\n",
              "    </tr>\n",
              "  </tbody>\n",
              "</table>\n",
              "</div>"
            ],
            "text/plain": [
              "  Номер по SIEBEL      РОО    Статус  Сумма заявленных требований  \\\n",
              "0    1-2922685695  Нальчик  В работе                    120106.50   \n",
              "1    1-2566500297  Нальчик  В работе                    222163.15   \n",
              "2    1-2566858573  Нальчик  В работе                    384892.89   \n",
              "\n",
              "   Сумма взыскания по решению суда Дата создания  Дата конца  \\\n",
              "0                              0.0    2022-10-11  2023-03-31   \n",
              "1                              0.0    2022-06-06  2023-03-31   \n",
              "2                              0.0    2022-06-06  2023-03-31   \n",
              "\n",
              "                                         Комментарии Дата закрытия Учтен  \\\n",
              "0  Иск.Наследники. Иск направлен в суд - 19.10.20...           NaT   NaN   \n",
              "1  Иск. Наследники. Исковое заявление напр. в суд...           NaT   NaN   \n",
              "2  Иск.Наследники. Исковое заявление напр. в суд ...           NaT   NaN   \n",
              "\n",
              "   Кол-во дней  Коэф СТ/НСТ Статус активности нст      Тип сокр  \\\n",
              "0          171  None     СТ                   NaN  Взыскание РБ   \n",
              "1          298  None     СТ                   NaN  Взыскание РБ   \n",
              "2          298  None     СТ                   NaN  Взыскание РБ   \n",
              "\n",
              "   Общая сумма ПЗ по ОД  Сумма просроченных процентов  Факт  План  \n",
              "0              59281.32                       7139.14  None  None  \n",
              "1             175467.50                      46695.65  None  None  \n",
              "2             315937.21                      47946.16  None  None  "
            ]
          },
          "execution_count": 54,
          "metadata": {},
          "output_type": "execute_result"
        }
      ],
      "source": [
        "cols_list = ['Номер по SIEBEL', 'РОО', 'Статус', 'Сумма заявленных требований','Сумма взыскания по решению суда',\\\n",
        "             'Дата создания', 'Дата конца','Комментарии','Дата закрытия','Учтен','Кол-во дней', 'Коэф','СТ/НСТ', \\\n",
        "             'Статус активности нст','Тип сокр','Общая сумма ПЗ по ОД','Сумма просроченных процентов','Факт', 'План']\n",
        "\n",
        "data_cuted = data.loc[:, cols_list]\n",
        "data_cuted.head(3)"
      ]
    },
    {
      "cell_type": "code",
      "execution_count": null,
      "id": "1a3fdf4e",
      "metadata": {
        "id": "1a3fdf4e",
        "outputId": "581de850-f096-4736-bcf2-58a807e3e379"
      },
      "outputs": [
        {
          "data": {
            "text/plain": [
              "Банкротство РБ    831\n",
              "Взыскание РБ      312\n",
              "Взыскание МБ       43\n",
              "Банкротство МБ     19\n",
              "Name: Тип сокр, dtype: int64"
            ]
          },
          "execution_count": 55,
          "metadata": {},
          "output_type": "execute_result"
        }
      ],
      "source": [
        "# выведу типы дел, чтобы под них написать ф-цию расчета коэффициента\n",
        "data_cuted['Тип сокр'].value_counts()"
      ]
    },
    {
      "cell_type": "code",
      "execution_count": null,
      "id": "f4781935",
      "metadata": {
        "id": "f4781935"
      },
      "outputs": [],
      "source": [
        "# Коэф. одинаковые, но у стандартных дел свои сроки, у нест. - свои.\n",
        "def get_coef(row):\n",
        "    if row['Статус'] == 'Завершено':\n",
        "        if row['СТ/НСТ'] == 'СТ':                     # Блок Завершенные СТ\n",
        "            if row['Тип сокр'] == 'Банкротство РБ':\n",
        "                if row['Кол-во дней'] <= 60:\n",
        "                    return 1.5\n",
        "                if (row['Кол-во дней'] > 60) and (row['Кол-во дней'] <= 100):\n",
        "                    return 1\n",
        "                if (row['Кол-во дней'] > 100) and (row['Кол-во дней'] <= 220):\n",
        "                    return 0.3\n",
        "                if row['Кол-во дней'] > 220:\n",
        "                    return 0.7\n",
        "                \n",
        "            if row['Тип сокр'] == 'Банкротство МБ':\n",
        "                if row['Кол-во дней'] <= 80:\n",
        "                    return 1.5\n",
        "                if (row['Кол-во дней'] > 80) and (row['Кол-во дней'] <= 170):\n",
        "                    return 1\n",
        "                if (row['Кол-во дней'] > 170) and (row['Кол-во дней'] <= 290):\n",
        "                    return 0.3\n",
        "                if row['Кол-во дней'] > 290:\n",
        "                    return 0.7\n",
        "                \n",
        "            if row['Тип сокр'] == 'Взыскание МБ':\n",
        "                if row['Кол-во дней'] <= 160:\n",
        "                    return 1.5\n",
        "                if (row['Кол-во дней'] > 160) and (row['Кол-во дней'] <= 180):\n",
        "                    return 1\n",
        "                if (row['Кол-во дней'] > 180) and (row['Кол-во дней'] <= 300):\n",
        "                    return 0.3\n",
        "                if row['Кол-во дней'] > 300:\n",
        "                    return 0.7\n",
        "                \n",
        "            if row['Тип сокр'] == 'Взыскание РБ':\n",
        "                if row['Кол-во дней'] <= 160:\n",
        "                    return 1.5\n",
        "                if (row['Кол-во дней'] > 160) and (row['Кол-во дней'] <= 170):\n",
        "                    return 1\n",
        "                if (row['Кол-во дней'] > 170) and (row['Кол-во дней'] <= 290):\n",
        "                    return 0.3\n",
        "                if row['Кол-во дней'] > 290:\n",
        "                    return 0.7\n",
        "                \n",
        "        # Блок Завершенные НСТ\n",
        "        if row['Тип сокр'] == 'Банкротство РБ':\n",
        "                if row['Кол-во дней'] <= 60:\n",
        "                    return 1.5\n",
        "                if (row['Кол-во дней'] > 60) and (row['Кол-во дней'] <= 250):\n",
        "                    return 1\n",
        "                if (row['Кол-во дней'] > 250) and (row['Кол-во дней'] <= 370):\n",
        "                    return 0.3\n",
        "                if row['Кол-во дней'] > 370:\n",
        "                    return 0.7\n",
        "                \n",
        "        if row['Тип сокр'] == 'Банкротство МБ':\n",
        "            if row['Кол-во дней'] <= 80:\n",
        "                return 1.5\n",
        "            if (row['Кол-во дней'] > 80) and (row['Кол-во дней'] <= 390):\n",
        "                return 1\n",
        "            if (row['Кол-во дней'] > 390) and (row['Кол-во дней'] <= 510):\n",
        "                return 0.3\n",
        "            if row['Кол-во дней'] > 510:\n",
        "                return 0.7\n",
        "\n",
        "        if row['Тип сокр'] == 'Взыскание МБ':\n",
        "            if row['Кол-во дней'] <= 180:\n",
        "                return 1.5\n",
        "            if (row['Кол-во дней'] > 180) and (row['Кол-во дней'] <= 300):\n",
        "                return 1\n",
        "            if (row['Кол-во дней'] > 300) and (row['Кол-во дней'] <= 420):\n",
        "                return 0.3\n",
        "            if row['Кол-во дней'] > 420:\n",
        "                return 0.7\n",
        "\n",
        "        if row['Тип сокр'] == 'Взыскание РБ':\n",
        "            if row['Кол-во дней'] <= 160:\n",
        "                return 1.5\n",
        "            if (row['Кол-во дней'] > 160) and (row['Кол-во дней'] <= 270):\n",
        "                return 1\n",
        "            if (row['Кол-во дней'] > 270) and (row['Кол-во дней'] <= 390):\n",
        "                return 0.3\n",
        "            if row['Кол-во дней'] > 390:\n",
        "                return 0.7\n",
        "                \n",
        "                \n",
        "    # пошел блок активных дел (не завершенные)\n",
        "    else:\n",
        "        if row['СТ/НСТ'] == 'СТ':                       # активные СТ\n",
        "            if row['Тип сокр'] == 'Банкротство РБ':\n",
        "                if row['Кол-во дней'] < 100:\n",
        "                    return 0\n",
        "                if row['Кол-во дней'] > 100:\n",
        "                    if (row['Кол-во дней'] >= 190) and (row['Кол-во дней'] <= 220):      \n",
        "                        return 0\n",
        "                    return 1\n",
        "                    \n",
        "                \n",
        "            if row['Тип сокр'] == 'Банкротство МБ':\n",
        "                if row['Кол-во дней'] < 170:\n",
        "                    return 0\n",
        "                if row['Кол-во дней'] > 170:\n",
        "                    if (row['Кол-во дней'] >= 260) and (row['Кол-во дней'] <= 290):       \n",
        "                        return 0\n",
        "                    return 1\n",
        "                \n",
        "            if row['Тип сокр'] == 'Взыскание МБ':\n",
        "                if row['Кол-во дней'] < 180:\n",
        "                    return 0\n",
        "                if row['Кол-во дней'] > 180:\n",
        "                    if (row['Кол-во дней'] >= 270) and (row['Кол-во дней'] <= 300):       \n",
        "                        return 0\n",
        "                    return 1\n",
        "                \n",
        "            if row['Тип сокр'] == 'Взыскание РБ':\n",
        "                if row['Кол-во дней'] < 170:\n",
        "                    return 0\n",
        "                if row['Кол-во дней'] > 170:\n",
        "                    if (row['Кол-во дней'] >= 260) and (row['Кол-во дней'] <= 290):      \n",
        "                        return 0\n",
        "                    return 1\n",
        "                \n",
        "        # пошел блок активных НСТ\n",
        "        if row['Тип сокр'] == 'Банкротство РБ':\n",
        "                if row['Кол-во дней'] < 250:\n",
        "                    return 0\n",
        "                if row['Кол-во дней'] >= 250:\n",
        "                    if (row['Кол-во дней'] >= 340) and (row['Кол-во дней'] <= 370):       \n",
        "                        return 0\n",
        "                    return 1   \n",
        "                \n",
        "        if row['Тип сокр'] == 'Банкротство МБ':\n",
        "            if row['Кол-во дней'] < 390:\n",
        "                return 0\n",
        "            if row['Кол-во дней'] >= 390:\n",
        "                if (row['Кол-во дней'] >= 480) and (row['Кол-во дней'] <= 510):       \n",
        "                    return 0\n",
        "                return 1\n",
        "\n",
        "        if row['Тип сокр'] == 'Взыскание МБ':\n",
        "            if row['Кол-во дней'] < 300:\n",
        "                return 0\n",
        "            if row['Кол-во дней'] >= 300:\n",
        "                if (row['Кол-во дней'] >= 390) and (row['Кол-во дней'] <= 420):       \n",
        "                    return 0\n",
        "                return 1\n",
        "\n",
        "        if row['Тип сокр'] == 'Взыскание РБ':\n",
        "            if row['Кол-во дней'] < 270:\n",
        "                return 0\n",
        "            if row['Кол-во дней'] >= 270:\n",
        "                if (row['Кол-во дней'] >= 360) and (row['Кол-во дней'] <= 390):      \n",
        "                    return 0\n",
        "                return 1\n",
        "            \n",
        "data_cuted['Коэф'] = data_cuted.apply(get_coef, axis=1)"
      ]
    },
    {
      "cell_type": "markdown",
      "id": "602989b6",
      "metadata": {
        "id": "602989b6"
      },
      "source": [
        "__Помним что ранее учтенные дела не подлежат учету в СМОТ текущего квартала.__\n",
        "\n",
        "Обнуляем коэф. по этим делам:"
      ]
    },
    {
      "cell_type": "code",
      "execution_count": null,
      "id": "08daaed8",
      "metadata": {
        "id": "08daaed8"
      },
      "outputs": [],
      "source": [
        "data_cuted['Учтен'] = data_cuted['Учтен'].convert_dtypes()"
      ]
    },
    {
      "cell_type": "code",
      "execution_count": null,
      "id": "cf01a3bd",
      "metadata": {
        "id": "cf01a3bd",
        "outputId": "d0f13979-4584-43d0-e139-9f0011c564dc"
      },
      "outputs": [
        {
          "data": {
            "text/plain": [
              "3 квартал 2021        7\n",
              "4 квартал 2020        4\n",
              "основное дело у ЮД    3\n",
              "3 квартал 2019        2\n",
              "2 квартал 2019        1\n",
              "3 квартал 2022        1\n",
              "4 квартал 2019        1\n",
              "Name: Учтен, dtype: Int64"
            ]
          },
          "execution_count": 58,
          "metadata": {},
          "output_type": "execute_result"
        }
      ],
      "source": [
        "data_cuted['Учтен'].value_counts()"
      ]
    },
    {
      "cell_type": "code",
      "execution_count": null,
      "id": "7bb48d03",
      "metadata": {
        "id": "7bb48d03"
      },
      "outputs": [],
      "source": [
        "# ф-ция обнуления коэф. по учтеным ранее делам\n",
        "def check_early_doned(row):\n",
        "    if type(row['Учтен']) == str:   # проверяю по типу данных, т.к. если не заполнено, то будет 0, а это цифра\n",
        "        return 0\n",
        "    return row['Коэф']\n",
        "               \n",
        "data_cuted['Коэф'] = data_cuted.apply(check_early_doned, axis=1)"
      ]
    },
    {
      "cell_type": "code",
      "execution_count": null,
      "id": "66f754b0",
      "metadata": {
        "id": "66f754b0",
        "outputId": "bdcea42a-d9d8-453f-ef64-e4c06d654e05"
      },
      "outputs": [
        {
          "data": {
            "text/html": [
              "<div>\n",
              "<style scoped>\n",
              "    .dataframe tbody tr th:only-of-type {\n",
              "        vertical-align: middle;\n",
              "    }\n",
              "\n",
              "    .dataframe tbody tr th {\n",
              "        vertical-align: top;\n",
              "    }\n",
              "\n",
              "    .dataframe thead th {\n",
              "        text-align: right;\n",
              "    }\n",
              "</style>\n",
              "<table border=\"1\" class=\"dataframe\">\n",
              "  <thead>\n",
              "    <tr style=\"text-align: right;\">\n",
              "      <th></th>\n",
              "      <th>Номер по SIEBEL</th>\n",
              "      <th>РОО</th>\n",
              "      <th>Статус</th>\n",
              "      <th>Сумма заявленных требований</th>\n",
              "      <th>Сумма взыскания по решению суда</th>\n",
              "      <th>Дата создания</th>\n",
              "      <th>Дата конца</th>\n",
              "      <th>Комментарии</th>\n",
              "      <th>Дата закрытия</th>\n",
              "      <th>Учтен</th>\n",
              "      <th>Кол-во дней</th>\n",
              "      <th>Коэф</th>\n",
              "      <th>СТ/НСТ</th>\n",
              "      <th>Статус активности нст</th>\n",
              "      <th>Тип сокр</th>\n",
              "      <th>Общая сумма ПЗ по ОД</th>\n",
              "      <th>Сумма просроченных процентов</th>\n",
              "      <th>Факт</th>\n",
              "      <th>План</th>\n",
              "    </tr>\n",
              "  </thead>\n",
              "  <tbody>\n",
              "    <tr>\n",
              "      <th>276</th>\n",
              "      <td>1-2921632422</td>\n",
              "      <td>Краснодар</td>\n",
              "      <td>В работе</td>\n",
              "      <td>8176283.11</td>\n",
              "      <td>1486753.05</td>\n",
              "      <td>2022-10-10</td>\n",
              "      <td>2023-03-31</td>\n",
              "      <td>Подан иск по трем к/д, дело не назначено на 25...</td>\n",
              "      <td>NaT</td>\n",
              "      <td>3 квартал 2021</td>\n",
              "      <td>172</td>\n",
              "      <td>0.0</td>\n",
              "      <td>СТ</td>\n",
              "      <td>NaN</td>\n",
              "      <td>Взыскание МБ</td>\n",
              "      <td>0.00</td>\n",
              "      <td>0.0</td>\n",
              "      <td>None</td>\n",
              "      <td>None</td>\n",
              "    </tr>\n",
              "    <tr>\n",
              "      <th>305</th>\n",
              "      <td>1-2921632433</td>\n",
              "      <td>Краснодар</td>\n",
              "      <td>В работе</td>\n",
              "      <td>17888861.65</td>\n",
              "      <td>0.00</td>\n",
              "      <td>2022-10-10</td>\n",
              "      <td>2023-03-31</td>\n",
              "      <td>Иск подан по трем КД, дело не назначено на 25....</td>\n",
              "      <td>NaT</td>\n",
              "      <td>3 квартал 2021</td>\n",
              "      <td>172</td>\n",
              "      <td>0.0</td>\n",
              "      <td>СТ</td>\n",
              "      <td>NaN</td>\n",
              "      <td>Взыскание МБ</td>\n",
              "      <td>0.00</td>\n",
              "      <td>0.0</td>\n",
              "      <td>None</td>\n",
              "      <td>None</td>\n",
              "    </tr>\n",
              "    <tr>\n",
              "      <th>306</th>\n",
              "      <td>1-2921632445</td>\n",
              "      <td>Краснодар</td>\n",
              "      <td>В работе</td>\n",
              "      <td>3675434.56</td>\n",
              "      <td>0.00</td>\n",
              "      <td>2022-10-10</td>\n",
              "      <td>2023-03-31</td>\n",
              "      <td>Иск подан по трем КД, дело не назначено на 25....</td>\n",
              "      <td>NaT</td>\n",
              "      <td>3 квартал 2021</td>\n",
              "      <td>172</td>\n",
              "      <td>0.0</td>\n",
              "      <td>СТ</td>\n",
              "      <td>NaN</td>\n",
              "      <td>Взыскание МБ</td>\n",
              "      <td>0.00</td>\n",
              "      <td>0.0</td>\n",
              "      <td>None</td>\n",
              "      <td>None</td>\n",
              "    </tr>\n",
              "    <tr>\n",
              "      <th>839</th>\n",
              "      <td>1-2138028794</td>\n",
              "      <td>Краснодар</td>\n",
              "      <td>В работе</td>\n",
              "      <td>2247091.81</td>\n",
              "      <td>2247091.81</td>\n",
              "      <td>2021-12-28</td>\n",
              "      <td>2023-03-31</td>\n",
              "      <td>иск направлен 10.01 с/з 09.02, 09.03 возражени...</td>\n",
              "      <td>2022-08-10</td>\n",
              "      <td>3 квартал 2021</td>\n",
              "      <td>458</td>\n",
              "      <td>0.0</td>\n",
              "      <td>НСТ</td>\n",
              "      <td>Завершено</td>\n",
              "      <td>Взыскание МБ</td>\n",
              "      <td>6270554.37</td>\n",
              "      <td>711908.4</td>\n",
              "      <td>None</td>\n",
              "      <td>None</td>\n",
              "    </tr>\n",
              "    <tr>\n",
              "      <th>840</th>\n",
              "      <td>1-2138028794</td>\n",
              "      <td>Краснодар</td>\n",
              "      <td>В работе</td>\n",
              "      <td>2247091.81</td>\n",
              "      <td>2247091.81</td>\n",
              "      <td>2021-12-28</td>\n",
              "      <td>2023-03-31</td>\n",
              "      <td>иск направлен 10.01 с/з 09.02, 09.03 возражени...</td>\n",
              "      <td>2022-08-10</td>\n",
              "      <td>3 квартал 2021</td>\n",
              "      <td>458</td>\n",
              "      <td>0.0</td>\n",
              "      <td>НСТ</td>\n",
              "      <td>Завершено</td>\n",
              "      <td>Взыскание МБ</td>\n",
              "      <td>6270554.37</td>\n",
              "      <td>711908.4</td>\n",
              "      <td>None</td>\n",
              "      <td>None</td>\n",
              "    </tr>\n",
              "    <tr>\n",
              "      <th>841</th>\n",
              "      <td>1-2138028806</td>\n",
              "      <td>Краснодар</td>\n",
              "      <td>В работе</td>\n",
              "      <td>635509.83</td>\n",
              "      <td>635509.83</td>\n",
              "      <td>2021-12-28</td>\n",
              "      <td>2023-03-31</td>\n",
              "      <td>иск направлен 10.01 с/з 09.02, 09.03 возражени...</td>\n",
              "      <td>2022-08-10</td>\n",
              "      <td>3 квартал 2021</td>\n",
              "      <td>458</td>\n",
              "      <td>0.0</td>\n",
              "      <td>НСТ</td>\n",
              "      <td>Завершено</td>\n",
              "      <td>Взыскание МБ</td>\n",
              "      <td>1520059.55</td>\n",
              "      <td>194033.9</td>\n",
              "      <td>None</td>\n",
              "      <td>None</td>\n",
              "    </tr>\n",
              "    <tr>\n",
              "      <th>842</th>\n",
              "      <td>1-2138028806</td>\n",
              "      <td>Краснодар</td>\n",
              "      <td>В работе</td>\n",
              "      <td>635509.83</td>\n",
              "      <td>635509.83</td>\n",
              "      <td>2021-12-28</td>\n",
              "      <td>2023-03-31</td>\n",
              "      <td>иск направлен 10.01 с/з 09.02, 09.03 возражени...</td>\n",
              "      <td>2022-08-10</td>\n",
              "      <td>3 квартал 2021</td>\n",
              "      <td>458</td>\n",
              "      <td>0.0</td>\n",
              "      <td>НСТ</td>\n",
              "      <td>Завершено</td>\n",
              "      <td>Взыскание МБ</td>\n",
              "      <td>1520059.55</td>\n",
              "      <td>194033.9</td>\n",
              "      <td>None</td>\n",
              "      <td>None</td>\n",
              "    </tr>\n",
              "  </tbody>\n",
              "</table>\n",
              "</div>"
            ],
            "text/plain": [
              "    Номер по SIEBEL        РОО    Статус  Сумма заявленных требований  \\\n",
              "276    1-2921632422  Краснодар  В работе                   8176283.11   \n",
              "305    1-2921632433  Краснодар  В работе                  17888861.65   \n",
              "306    1-2921632445  Краснодар  В работе                   3675434.56   \n",
              "839    1-2138028794  Краснодар  В работе                   2247091.81   \n",
              "840    1-2138028794  Краснодар  В работе                   2247091.81   \n",
              "841    1-2138028806  Краснодар  В работе                    635509.83   \n",
              "842    1-2138028806  Краснодар  В работе                    635509.83   \n",
              "\n",
              "     Сумма взыскания по решению суда Дата создания  Дата конца  \\\n",
              "276                       1486753.05    2022-10-10  2023-03-31   \n",
              "305                             0.00    2022-10-10  2023-03-31   \n",
              "306                             0.00    2022-10-10  2023-03-31   \n",
              "839                       2247091.81    2021-12-28  2023-03-31   \n",
              "840                       2247091.81    2021-12-28  2023-03-31   \n",
              "841                        635509.83    2021-12-28  2023-03-31   \n",
              "842                        635509.83    2021-12-28  2023-03-31   \n",
              "\n",
              "                                           Комментарии Дата закрытия  \\\n",
              "276  Подан иск по трем к/д, дело не назначено на 25...           NaT   \n",
              "305  Иск подан по трем КД, дело не назначено на 25....           NaT   \n",
              "306  Иск подан по трем КД, дело не назначено на 25....           NaT   \n",
              "839  иск направлен 10.01 с/з 09.02, 09.03 возражени...    2022-08-10   \n",
              "840  иск направлен 10.01 с/з 09.02, 09.03 возражени...    2022-08-10   \n",
              "841  иск направлен 10.01 с/з 09.02, 09.03 возражени...    2022-08-10   \n",
              "842  иск направлен 10.01 с/з 09.02, 09.03 возражени...    2022-08-10   \n",
              "\n",
              "              Учтен  Кол-во дней  Коэф СТ/НСТ Статус активности нст  \\\n",
              "276  3 квартал 2021          172   0.0     СТ                   NaN   \n",
              "305  3 квартал 2021          172   0.0     СТ                   NaN   \n",
              "306  3 квартал 2021          172   0.0     СТ                   NaN   \n",
              "839  3 квартал 2021          458   0.0    НСТ             Завершено   \n",
              "840  3 квартал 2021          458   0.0    НСТ             Завершено   \n",
              "841  3 квартал 2021          458   0.0    НСТ             Завершено   \n",
              "842  3 квартал 2021          458   0.0    НСТ             Завершено   \n",
              "\n",
              "         Тип сокр  Общая сумма ПЗ по ОД  Сумма просроченных процентов  Факт  \\\n",
              "276  Взыскание МБ                  0.00                           0.0  None   \n",
              "305  Взыскание МБ                  0.00                           0.0  None   \n",
              "306  Взыскание МБ                  0.00                           0.0  None   \n",
              "839  Взыскание МБ            6270554.37                      711908.4  None   \n",
              "840  Взыскание МБ            6270554.37                      711908.4  None   \n",
              "841  Взыскание МБ            1520059.55                      194033.9  None   \n",
              "842  Взыскание МБ            1520059.55                      194033.9  None   \n",
              "\n",
              "     План  \n",
              "276  None  \n",
              "305  None  \n",
              "306  None  \n",
              "839  None  \n",
              "840  None  \n",
              "841  None  \n",
              "842  None  "
            ]
          },
          "execution_count": 60,
          "metadata": {},
          "output_type": "execute_result"
        }
      ],
      "source": [
        "# проверям, должно быть 0 в коэф и наличие инф. об учете в поле Учтен\n",
        "data_cuted.loc[data_cuted['Учтен'] == '3 квартал 2021']"
      ]
    },
    {
      "cell_type": "code",
      "execution_count": null,
      "id": "8db5d9bc",
      "metadata": {
        "id": "8db5d9bc",
        "outputId": "e1f7cae0-b522-4e14-eb15-6652b627acff"
      },
      "outputs": [
        {
          "data": {
            "text/plain": [
              "0.0    641\n",
              "1.0    359\n",
              "1.5    154\n",
              "0.3     50\n",
              "0.7      1\n",
              "Name: Коэф, dtype: int64"
            ]
          },
          "execution_count": 61,
          "metadata": {},
          "output_type": "execute_result"
        }
      ],
      "source": [
        "# в колонке Коэф. все корректно\n",
        "data_cuted['Коэф'].value_counts()"
      ]
    },
    {
      "cell_type": "markdown",
      "id": "5ba766f1",
      "metadata": {
        "id": "5ba766f1"
      },
      "source": [
        "__Осталось занулить коэф по делам только об обращении взыскания на залог после ИНН:__\n",
        "\n",
        "Это тоже особенность СМОТирования. <br>\n",
        "В поле Комментарии содержатся в т.ч. Маркеры, которые заполняются ответственными, и по делам об обращении взыскания на залог после ИНН содержится маркер \"обращение на залог после ИНН\"."
      ]
    },
    {
      "cell_type": "code",
      "execution_count": null,
      "id": "c89a74b3",
      "metadata": {
        "id": "c89a74b3",
        "outputId": "20748804-a0b4-4e27-d12e-ee57bba1713e"
      },
      "outputs": [
        {
          "data": {
            "text/plain": [
              "0    Иск.Наследники. Иск направлен в суд - 19.10.20...\n",
              "1    Иск. Наследники. Исковое заявление напр. в суд...\n",
              "2    Иск.Наследники. Исковое заявление напр. в суд ...\n",
              "Name: Комментарии, dtype: string"
            ]
          },
          "execution_count": 66,
          "metadata": {},
          "output_type": "execute_result"
        }
      ],
      "source": [
        "data_cuted['Комментарии'] = data_cuted['Комментарии'].convert_dtypes()\n",
        "data_cuted['Комментарии'][0:3]"
      ]
    },
    {
      "cell_type": "code",
      "execution_count": null,
      "id": "bdf5f15a",
      "metadata": {
        "id": "bdf5f15a"
      },
      "outputs": [],
      "source": [
        "# ищу вхождение части маркера в поле Комментарии\n",
        "search_to = 'залог после'\n",
        "\n",
        "indx_serched = data_cuted[data_cuted[\"Комментарии\"].str.contains(search_to)].index\n",
        "\n",
        "for indx in indx_serched:\n",
        "    data_cuted.loc[indx, 'Коэф'] = 0"
      ]
    },
    {
      "cell_type": "code",
      "execution_count": null,
      "id": "54f5a01b",
      "metadata": {
        "id": "54f5a01b",
        "outputId": "f2620887-34f7-42d0-d588-8cd76186abfc"
      },
      "outputs": [
        {
          "data": {
            "text/plain": [
              "0.0    685\n",
              "1.0    332\n",
              "1.5    139\n",
              "0.3     48\n",
              "0.7      1\n",
              "Name: Коэф, dtype: int64"
            ]
          },
          "execution_count": 68,
          "metadata": {},
          "output_type": "execute_result"
        }
      ],
      "source": [
        "data_cuted['Коэф'].value_counts()"
      ]
    },
    {
      "cell_type": "markdown",
      "id": "4b722483",
      "metadata": {
        "id": "4b722483"
      },
      "source": [
        "Видим изменения в кол-ве дел по коэффициентам.\n",
        "\n",
        "Переходим в финальной части."
      ]
    },
    {
      "cell_type": "markdown",
      "id": "fd7d74ff",
      "metadata": {
        "id": "fd7d74ff"
      },
      "source": [
        "## Вычисляем факт и план:"
      ]
    },
    {
      "cell_type": "code",
      "execution_count": null,
      "id": "64768fb3",
      "metadata": {
        "id": "64768fb3"
      },
      "outputs": [],
      "source": [
        "def compute_fact(row):\n",
        "    if row['Статус'] == 'Завершено':\n",
        "        sum_in_fact = row['Коэф'] * row['Сумма взыскания по решению суда']\n",
        "        return sum_in_fact\n",
        "\n",
        "def compute_plan(row):\n",
        "    if row['Статус'] == 'Завершено':\n",
        "        \n",
        "        if (row['Коэф'] == 1) or(row['Коэф'] == 0.7):\n",
        "            \n",
        "            # по банкротам сразу заявл. требования будем тянуть\n",
        "            if (row['Тип сокр'] == 'Банкротство РБ') or (row['Тип сокр'] == 'Банкротство МБ'):\n",
        "                return row['Сумма заявленных требований']\n",
        "            \n",
        "            # по не банкротам суммируем ОД и %\n",
        "            result = row['Общая сумма ПЗ по ОД'] + row['Сумма просроченных процентов']\n",
        "            if result == 0:\n",
        "                result = row['Сумма заявленных требований']\n",
        "            \n",
        "            return result\n",
        "    \n",
        "    # блок по не завершенным делам (активным)\n",
        "    else:\n",
        "        if row['Коэф'] == 1:\n",
        "            if (row['Тип сокр'] == 'Банкротство РБ') or (row['Тип сокр'] == 'Банкротство МБ'):\n",
        "                return row['Сумма заявленных требований']\n",
        "            \n",
        "            # по не банкротам\n",
        "            result = row['Общая сумма ПЗ по ОД'] + row['Сумма просроченных процентов']\n",
        "            if result == 0:\n",
        "                result = row['Сумма заявленных требований']\n",
        "            \n",
        "            return result\n",
        "\n",
        "data_cuted['План'] = data_cuted.apply(compute_plan, axis=1)\n",
        "data_cuted['Факт'] = data_cuted.apply(compute_fact, axis=1)"
      ]
    },
    {
      "cell_type": "code",
      "execution_count": null,
      "id": "d06ccf1f",
      "metadata": {
        "id": "d06ccf1f"
      },
      "outputs": [],
      "source": [
        "# РАЗОБРАТЬСЯ ПОЗЖЕ ОТКУДА ПОЯВЛЯЮТСЯ ДУБЛИКАТЫ \n",
        "data_cuted.drop_duplicates(keep='first',inplace=True)"
      ]
    },
    {
      "cell_type": "markdown",
      "id": "75c25f14",
      "metadata": {
        "id": "75c25f14"
      },
      "source": [
        "## Формируем таблицу  result_table:"
      ]
    },
    {
      "cell_type": "code",
      "execution_count": null,
      "id": "56a9cb5b",
      "metadata": {
        "id": "56a9cb5b"
      },
      "outputs": [],
      "source": [
        "plan = pd.pivot_table(data_cuted, values='План', index=['РОО'], columns=['Тип сокр'], aggfunc=np.sum)\n",
        "\n",
        "fact = pd.pivot_table(data_cuted, values='Факт', index=['РОО'], columns=['Тип сокр'], aggfunc=np.sum)"
      ]
    },
    {
      "cell_type": "code",
      "execution_count": null,
      "id": "6bdf84e2",
      "metadata": {
        "id": "6bdf84e2",
        "outputId": "b29f09a9-145f-4681-b8d2-db841dadab83"
      },
      "outputs": [
        {
          "data": {
            "text/html": [
              "<div>\n",
              "<style scoped>\n",
              "    .dataframe tbody tr th:only-of-type {\n",
              "        vertical-align: middle;\n",
              "    }\n",
              "\n",
              "    .dataframe tbody tr th {\n",
              "        vertical-align: top;\n",
              "    }\n",
              "\n",
              "    .dataframe thead th {\n",
              "        text-align: right;\n",
              "    }\n",
              "</style>\n",
              "<table border=\"1\" class=\"dataframe\">\n",
              "  <thead>\n",
              "    <tr style=\"text-align: right;\">\n",
              "      <th>Тип сокр</th>\n",
              "      <th>Банкротство МБ</th>\n",
              "      <th>Банкротство РБ</th>\n",
              "      <th>Взыскание МБ</th>\n",
              "      <th>Взыскание РБ</th>\n",
              "    </tr>\n",
              "    <tr>\n",
              "      <th>РОО</th>\n",
              "      <th></th>\n",
              "      <th></th>\n",
              "      <th></th>\n",
              "      <th></th>\n",
              "    </tr>\n",
              "  </thead>\n",
              "  <tbody>\n",
              "    <tr>\n",
              "      <th>Волгоград</th>\n",
              "      <td>0.00</td>\n",
              "      <td>28366471.75</td>\n",
              "      <td>519371.15</td>\n",
              "      <td>4770735.62</td>\n",
              "    </tr>\n",
              "    <tr>\n",
              "      <th>Краснодар</th>\n",
              "      <td>97149862.23</td>\n",
              "      <td>53908823.25</td>\n",
              "      <td>6009620.63</td>\n",
              "      <td>16328494.07</td>\n",
              "    </tr>\n",
              "    <tr>\n",
              "      <th>Нальчик</th>\n",
              "      <td>1890182.18</td>\n",
              "      <td>21865480.47</td>\n",
              "      <td>NaN</td>\n",
              "      <td>4316070.26</td>\n",
              "    </tr>\n",
              "    <tr>\n",
              "      <th>Ростов</th>\n",
              "      <td>20841642.11</td>\n",
              "      <td>77662151.06</td>\n",
              "      <td>15105167.72</td>\n",
              "      <td>4201412.65</td>\n",
              "    </tr>\n",
              "    <tr>\n",
              "      <th>Ставрополь</th>\n",
              "      <td>NaN</td>\n",
              "      <td>5326736.08</td>\n",
              "      <td>3524417.50</td>\n",
              "      <td>1662527.41</td>\n",
              "    </tr>\n",
              "  </tbody>\n",
              "</table>\n",
              "</div>"
            ],
            "text/plain": [
              "Тип сокр    Банкротство МБ  Банкротство РБ  Взыскание МБ  Взыскание РБ\n",
              "РОО                                                                   \n",
              "Волгоград             0.00     28366471.75     519371.15    4770735.62\n",
              "Краснодар      97149862.23     53908823.25    6009620.63   16328494.07\n",
              "Нальчик         1890182.18     21865480.47           NaN    4316070.26\n",
              "Ростов         20841642.11     77662151.06   15105167.72    4201412.65\n",
              "Ставрополь             NaN      5326736.08    3524417.50    1662527.41"
            ]
          },
          "execution_count": 73,
          "metadata": {},
          "output_type": "execute_result"
        }
      ],
      "source": [
        "plan"
      ]
    },
    {
      "cell_type": "code",
      "execution_count": null,
      "id": "ae82eff6",
      "metadata": {
        "id": "ae82eff6",
        "outputId": "d6e0947b-b4ab-4aa0-8c60-2f8ee9a322ec"
      },
      "outputs": [
        {
          "data": {
            "text/html": [
              "<div>\n",
              "<style scoped>\n",
              "    .dataframe tbody tr th:only-of-type {\n",
              "        vertical-align: middle;\n",
              "    }\n",
              "\n",
              "    .dataframe tbody tr th {\n",
              "        vertical-align: top;\n",
              "    }\n",
              "\n",
              "    .dataframe thead th {\n",
              "        text-align: right;\n",
              "    }\n",
              "</style>\n",
              "<table border=\"1\" class=\"dataframe\">\n",
              "  <thead>\n",
              "    <tr style=\"text-align: right;\">\n",
              "      <th>Тип сокр</th>\n",
              "      <th>Банкротство МБ</th>\n",
              "      <th>Банкротство РБ</th>\n",
              "      <th>Взыскание МБ</th>\n",
              "      <th>Взыскание РБ</th>\n",
              "    </tr>\n",
              "    <tr>\n",
              "      <th>РОО</th>\n",
              "      <th></th>\n",
              "      <th></th>\n",
              "      <th></th>\n",
              "      <th></th>\n",
              "    </tr>\n",
              "  </thead>\n",
              "  <tbody>\n",
              "    <tr>\n",
              "      <th>Волгоград</th>\n",
              "      <td>0.000</td>\n",
              "      <td>3.585302e+07</td>\n",
              "      <td>1903911.825</td>\n",
              "      <td>9355304.289</td>\n",
              "    </tr>\n",
              "    <tr>\n",
              "      <th>Краснодар</th>\n",
              "      <td>0.000</td>\n",
              "      <td>5.102533e+07</td>\n",
              "      <td>0.000</td>\n",
              "      <td>701116.536</td>\n",
              "    </tr>\n",
              "    <tr>\n",
              "      <th>Нальчик</th>\n",
              "      <td>0.000</td>\n",
              "      <td>2.984166e+07</td>\n",
              "      <td>NaN</td>\n",
              "      <td>3970965.267</td>\n",
              "    </tr>\n",
              "    <tr>\n",
              "      <th>Ростов</th>\n",
              "      <td>1976396.325</td>\n",
              "      <td>1.194121e+08</td>\n",
              "      <td>312285.345</td>\n",
              "      <td>0.000</td>\n",
              "    </tr>\n",
              "    <tr>\n",
              "      <th>Ставрополь</th>\n",
              "      <td>NaN</td>\n",
              "      <td>4.900104e+06</td>\n",
              "      <td>0.000</td>\n",
              "      <td>0.000</td>\n",
              "    </tr>\n",
              "  </tbody>\n",
              "</table>\n",
              "</div>"
            ],
            "text/plain": [
              "Тип сокр    Банкротство МБ  Банкротство РБ  Взыскание МБ  Взыскание РБ\n",
              "РОО                                                                   \n",
              "Волгоград            0.000    3.585302e+07   1903911.825   9355304.289\n",
              "Краснодар            0.000    5.102533e+07         0.000    701116.536\n",
              "Нальчик              0.000    2.984166e+07           NaN   3970965.267\n",
              "Ростов         1976396.325    1.194121e+08    312285.345         0.000\n",
              "Ставрополь             NaN    4.900104e+06         0.000         0.000"
            ]
          },
          "execution_count": 74,
          "metadata": {},
          "output_type": "execute_result"
        }
      ],
      "source": [
        "fact"
      ]
    },
    {
      "cell_type": "code",
      "execution_count": null,
      "id": "58ce87fa",
      "metadata": {
        "id": "58ce87fa",
        "outputId": "e7e4cf19-5882-456f-925e-5b3fb7375434"
      },
      "outputs": [
        {
          "data": {
            "text/html": [
              "<div>\n",
              "<style scoped>\n",
              "    .dataframe tbody tr th:only-of-type {\n",
              "        vertical-align: middle;\n",
              "    }\n",
              "\n",
              "    .dataframe tbody tr th {\n",
              "        vertical-align: top;\n",
              "    }\n",
              "\n",
              "    .dataframe thead th {\n",
              "        text-align: right;\n",
              "    }\n",
              "</style>\n",
              "<table border=\"1\" class=\"dataframe\">\n",
              "  <thead>\n",
              "    <tr style=\"text-align: right;\">\n",
              "      <th>Тип сокр</th>\n",
              "      <th>Банкротство МБ план</th>\n",
              "      <th>Банкротство РБ план</th>\n",
              "      <th>Взыскание МБ план</th>\n",
              "      <th>Взыскание РБ план</th>\n",
              "    </tr>\n",
              "    <tr>\n",
              "      <th>РОО</th>\n",
              "      <th></th>\n",
              "      <th></th>\n",
              "      <th></th>\n",
              "      <th></th>\n",
              "    </tr>\n",
              "  </thead>\n",
              "  <tbody>\n",
              "    <tr>\n",
              "      <th>Волгоград</th>\n",
              "      <td>0.00</td>\n",
              "      <td>28366471.75</td>\n",
              "      <td>519371.15</td>\n",
              "      <td>4770735.62</td>\n",
              "    </tr>\n",
              "    <tr>\n",
              "      <th>Краснодар</th>\n",
              "      <td>97149862.23</td>\n",
              "      <td>53908823.25</td>\n",
              "      <td>6009620.63</td>\n",
              "      <td>16328494.07</td>\n",
              "    </tr>\n",
              "    <tr>\n",
              "      <th>Нальчик</th>\n",
              "      <td>1890182.18</td>\n",
              "      <td>21865480.47</td>\n",
              "      <td>NaN</td>\n",
              "      <td>4316070.26</td>\n",
              "    </tr>\n",
              "    <tr>\n",
              "      <th>Ростов</th>\n",
              "      <td>20841642.11</td>\n",
              "      <td>77662151.06</td>\n",
              "      <td>15105167.72</td>\n",
              "      <td>4201412.65</td>\n",
              "    </tr>\n",
              "    <tr>\n",
              "      <th>Ставрополь</th>\n",
              "      <td>NaN</td>\n",
              "      <td>5326736.08</td>\n",
              "      <td>3524417.50</td>\n",
              "      <td>1662527.41</td>\n",
              "    </tr>\n",
              "  </tbody>\n",
              "</table>\n",
              "</div>"
            ],
            "text/plain": [
              "Тип сокр    Банкротство МБ план  Банкротство РБ план  Взыскание МБ план  \\\n",
              "РОО                                                                       \n",
              "Волгоград                  0.00          28366471.75          519371.15   \n",
              "Краснодар           97149862.23          53908823.25         6009620.63   \n",
              "Нальчик              1890182.18          21865480.47                NaN   \n",
              "Ростов              20841642.11          77662151.06        15105167.72   \n",
              "Ставрополь                  NaN           5326736.08         3524417.50   \n",
              "\n",
              "Тип сокр    Взыскание РБ план  \n",
              "РОО                            \n",
              "Волгоград          4770735.62  \n",
              "Краснодар         16328494.07  \n",
              "Нальчик            4316070.26  \n",
              "Ростов             4201412.65  \n",
              "Ставрополь         1662527.41  "
            ]
          },
          "execution_count": 75,
          "metadata": {},
          "output_type": "execute_result"
        }
      ],
      "source": [
        "for i in plan.columns:\n",
        "    plan.rename(columns={i : i + ' план'}, inplace=True)\n",
        "\n",
        "plan"
      ]
    },
    {
      "cell_type": "code",
      "execution_count": null,
      "id": "fec59d77",
      "metadata": {
        "id": "fec59d77",
        "outputId": "c4143109-0831-4983-873b-335ceab3fed8"
      },
      "outputs": [
        {
          "data": {
            "text/html": [
              "<div>\n",
              "<style scoped>\n",
              "    .dataframe tbody tr th:only-of-type {\n",
              "        vertical-align: middle;\n",
              "    }\n",
              "\n",
              "    .dataframe tbody tr th {\n",
              "        vertical-align: top;\n",
              "    }\n",
              "\n",
              "    .dataframe thead th {\n",
              "        text-align: right;\n",
              "    }\n",
              "</style>\n",
              "<table border=\"1\" class=\"dataframe\">\n",
              "  <thead>\n",
              "    <tr style=\"text-align: right;\">\n",
              "      <th>Тип сокр</th>\n",
              "      <th>Банкротство МБ факт</th>\n",
              "      <th>Банкротство РБ факт</th>\n",
              "      <th>Взыскание МБ факт</th>\n",
              "      <th>Взыскание РБ факт</th>\n",
              "    </tr>\n",
              "    <tr>\n",
              "      <th>РОО</th>\n",
              "      <th></th>\n",
              "      <th></th>\n",
              "      <th></th>\n",
              "      <th></th>\n",
              "    </tr>\n",
              "  </thead>\n",
              "  <tbody>\n",
              "    <tr>\n",
              "      <th>Волгоград</th>\n",
              "      <td>0.000</td>\n",
              "      <td>3.585302e+07</td>\n",
              "      <td>1903911.825</td>\n",
              "      <td>9355304.289</td>\n",
              "    </tr>\n",
              "    <tr>\n",
              "      <th>Краснодар</th>\n",
              "      <td>0.000</td>\n",
              "      <td>5.102533e+07</td>\n",
              "      <td>0.000</td>\n",
              "      <td>701116.536</td>\n",
              "    </tr>\n",
              "    <tr>\n",
              "      <th>Нальчик</th>\n",
              "      <td>0.000</td>\n",
              "      <td>2.984166e+07</td>\n",
              "      <td>NaN</td>\n",
              "      <td>3970965.267</td>\n",
              "    </tr>\n",
              "    <tr>\n",
              "      <th>Ростов</th>\n",
              "      <td>1976396.325</td>\n",
              "      <td>1.194121e+08</td>\n",
              "      <td>312285.345</td>\n",
              "      <td>0.000</td>\n",
              "    </tr>\n",
              "    <tr>\n",
              "      <th>Ставрополь</th>\n",
              "      <td>NaN</td>\n",
              "      <td>4.900104e+06</td>\n",
              "      <td>0.000</td>\n",
              "      <td>0.000</td>\n",
              "    </tr>\n",
              "  </tbody>\n",
              "</table>\n",
              "</div>"
            ],
            "text/plain": [
              "Тип сокр    Банкротство МБ факт  Банкротство РБ факт  Взыскание МБ факт  \\\n",
              "РОО                                                                       \n",
              "Волгоград                 0.000         3.585302e+07        1903911.825   \n",
              "Краснодар                 0.000         5.102533e+07              0.000   \n",
              "Нальчик                   0.000         2.984166e+07                NaN   \n",
              "Ростов              1976396.325         1.194121e+08         312285.345   \n",
              "Ставрополь                  NaN         4.900104e+06              0.000   \n",
              "\n",
              "Тип сокр    Взыскание РБ факт  \n",
              "РОО                            \n",
              "Волгоград         9355304.289  \n",
              "Краснодар          701116.536  \n",
              "Нальчик           3970965.267  \n",
              "Ростов                  0.000  \n",
              "Ставрополь              0.000  "
            ]
          },
          "execution_count": 76,
          "metadata": {},
          "output_type": "execute_result"
        }
      ],
      "source": [
        "for i in fact.columns:\n",
        "    fact.rename(columns={i : i + ' факт'}, inplace=True)\n",
        "\n",
        "fact"
      ]
    },
    {
      "cell_type": "code",
      "execution_count": null,
      "id": "7c7adb92",
      "metadata": {
        "id": "7c7adb92",
        "outputId": "a619d72f-315f-40f2-84b9-6e662bfdf47f"
      },
      "outputs": [
        {
          "data": {
            "text/html": [
              "<div>\n",
              "<style scoped>\n",
              "    .dataframe tbody tr th:only-of-type {\n",
              "        vertical-align: middle;\n",
              "    }\n",
              "\n",
              "    .dataframe tbody tr th {\n",
              "        vertical-align: top;\n",
              "    }\n",
              "\n",
              "    .dataframe thead th {\n",
              "        text-align: right;\n",
              "    }\n",
              "</style>\n",
              "<table border=\"1\" class=\"dataframe\">\n",
              "  <thead>\n",
              "    <tr style=\"text-align: right;\">\n",
              "      <th>Тип сокр</th>\n",
              "      <th>Банкротство МБ факт</th>\n",
              "      <th>Банкротство РБ факт</th>\n",
              "      <th>Взыскание МБ факт</th>\n",
              "      <th>Взыскание РБ факт</th>\n",
              "      <th>Банкротство МБ план</th>\n",
              "      <th>Банкротство РБ план</th>\n",
              "      <th>Взыскание МБ план</th>\n",
              "      <th>Взыскание РБ план</th>\n",
              "    </tr>\n",
              "    <tr>\n",
              "      <th>РОО</th>\n",
              "      <th></th>\n",
              "      <th></th>\n",
              "      <th></th>\n",
              "      <th></th>\n",
              "      <th></th>\n",
              "      <th></th>\n",
              "      <th></th>\n",
              "      <th></th>\n",
              "    </tr>\n",
              "  </thead>\n",
              "  <tbody>\n",
              "    <tr>\n",
              "      <th>Волгоград</th>\n",
              "      <td>0.000</td>\n",
              "      <td>3.585302e+07</td>\n",
              "      <td>1903911.825</td>\n",
              "      <td>9355304.289</td>\n",
              "      <td>0.00</td>\n",
              "      <td>28366471.75</td>\n",
              "      <td>519371.15</td>\n",
              "      <td>4770735.62</td>\n",
              "    </tr>\n",
              "    <tr>\n",
              "      <th>Краснодар</th>\n",
              "      <td>0.000</td>\n",
              "      <td>5.102533e+07</td>\n",
              "      <td>0.000</td>\n",
              "      <td>701116.536</td>\n",
              "      <td>97149862.23</td>\n",
              "      <td>53908823.25</td>\n",
              "      <td>6009620.63</td>\n",
              "      <td>16328494.07</td>\n",
              "    </tr>\n",
              "    <tr>\n",
              "      <th>Нальчик</th>\n",
              "      <td>0.000</td>\n",
              "      <td>2.984166e+07</td>\n",
              "      <td>NaN</td>\n",
              "      <td>3970965.267</td>\n",
              "      <td>1890182.18</td>\n",
              "      <td>21865480.47</td>\n",
              "      <td>NaN</td>\n",
              "      <td>4316070.26</td>\n",
              "    </tr>\n",
              "    <tr>\n",
              "      <th>Ростов</th>\n",
              "      <td>1976396.325</td>\n",
              "      <td>1.194121e+08</td>\n",
              "      <td>312285.345</td>\n",
              "      <td>0.000</td>\n",
              "      <td>20841642.11</td>\n",
              "      <td>77662151.06</td>\n",
              "      <td>15105167.72</td>\n",
              "      <td>4201412.65</td>\n",
              "    </tr>\n",
              "    <tr>\n",
              "      <th>Ставрополь</th>\n",
              "      <td>NaN</td>\n",
              "      <td>4.900104e+06</td>\n",
              "      <td>0.000</td>\n",
              "      <td>0.000</td>\n",
              "      <td>NaN</td>\n",
              "      <td>5326736.08</td>\n",
              "      <td>3524417.50</td>\n",
              "      <td>1662527.41</td>\n",
              "    </tr>\n",
              "  </tbody>\n",
              "</table>\n",
              "</div>"
            ],
            "text/plain": [
              "Тип сокр    Банкротство МБ факт  Банкротство РБ факт  Взыскание МБ факт  \\\n",
              "РОО                                                                       \n",
              "Волгоград                 0.000         3.585302e+07        1903911.825   \n",
              "Краснодар                 0.000         5.102533e+07              0.000   \n",
              "Нальчик                   0.000         2.984166e+07                NaN   \n",
              "Ростов              1976396.325         1.194121e+08         312285.345   \n",
              "Ставрополь                  NaN         4.900104e+06              0.000   \n",
              "\n",
              "Тип сокр    Взыскание РБ факт  Банкротство МБ план  Банкротство РБ план  \\\n",
              "РОО                                                                       \n",
              "Волгоград         9355304.289                 0.00          28366471.75   \n",
              "Краснодар          701116.536          97149862.23          53908823.25   \n",
              "Нальчик           3970965.267           1890182.18          21865480.47   \n",
              "Ростов                  0.000          20841642.11          77662151.06   \n",
              "Ставрополь              0.000                  NaN           5326736.08   \n",
              "\n",
              "Тип сокр    Взыскание МБ план  Взыскание РБ план  \n",
              "РОО                                               \n",
              "Волгоград           519371.15         4770735.62  \n",
              "Краснодар          6009620.63        16328494.07  \n",
              "Нальчик                   NaN         4316070.26  \n",
              "Ростов            15105167.72         4201412.65  \n",
              "Ставрополь         3524417.50         1662527.41  "
            ]
          },
          "execution_count": 77,
          "metadata": {},
          "output_type": "execute_result"
        }
      ],
      "source": [
        "fact = pd.merge(fact, plan,  on ='РОО', how ='left')\n",
        "fact"
      ]
    },
    {
      "cell_type": "code",
      "execution_count": null,
      "id": "b9302774",
      "metadata": {
        "id": "b9302774",
        "outputId": "43603634-7935-4090-aaa8-4bad404e8847"
      },
      "outputs": [
        {
          "data": {
            "text/html": [
              "<div>\n",
              "<style scoped>\n",
              "    .dataframe tbody tr th:only-of-type {\n",
              "        vertical-align: middle;\n",
              "    }\n",
              "\n",
              "    .dataframe tbody tr th {\n",
              "        vertical-align: top;\n",
              "    }\n",
              "\n",
              "    .dataframe thead th {\n",
              "        text-align: right;\n",
              "    }\n",
              "</style>\n",
              "<table border=\"1\" class=\"dataframe\">\n",
              "  <thead>\n",
              "    <tr style=\"text-align: right;\">\n",
              "      <th>Тип сокр</th>\n",
              "      <th>Банкротство МБ факт</th>\n",
              "      <th>Банкротство РБ факт</th>\n",
              "      <th>Взыскание МБ факт</th>\n",
              "      <th>Взыскание РБ факт</th>\n",
              "      <th>Банкротство МБ план</th>\n",
              "      <th>Банкротство РБ план</th>\n",
              "      <th>Взыскание МБ план</th>\n",
              "      <th>Взыскание РБ план</th>\n",
              "    </tr>\n",
              "    <tr>\n",
              "      <th>РОО</th>\n",
              "      <th></th>\n",
              "      <th></th>\n",
              "      <th></th>\n",
              "      <th></th>\n",
              "      <th></th>\n",
              "      <th></th>\n",
              "      <th></th>\n",
              "      <th></th>\n",
              "    </tr>\n",
              "  </thead>\n",
              "  <tbody>\n",
              "    <tr>\n",
              "      <th>Волгоград</th>\n",
              "      <td>0.000</td>\n",
              "      <td>3.585302e+07</td>\n",
              "      <td>1903911.825</td>\n",
              "      <td>9355304.289</td>\n",
              "      <td>0.00</td>\n",
              "      <td>28366471.75</td>\n",
              "      <td>519371.15</td>\n",
              "      <td>4770735.62</td>\n",
              "    </tr>\n",
              "    <tr>\n",
              "      <th>Краснодар</th>\n",
              "      <td>0.000</td>\n",
              "      <td>5.102533e+07</td>\n",
              "      <td>0.000</td>\n",
              "      <td>701116.536</td>\n",
              "      <td>97149862.23</td>\n",
              "      <td>53908823.25</td>\n",
              "      <td>6009620.63</td>\n",
              "      <td>16328494.07</td>\n",
              "    </tr>\n",
              "    <tr>\n",
              "      <th>Нальчик</th>\n",
              "      <td>0.000</td>\n",
              "      <td>2.984166e+07</td>\n",
              "      <td>0.000</td>\n",
              "      <td>3970965.267</td>\n",
              "      <td>1890182.18</td>\n",
              "      <td>21865480.47</td>\n",
              "      <td>0.00</td>\n",
              "      <td>4316070.26</td>\n",
              "    </tr>\n",
              "    <tr>\n",
              "      <th>Ростов</th>\n",
              "      <td>1976396.325</td>\n",
              "      <td>1.194121e+08</td>\n",
              "      <td>312285.345</td>\n",
              "      <td>0.000</td>\n",
              "      <td>20841642.11</td>\n",
              "      <td>77662151.06</td>\n",
              "      <td>15105167.72</td>\n",
              "      <td>4201412.65</td>\n",
              "    </tr>\n",
              "    <tr>\n",
              "      <th>Ставрополь</th>\n",
              "      <td>0.000</td>\n",
              "      <td>4.900104e+06</td>\n",
              "      <td>0.000</td>\n",
              "      <td>0.000</td>\n",
              "      <td>0.00</td>\n",
              "      <td>5326736.08</td>\n",
              "      <td>3524417.50</td>\n",
              "      <td>1662527.41</td>\n",
              "    </tr>\n",
              "  </tbody>\n",
              "</table>\n",
              "</div>"
            ],
            "text/plain": [
              "Тип сокр    Банкротство МБ факт  Банкротство РБ факт  Взыскание МБ факт  \\\n",
              "РОО                                                                       \n",
              "Волгоград                 0.000         3.585302e+07        1903911.825   \n",
              "Краснодар                 0.000         5.102533e+07              0.000   \n",
              "Нальчик                   0.000         2.984166e+07              0.000   \n",
              "Ростов              1976396.325         1.194121e+08         312285.345   \n",
              "Ставрополь                0.000         4.900104e+06              0.000   \n",
              "\n",
              "Тип сокр    Взыскание РБ факт  Банкротство МБ план  Банкротство РБ план  \\\n",
              "РОО                                                                       \n",
              "Волгоград         9355304.289                 0.00          28366471.75   \n",
              "Краснодар          701116.536          97149862.23          53908823.25   \n",
              "Нальчик           3970965.267           1890182.18          21865480.47   \n",
              "Ростов                  0.000          20841642.11          77662151.06   \n",
              "Ставрополь              0.000                 0.00           5326736.08   \n",
              "\n",
              "Тип сокр    Взыскание МБ план  Взыскание РБ план  \n",
              "РОО                                               \n",
              "Волгоград           519371.15         4770735.62  \n",
              "Краснодар          6009620.63        16328494.07  \n",
              "Нальчик                  0.00         4316070.26  \n",
              "Ростов            15105167.72         4201412.65  \n",
              "Ставрополь         3524417.50         1662527.41  "
            ]
          },
          "execution_count": 78,
          "metadata": {},
          "output_type": "execute_result"
        }
      ],
      "source": [
        "fact.fillna(0, inplace=True) \n",
        "fact"
      ]
    },
    {
      "cell_type": "code",
      "execution_count": null,
      "id": "907057ad",
      "metadata": {
        "id": "907057ad",
        "outputId": "5b9c7da7-f463-45eb-a3c5-2e4327dd77a9"
      },
      "outputs": [
        {
          "name": "stdout",
          "output_type": "stream",
          "text": [
            "<class 'pandas.core.frame.DataFrame'>\n",
            "Index: 5 entries, Волгоград to Ставрополь\n",
            "Data columns (total 8 columns):\n",
            " #   Column               Non-Null Count  Dtype  \n",
            "---  ------               --------------  -----  \n",
            " 0   Банкротство МБ факт  5 non-null      float64\n",
            " 1   Банкротство РБ факт  5 non-null      float64\n",
            " 2   Взыскание МБ факт    5 non-null      float64\n",
            " 3   Взыскание РБ факт    5 non-null      float64\n",
            " 4   Банкротство МБ план  5 non-null      float64\n",
            " 5   Банкротство РБ план  5 non-null      float64\n",
            " 6   Взыскание МБ план    5 non-null      float64\n",
            " 7   Взыскание РБ план    5 non-null      float64\n",
            "dtypes: float64(8)\n",
            "memory usage: 360.0+ bytes\n"
          ]
        }
      ],
      "source": [
        "fact.info()"
      ]
    },
    {
      "cell_type": "code",
      "execution_count": null,
      "id": "c8bd6b4f",
      "metadata": {
        "id": "c8bd6b4f",
        "outputId": "cea5d20b-fed8-4f6f-fb13-d72c37c090d4"
      },
      "outputs": [
        {
          "data": {
            "text/html": [
              "<div>\n",
              "<style scoped>\n",
              "    .dataframe tbody tr th:only-of-type {\n",
              "        vertical-align: middle;\n",
              "    }\n",
              "\n",
              "    .dataframe tbody tr th {\n",
              "        vertical-align: top;\n",
              "    }\n",
              "\n",
              "    .dataframe thead th {\n",
              "        text-align: right;\n",
              "    }\n",
              "</style>\n",
              "<table border=\"1\" class=\"dataframe\">\n",
              "  <thead>\n",
              "    <tr style=\"text-align: right;\">\n",
              "      <th>Тип сокр</th>\n",
              "      <th>Банкротство МБ факт</th>\n",
              "      <th>Банкротство МБ план</th>\n",
              "      <th>% Банкротство МБ</th>\n",
              "      <th>Банкротство РБ факт</th>\n",
              "      <th>Банкротство РБ план</th>\n",
              "      <th>% Банкротство РБ</th>\n",
              "      <th>Взыскание МБ факт</th>\n",
              "      <th>Взыскание МБ план</th>\n",
              "      <th>% Взыскание МБ</th>\n",
              "      <th>Взыскание РБ факт</th>\n",
              "      <th>Взыскание РБ план</th>\n",
              "      <th>% Взыскание РБ</th>\n",
              "    </tr>\n",
              "    <tr>\n",
              "      <th>РОО</th>\n",
              "      <th></th>\n",
              "      <th></th>\n",
              "      <th></th>\n",
              "      <th></th>\n",
              "      <th></th>\n",
              "      <th></th>\n",
              "      <th></th>\n",
              "      <th></th>\n",
              "      <th></th>\n",
              "      <th></th>\n",
              "      <th></th>\n",
              "      <th></th>\n",
              "    </tr>\n",
              "  </thead>\n",
              "  <tbody>\n",
              "    <tr>\n",
              "      <th>Волгоград</th>\n",
              "      <td>0.000</td>\n",
              "      <td>0.00</td>\n",
              "      <td>0.00</td>\n",
              "      <td>3.585302e+07</td>\n",
              "      <td>28366471.75</td>\n",
              "      <td>126.39</td>\n",
              "      <td>1903911.825</td>\n",
              "      <td>519371.15</td>\n",
              "      <td>366.58</td>\n",
              "      <td>9355304.289</td>\n",
              "      <td>4770735.62</td>\n",
              "      <td>196.10</td>\n",
              "    </tr>\n",
              "    <tr>\n",
              "      <th>Краснодар</th>\n",
              "      <td>0.000</td>\n",
              "      <td>97149862.23</td>\n",
              "      <td>0.00</td>\n",
              "      <td>5.102533e+07</td>\n",
              "      <td>53908823.25</td>\n",
              "      <td>94.65</td>\n",
              "      <td>0.000</td>\n",
              "      <td>6009620.63</td>\n",
              "      <td>0.00</td>\n",
              "      <td>701116.536</td>\n",
              "      <td>16328494.07</td>\n",
              "      <td>4.29</td>\n",
              "    </tr>\n",
              "    <tr>\n",
              "      <th>Нальчик</th>\n",
              "      <td>0.000</td>\n",
              "      <td>1890182.18</td>\n",
              "      <td>0.00</td>\n",
              "      <td>2.984166e+07</td>\n",
              "      <td>21865480.47</td>\n",
              "      <td>136.48</td>\n",
              "      <td>0.000</td>\n",
              "      <td>0.00</td>\n",
              "      <td>0.00</td>\n",
              "      <td>3970965.267</td>\n",
              "      <td>4316070.26</td>\n",
              "      <td>92.00</td>\n",
              "    </tr>\n",
              "    <tr>\n",
              "      <th>Ростов</th>\n",
              "      <td>1976396.325</td>\n",
              "      <td>20841642.11</td>\n",
              "      <td>9.48</td>\n",
              "      <td>1.194121e+08</td>\n",
              "      <td>77662151.06</td>\n",
              "      <td>153.76</td>\n",
              "      <td>312285.345</td>\n",
              "      <td>15105167.72</td>\n",
              "      <td>2.07</td>\n",
              "      <td>0.000</td>\n",
              "      <td>4201412.65</td>\n",
              "      <td>0.00</td>\n",
              "    </tr>\n",
              "    <tr>\n",
              "      <th>Ставрополь</th>\n",
              "      <td>0.000</td>\n",
              "      <td>0.00</td>\n",
              "      <td>0.00</td>\n",
              "      <td>4.900104e+06</td>\n",
              "      <td>5326736.08</td>\n",
              "      <td>91.99</td>\n",
              "      <td>0.000</td>\n",
              "      <td>3524417.50</td>\n",
              "      <td>0.00</td>\n",
              "      <td>0.000</td>\n",
              "      <td>1662527.41</td>\n",
              "      <td>0.00</td>\n",
              "    </tr>\n",
              "  </tbody>\n",
              "</table>\n",
              "</div>"
            ],
            "text/plain": [
              "Тип сокр    Банкротство МБ факт  Банкротство МБ план  % Банкротство МБ  \\\n",
              "РОО                                                                      \n",
              "Волгоград                 0.000                 0.00              0.00   \n",
              "Краснодар                 0.000          97149862.23              0.00   \n",
              "Нальчик                   0.000           1890182.18              0.00   \n",
              "Ростов              1976396.325          20841642.11              9.48   \n",
              "Ставрополь                0.000                 0.00              0.00   \n",
              "\n",
              "Тип сокр    Банкротство РБ факт  Банкротство РБ план  % Банкротство РБ  \\\n",
              "РОО                                                                      \n",
              "Волгоград          3.585302e+07          28366471.75            126.39   \n",
              "Краснодар          5.102533e+07          53908823.25             94.65   \n",
              "Нальчик            2.984166e+07          21865480.47            136.48   \n",
              "Ростов             1.194121e+08          77662151.06            153.76   \n",
              "Ставрополь         4.900104e+06           5326736.08             91.99   \n",
              "\n",
              "Тип сокр    Взыскание МБ факт  Взыскание МБ план  % Взыскание МБ  \\\n",
              "РОО                                                                \n",
              "Волгоград         1903911.825          519371.15          366.58   \n",
              "Краснодар               0.000         6009620.63            0.00   \n",
              "Нальчик                 0.000               0.00            0.00   \n",
              "Ростов             312285.345        15105167.72            2.07   \n",
              "Ставрополь              0.000         3524417.50            0.00   \n",
              "\n",
              "Тип сокр    Взыскание РБ факт  Взыскание РБ план  % Взыскание РБ  \n",
              "РОО                                                               \n",
              "Волгоград         9355304.289         4770735.62          196.10  \n",
              "Краснодар          701116.536        16328494.07            4.29  \n",
              "Нальчик           3970965.267         4316070.26           92.00  \n",
              "Ростов                  0.000         4201412.65            0.00  \n",
              "Ставрополь              0.000         1662527.41            0.00  "
            ]
          },
          "execution_count": 89,
          "metadata": {},
          "output_type": "execute_result"
        }
      ],
      "source": [
        "fact['% Банкротство РБ'] = fact['Банкротство РБ факт'] / fact['Банкротство РБ план'] * 100\n",
        "fact['% Банкротство МБ'] = fact['Банкротство МБ факт'] / fact['Банкротство МБ план'] * 100\n",
        "fact['% Взыскание РБ'] = fact['Взыскание РБ факт'] / fact['Взыскание РБ план'] * 100\n",
        "fact['% Взыскание МБ'] = fact['Взыскание МБ факт'] / fact['Взыскание МБ план'] * 100\n",
        "fact.fillna(0, inplace=True) \n",
        "\n",
        "result_table = fact[['Банкротство МБ факт', 'Банкротство МБ план', '% Банкротство МБ',\\\n",
        "              'Банкротство РБ факт', 'Банкротство РБ план', '% Банкротство РБ',\\\n",
        "              'Взыскание МБ факт', 'Взыскание МБ план', '% Взыскание МБ',\\\n",
        "              'Взыскание РБ факт', 'Взыскание РБ план', '% Взыскание РБ'\n",
        "        ]]\n",
        "\n",
        "perc_list = ['% Банкротство РБ','% Банкротство МБ',  '% Взыскание РБ', '% Взыскание МБ']\n",
        "\n",
        "for i in perc_list:\n",
        "    result_table[i] = result_table[i].apply(lambda x: float(f'{x: .2f}') )\n",
        "    \n",
        "\n",
        "result_table"
      ]
    },
    {
      "cell_type": "markdown",
      "id": "01295d08",
      "metadata": {
        "id": "01295d08"
      },
      "source": [
        "__Сохраняю преобразованный датафрейм с эксель:__"
      ]
    },
    {
      "cell_type": "code",
      "execution_count": null,
      "id": "d83aeb07",
      "metadata": {
        "id": "d83aeb07"
      },
      "outputs": [],
      "source": [
        "writer = pd.ExcelWriter('output.xlsx') # write dataframe to excel \n",
        "data_cuted.to_excel(writer) # save the excel \n",
        "writer.save()\n"
      ]
    }
  ],
  "metadata": {
    "kernelspec": {
      "display_name": "Python 3",
      "language": "python",
      "name": "python3"
    },
    "language_info": {
      "codemirror_mode": {
        "name": "ipython",
        "version": 3
      },
      "file_extension": ".py",
      "mimetype": "text/x-python",
      "name": "python",
      "nbconvert_exporter": "python",
      "pygments_lexer": "ipython3",
      "version": "3.8.8"
    },
    "colab": {
      "provenance": []
    }
  },
  "nbformat": 4,
  "nbformat_minor": 5
}